{
  "cells": [
    {
      "cell_type": "markdown",
      "metadata": {
        "id": "view-in-github",
        "colab_type": "text"
      },
      "source": [
        "<a href=\"https://colab.research.google.com/github/aayushdD/Art-generation/blob/master/ArtGeneration_GAN.ipynb\" target=\"_parent\"><img src=\"https://colab.research.google.com/assets/colab-badge.svg\" alt=\"Open In Colab\"/></a>"
      ]
    },
    {
      "cell_type": "code",
      "execution_count": 1,
      "metadata": {
        "id": "f34f2911"
      },
      "outputs": [],
      "source": [
        "import tensorflow as tf\n",
        "from tensorflow import keras\n",
        "import os"
      ],
      "id": "f34f2911"
    },
    {
      "cell_type": "code",
      "execution_count": 1,
      "metadata": {
        "id": "AJd6p-9rPYrB"
      },
      "outputs": [],
      "source": [
        ""
      ],
      "id": "AJd6p-9rPYrB"
    },
    {
      "cell_type": "code",
      "execution_count": 1,
      "metadata": {
        "id": "mEGELIzPNVyN"
      },
      "outputs": [],
      "source": [
        ""
      ],
      "id": "mEGELIzPNVyN"
    },
    {
      "cell_type": "code",
      "execution_count": 2,
      "metadata": {
        "id": "LegWVJOkNOrF"
      },
      "outputs": [],
      "source": [
        "from google.colab import drive\n",
        "\n"
      ],
      "id": "LegWVJOkNOrF"
    },
    {
      "cell_type": "code",
      "execution_count": 3,
      "metadata": {
        "colab": {
          "base_uri": "https://localhost:8080/"
        },
        "id": "Mx1RQAMoNnsq",
        "outputId": "7f028a1a-2667-433a-b6b4-6563bca48b7f"
      },
      "outputs": [
        {
          "output_type": "stream",
          "name": "stdout",
          "text": [
            "Mounted at /content/drive\n"
          ]
        }
      ],
      "source": [
        "drive.mount('/content/drive')"
      ],
      "id": "Mx1RQAMoNnsq"
    },
    {
      "cell_type": "code",
      "execution_count": 4,
      "metadata": {
        "id": "de38262b"
      },
      "outputs": [],
      "source": [
        "from PIL import Image\n",
        "import glob\n",
        "import cv2"
      ],
      "id": "de38262b"
    },
    {
      "cell_type": "code",
      "execution_count": 5,
      "metadata": {
        "id": "0da859bf"
      },
      "outputs": [],
      "source": [
        "image_list=[]"
      ],
      "id": "0da859bf"
    },
    {
      "cell_type": "code",
      "execution_count": null,
      "metadata": {
        "colab": {
          "base_uri": "https://localhost:8080/"
        },
        "id": "8bcc867b",
        "outputId": "0b086411-626d-4d8f-911a-c5adbe4de132"
      },
      "outputs": [
        {
          "output_type": "stream",
          "name": "stdout",
          "text": [
            "/content\n",
            "['.config', 'drive', 'sample_data']\n"
          ]
        }
      ],
      "source": [
        "print(os.getcwd())\n",
        "print(os.listdir())"
      ],
      "id": "8bcc867b"
    },
    {
      "cell_type": "code",
      "execution_count": null,
      "metadata": {
        "id": "wJfHha-ljYsD"
      },
      "outputs": [],
      "source": [
        ""
      ],
      "id": "wJfHha-ljYsD"
    },
    {
      "cell_type": "code",
      "execution_count": null,
      "metadata": {
        "colab": {
          "base_uri": "https://localhost:8080/"
        },
        "id": "Vtp8NeUcjj6R",
        "outputId": "0b693bbe-d125-4dc5-cfad-f7e70bfb4384"
      },
      "outputs": [
        {
          "output_type": "execute_result",
          "data": {
            "text/plain": [
              "['.config', 'drive', 'sample_data']"
            ]
          },
          "metadata": {},
          "execution_count": 8
        }
      ],
      "source": [
        "os.listdir()"
      ],
      "id": "Vtp8NeUcjj6R"
    },
    {
      "cell_type": "code",
      "execution_count": null,
      "metadata": {
        "id": "80cd0a9b"
      },
      "outputs": [],
      "source": [
        "ll=os.walk(os.path.join(os.getcwd(),'drive\\resized\\resized'))"
      ],
      "id": "80cd0a9b"
    },
    {
      "cell_type": "code",
      "execution_count": null,
      "metadata": {
        "id": "2lzZrFRBjNQr"
      },
      "outputs": [],
      "source": [
        ""
      ],
      "id": "2lzZrFRBjNQr"
    },
    {
      "cell_type": "code",
      "execution_count": 6,
      "metadata": {
        "id": "Ww0EHPjGjEcm"
      },
      "outputs": [],
      "source": [
        "import numpy as np"
      ],
      "id": "Ww0EHPjGjEcm"
    },
    {
      "cell_type": "code",
      "execution_count": null,
      "metadata": {
        "id": "41d7599a"
      },
      "outputs": [],
      "source": [
        "for i , j , k in ll:\n",
        "    path=i.split(os.sep)\n",
        "    print(path)"
      ],
      "id": "41d7599a"
    },
    {
      "cell_type": "code",
      "execution_count": null,
      "metadata": {
        "id": "0f0df959"
      },
      "outputs": [],
      "source": [
        "images=[]\n",
        "for i , j , k in os.walk(os.path.join(os.getcwd(),'drive/MyDrive/resized/resized')):\n",
        "    image_list=os.listdir(i)\n",
        "    for image in image_list:\n",
        "        instance=cv2.imread(os.path.join(i,image))\n",
        "        instance=cv2.cvtColor(instance, cv2.COLOR_BGR2RGB)\n",
        "        ins=cv2.resize(instance,(64,64)).astype('float32')\n",
        "        ins=(ins-127.5)/127.5\n",
        "        images.append(ins)\n",
        "\n",
        "images=np.array(images)\n",
        "    \n",
        "    "
      ],
      "id": "0f0df959"
    },
    {
      "cell_type": "code",
      "source": [
        ""
      ],
      "metadata": {
        "id": "NvPz70UtczPO",
        "colab": {
          "base_uri": "https://localhost:8080/",
          "height": 35
        },
        "outputId": "ce71e6d8-ff88-4929-9db9-7b3f163f0ac8"
      },
      "id": "NvPz70UtczPO",
      "execution_count": null,
      "outputs": [
        {
          "output_type": "execute_result",
          "data": {
            "text/plain": [
              "'/content'"
            ],
            "application/vnd.google.colaboratory.intrinsic+json": {
              "type": "string"
            }
          },
          "metadata": {},
          "execution_count": 10
        }
      ]
    },
    {
      "cell_type": "code",
      "execution_count": null,
      "metadata": {
        "colab": {
          "base_uri": "https://localhost:8080/"
        },
        "id": "ARGr-wGCjLDf",
        "outputId": "e09f9dc6-48a9-4ad0-c49d-d70fa6e306fe"
      },
      "outputs": [
        {
          "output_type": "execute_result",
          "data": {
            "text/plain": [
              "(8683, 64, 64, 3)"
            ]
          },
          "metadata": {},
          "execution_count": 8
        }
      ],
      "source": [
        "images.shape"
      ],
      "id": "ARGr-wGCjLDf"
    },
    {
      "cell_type": "code",
      "source": [
        "np.save(os.path.join(os.getcwd(),'drive/MyDrive/art_gen_training_64'),images)"
      ],
      "metadata": {
        "id": "CiC3Kka1UI0F"
      },
      "id": "CiC3Kka1UI0F",
      "execution_count": null,
      "outputs": []
    },
    {
      "cell_type": "code",
      "source": [
        "images=np.load('drive/MyDrive/art_gen_training_64.npy')\n",
        "print(images.shape)"
      ],
      "metadata": {
        "colab": {
          "base_uri": "https://localhost:8080/"
        },
        "id": "O8P9jc2PdUqZ",
        "outputId": "21bda20e-c73d-4216-baf6-90e4cec5f4d1"
      },
      "id": "O8P9jc2PdUqZ",
      "execution_count": 7,
      "outputs": [
        {
          "output_type": "stream",
          "name": "stdout",
          "text": [
            "(8683, 64, 64, 3)\n"
          ]
        }
      ]
    },
    {
      "cell_type": "code",
      "execution_count": 8,
      "metadata": {
        "id": "25fa083e"
      },
      "outputs": [],
      "source": [
        "import numpy as np\n",
        "import matplotlib.pyplot as plt "
      ],
      "id": "25fa083e"
    },
    {
      "cell_type": "code",
      "execution_count": 9,
      "metadata": {
        "colab": {
          "base_uri": "https://localhost:8080/"
        },
        "id": "fd5dd2c9",
        "outputId": "907ed314-8adb-42ef-80da-5a9ccbce64f8"
      },
      "outputs": [
        {
          "output_type": "execute_result",
          "data": {
            "text/plain": [
              "8683"
            ]
          },
          "metadata": {},
          "execution_count": 9
        }
      ],
      "source": [
        "len(images)"
      ],
      "id": "fd5dd2c9"
    },
    {
      "cell_type": "code",
      "execution_count": 10,
      "metadata": {
        "colab": {
          "base_uri": "https://localhost:8080/"
        },
        "id": "e2344420",
        "outputId": "2804de68-4c1e-466b-b8a7-4ec6ce12f50c"
      },
      "outputs": [
        {
          "output_type": "execute_result",
          "data": {
            "text/plain": [
              "(64, 64, 3)"
            ]
          },
          "metadata": {},
          "execution_count": 10
        }
      ],
      "source": [
        "images[0].shape"
      ],
      "id": "e2344420"
    },
    {
      "cell_type": "code",
      "source": [
        "images[0]*127.5+127.5"
      ],
      "metadata": {
        "colab": {
          "base_uri": "https://localhost:8080/"
        },
        "id": "XC-NsRYKYMPm",
        "outputId": "531ec15b-ae7c-4b13-bd15-703e346e0fd1"
      },
      "id": "XC-NsRYKYMPm",
      "execution_count": 11,
      "outputs": [
        {
          "output_type": "execute_result",
          "data": {
            "text/plain": [
              "array([[[58., 44., 36.],\n",
              "        [52., 35., 25.],\n",
              "        [53., 41., 33.],\n",
              "        ...,\n",
              "        [15., 21., 35.],\n",
              "        [ 9., 18., 37.],\n",
              "        [ 6., 12., 24.]],\n",
              "\n",
              "       [[43., 29., 20.],\n",
              "        [45., 31., 22.],\n",
              "        [43., 29., 20.],\n",
              "        ...,\n",
              "        [ 7., 18., 35.],\n",
              "        [10., 21., 41.],\n",
              "        [ 9., 24., 43.]],\n",
              "\n",
              "       [[44., 31., 22.],\n",
              "        [41., 28., 19.],\n",
              "        [43., 29., 20.],\n",
              "        ...,\n",
              "        [13., 21., 42.],\n",
              "        [13., 29., 45.],\n",
              "        [13., 30., 48.]],\n",
              "\n",
              "       ...,\n",
              "\n",
              "       [[27., 14.,  8.],\n",
              "        [45., 32., 23.],\n",
              "        [49., 35., 26.],\n",
              "        ...,\n",
              "        [34., 19., 12.],\n",
              "        [22.,  9.,  1.],\n",
              "        [13.,  5.,  2.]],\n",
              "\n",
              "       [[23., 10.,  1.],\n",
              "        [41., 25., 18.],\n",
              "        [43., 30., 20.],\n",
              "        ...,\n",
              "        [41., 26., 19.],\n",
              "        [41., 26., 19.],\n",
              "        [17.,  8.,  6.]],\n",
              "\n",
              "       [[45., 32., 23.],\n",
              "        [47., 30., 23.],\n",
              "        [51., 37., 28.],\n",
              "        ...,\n",
              "        [36., 25., 16.],\n",
              "        [21.,  9.,  4.],\n",
              "        [11.,  6.,  4.]]], dtype=float32)"
            ]
          },
          "metadata": {},
          "execution_count": 11
        }
      ]
    },
    {
      "cell_type": "code",
      "source": [
        "plt.imshow((images[0]*127.5+127.5).astype(np.int32))"
      ],
      "metadata": {
        "colab": {
          "base_uri": "https://localhost:8080/",
          "height": 285
        },
        "id": "eSznW-QJXF6E",
        "outputId": "03527b23-0d42-4689-e2ff-b0aa84a5a954"
      },
      "id": "eSznW-QJXF6E",
      "execution_count": 12,
      "outputs": [
        {
          "output_type": "execute_result",
          "data": {
            "text/plain": [
              "<matplotlib.image.AxesImage at 0x7f8313c64f50>"
            ]
          },
          "metadata": {},
          "execution_count": 12
        },
        {
          "output_type": "display_data",
          "data": {
            "text/plain": [
              "<Figure size 432x288 with 1 Axes>"
            ],
            "image/png": "[encoded data removed]"
          },
          "metadata": {
            "needs_background": "light"
          }
        }
      ]
    },
    {
      "cell_type": "code",
      "execution_count": null,
      "metadata": {
        "id": "cf7b883f"
      },
      "outputs": [],
      "source": [
        "discriminator=keras.models.Sequential([\n",
        "    keras.layers.Conv2D(64, kernel_size=4,strides=2, padding='same', input_shape=[64,64,3]),\n",
        "    keras.layers.BatchNormalization(),\n",
        "    keras.layers.LeakyReLU(),\n",
        "    \n",
        "    keras.layers.Conv2D(128,kernel_size=4,strides=2,padding='same'),\n",
        "    keras.layers.BatchNormalization(),\n",
        "    keras.layers.LeakyReLU(),\n",
        "    \n",
        "    keras.layers.Conv2D(256,kernel_size=4,strides=2,padding='same'),\n",
        "    keras.layers.BatchNormalization(),\n",
        "    keras.layers.LeakyReLU(),\n",
        "    \n",
        "    keras.layers.Conv2D(512,kernel_size=4,strides=2,padding='same'),\n",
        "    keras.layers.BatchNormalization(),\n",
        "    keras.layers.LeakyReLU(),\n",
        "    \n",
        "    keras.layers.Conv2D(1,kernel_size=1,strides=1,padding='valid',activation='relu'),\n",
        "    keras.layers.Flatten(),\n",
        "    keras.layers.Dense(1,activation='sigmoid')\n",
        "   \n",
        "])"
      ],
      "id": "cf7b883f"
    },
    {
      "cell_type": "code",
      "source": [
        "from tensorflow.keras.layers import Input, Reshape, Dropout, Dense \n",
        "from tensorflow.keras.layers import Flatten, BatchNormalization\n",
        "from tensorflow.keras.layers import Activation, ZeroPadding2D\n",
        "from tensorflow.keras.layers import LeakyReLU\n",
        "from tensorflow.keras.layers import UpSampling2D, Conv2D\n",
        "from tensorflow.keras.models import Sequential, Model, load_model"
      ],
      "metadata": {
        "id": "McYAC8fRd0xG"
      },
      "id": "McYAC8fRd0xG",
      "execution_count": 16,
      "outputs": []
    },
    {
      "cell_type": "code",
      "source": [
        "def build_discriminator(image_shape):\n",
        "    model = Sequential()\n",
        "\n",
        "    model.add(Conv2D(32, kernel_size=3, strides=2, input_shape=image_shape, \n",
        "                     padding=\"same\"))\n",
        "    model.add(LeakyReLU(alpha=0.2))\n",
        "\n",
        "    model.add(Dropout(0.25))\n",
        "    model.add(Conv2D(64, kernel_size=3, strides=2, padding=\"same\"))\n",
        "    model.add(ZeroPadding2D(padding=((0,1),(0,1))))\n",
        "    model.add(BatchNormalization(momentum=0.8))\n",
        "    model.add(LeakyReLU(alpha=0.2))\n",
        "\n",
        "    model.add(Dropout(0.25))\n",
        "    model.add(Conv2D(128, kernel_size=3, strides=2, padding=\"same\"))\n",
        "    model.add(BatchNormalization(momentum=0.8))\n",
        "    model.add(LeakyReLU(alpha=0.2))\n",
        "\n",
        "    model.add(Dropout(0.25))\n",
        "    model.add(Conv2D(256, kernel_size=3, strides=1, padding=\"same\"))\n",
        "    model.add(BatchNormalization(momentum=0.8))\n",
        "    model.add(LeakyReLU(alpha=0.2))\n",
        "\n",
        "    model.add(Dropout(0.25))\n",
        "    model.add(Conv2D(512, kernel_size=3, strides=1, padding=\"same\"))\n",
        "    model.add(BatchNormalization(momentum=0.8))\n",
        "    model.add(LeakyReLU(alpha=0.2))\n",
        "\n",
        "    model.add(Dropout(0.25))\n",
        "    model.add(Flatten())\n",
        "    model.add(Dense(1, activation='sigmoid'))\n",
        "\n",
        "    return model"
      ],
      "metadata": {
        "id": "aI31s-mHiKDG"
      },
      "id": "aI31s-mHiKDG",
      "execution_count": 17,
      "outputs": []
    },
    {
      "cell_type": "code",
      "source": [
        "image_shape=[64,64,3]"
      ],
      "metadata": {
        "id": "zo3HL-4hiMI3"
      },
      "id": "zo3HL-4hiMI3",
      "execution_count": 18,
      "outputs": []
    },
    {
      "cell_type": "code",
      "source": [
        "discriminator=build_discriminator(image_shape)"
      ],
      "metadata": {
        "id": "1_f_2lUriaCr"
      },
      "id": "1_f_2lUriaCr",
      "execution_count": 19,
      "outputs": []
    },
    {
      "cell_type": "code",
      "execution_count": 20,
      "metadata": {
        "colab": {
          "base_uri": "https://localhost:8080/"
        },
        "id": "db6c6817",
        "outputId": "a11ff8d4-3ecb-4469-ed9c-438313080cb6",
        "scrolled": true
      },
      "outputs": [
        {
          "output_type": "stream",
          "name": "stdout",
          "text": [
            "Model: \"sequential\"\n",
            "_________________________________________________________________\n",
            " Layer (type)                Output Shape              Param #   \n",
            "=================================================================\n",
            " conv2d (Conv2D)             (None, 32, 32, 32)        896       \n",
            "                                                                 \n",
            " leaky_re_lu (LeakyReLU)     (None, 32, 32, 32)        0         \n",
            "                                                                 \n",
            " dropout (Dropout)           (None, 32, 32, 32)        0         \n",
            "                                                                 \n",
            " conv2d_1 (Conv2D)           (None, 16, 16, 64)        18496     \n",
            "                                                                 \n",
            " zero_padding2d (ZeroPadding  (None, 17, 17, 64)       0         \n",
            " 2D)                                                             \n",
            "                                                                 \n",
            " batch_normalization (BatchN  (None, 17, 17, 64)       256       \n",
            " ormalization)                                                   \n",
            "                                                                 \n",
            " leaky_re_lu_1 (LeakyReLU)   (None, 17, 17, 64)        0         \n",
            "                                                                 \n",
            " dropout_1 (Dropout)         (None, 17, 17, 64)        0         \n",
            "                                                                 \n",
            " conv2d_2 (Conv2D)           (None, 9, 9, 128)         73856     \n",
            "                                                                 \n",
            " batch_normalization_1 (Batc  (None, 9, 9, 128)        512       \n",
            " hNormalization)                                                 \n",
            "                                                                 \n",
            " leaky_re_lu_2 (LeakyReLU)   (None, 9, 9, 128)         0         \n",
            "                                                                 \n",
            " dropout_2 (Dropout)         (None, 9, 9, 128)         0         \n",
            "                                                                 \n",
            " conv2d_3 (Conv2D)           (None, 9, 9, 256)         295168    \n",
            "                                                                 \n",
            " batch_normalization_2 (Batc  (None, 9, 9, 256)        1024      \n",
            " hNormalization)                                                 \n",
            "                                                                 \n",
            " leaky_re_lu_3 (LeakyReLU)   (None, 9, 9, 256)         0         \n",
            "                                                                 \n",
            " dropout_3 (Dropout)         (None, 9, 9, 256)         0         \n",
            "                                                                 \n",
            " conv2d_4 (Conv2D)           (None, 9, 9, 512)         1180160   \n",
            "                                                                 \n",
            " batch_normalization_3 (Batc  (None, 9, 9, 512)        2048      \n",
            " hNormalization)                                                 \n",
            "                                                                 \n",
            " leaky_re_lu_4 (LeakyReLU)   (None, 9, 9, 512)         0         \n",
            "                                                                 \n",
            " dropout_4 (Dropout)         (None, 9, 9, 512)         0         \n",
            "                                                                 \n",
            " flatten (Flatten)           (None, 41472)             0         \n",
            "                                                                 \n",
            " dense (Dense)               (None, 1)                 41473     \n",
            "                                                                 \n",
            "=================================================================\n",
            "Total params: 1,613,889\n",
            "Trainable params: 1,611,969\n",
            "Non-trainable params: 1,920\n",
            "_________________________________________________________________\n"
          ]
        }
      ],
      "source": [
        "discriminator.summary()"
      ],
      "id": "db6c6817"
    },
    {
      "cell_type": "code",
      "execution_count": 21,
      "metadata": {
        "id": "a46a426a"
      },
      "outputs": [],
      "source": [
        "latent_size=128\n",
        "batch_size=32"
      ],
      "id": "a46a426a"
    },
    {
      "cell_type": "code",
      "source": [
        "\n"
      ],
      "metadata": {
        "id": "Mfp2geCvvCbS"
      },
      "id": "Mfp2geCvvCbS",
      "execution_count": 21,
      "outputs": []
    },
    {
      "cell_type": "code",
      "source": [
        "GENERATE_RES=2\n",
        "seed_size=128"
      ],
      "metadata": {
        "id": "Z_T9HNg6vilP"
      },
      "id": "Z_T9HNg6vilP",
      "execution_count": 27,
      "outputs": []
    },
    {
      "cell_type": "code",
      "source": [
        "def build_generator(seed_size, channels):\n",
        "    model = Sequential()\n",
        "\n",
        "    model.add(Dense(4*4*512,activation=\"relu\",input_dim=seed_size))\n",
        "    model.add(Reshape((4,4,512)))\n",
        "\n",
        "    model.add(UpSampling2D())\n",
        "    model.add(Conv2D(512,kernel_size=3,padding=\"same\"))\n",
        "    model.add(BatchNormalization(momentum=0.8))\n",
        "    model.add(Activation(\"relu\"))\n",
        "\n",
        "    model.add(UpSampling2D())\n",
        "    model.add(Conv2D(256,kernel_size=3,padding=\"same\"))\n",
        "    model.add(BatchNormalization(momentum=0.8))\n",
        "    model.add(Activation(\"relu\"))\n",
        "   \n",
        "    # Output resolution, additional upsampling\n",
        "    model.add(UpSampling2D())\n",
        "    model.add(Conv2D(128,kernel_size=3,padding=\"same\"))\n",
        "    model.add(BatchNormalization(momentum=0.8))\n",
        "    model.add(Activation(\"relu\"))\n",
        "\n",
        "    if GENERATE_RES>1:\n",
        "      model.add(UpSampling2D(size=(GENERATE_RES,GENERATE_RES)))\n",
        "      model.add(Conv2D(64,kernel_size=3,padding=\"same\"))\n",
        "      model.add(BatchNormalization(momentum=0.8))\n",
        "      model.add(Activation(\"relu\"))\n",
        "\n",
        "    #   model.add(UpSampling2D(size=(GENERATE_RES,GENERATE_RES)))\n",
        "    #   model.add(Conv2D(64,kernel_size=3,padding=\"same\"))\n",
        "    #   model.add(BatchNormalization(momentum=0.8))\n",
        "    #   model.add(Activation(\"relu\"))\n",
        "\n",
        "\n",
        "    # Final CNN layer\n",
        "    model.add(Conv2D(channels,kernel_size=3,padding=\"same\"))\n",
        "    model.add(Activation(\"tanh\"))\n",
        "\n",
        "    return model"
      ],
      "metadata": {
        "id": "kFoD_uC-u-iz"
      },
      "id": "kFoD_uC-u-iz",
      "execution_count": 28,
      "outputs": []
    },
    {
      "cell_type": "code",
      "source": [
        "generator=build_generator(seed_size,3)"
      ],
      "metadata": {
        "id": "ycXnugO3u_-7"
      },
      "id": "ycXnugO3u_-7",
      "execution_count": 29,
      "outputs": []
    },
    {
      "cell_type": "code",
      "source": [
        "from keras import layers"
      ],
      "metadata": {
        "id": "GsZEaP66Y48c"
      },
      "id": "GsZEaP66Y48c",
      "execution_count": 30,
      "outputs": []
    },
    {
      "cell_type": "code",
      "execution_count": 31,
      "metadata": {
        "colab": {
          "base_uri": "https://localhost:8080/"
        },
        "id": "aa85150f",
        "outputId": "dc6814c1-fb30-463a-ec03-b7322ac5f227",
        "scrolled": true
      },
      "outputs": [
        {
          "output_type": "stream",
          "name": "stdout",
          "text": [
            "Model: \"sequential_2\"\n",
            "_________________________________________________________________\n",
            " Layer (type)                Output Shape              Param #   \n",
            "=================================================================\n",
            " dense_2 (Dense)             (None, 8192)              1056768   \n",
            "                                                                 \n",
            " reshape_1 (Reshape)         (None, 4, 4, 512)         0         \n",
            "                                                                 \n",
            " up_sampling2d_4 (UpSampling  (None, 8, 8, 512)        0         \n",
            " 2D)                                                             \n",
            "                                                                 \n",
            " conv2d_10 (Conv2D)          (None, 8, 8, 512)         2359808   \n",
            "                                                                 \n",
            " batch_normalization_8 (Batc  (None, 8, 8, 512)        2048      \n",
            " hNormalization)                                                 \n",
            "                                                                 \n",
            " activation_5 (Activation)   (None, 8, 8, 512)         0         \n",
            "                                                                 \n",
            " up_sampling2d_5 (UpSampling  (None, 16, 16, 512)      0         \n",
            " 2D)                                                             \n",
            "                                                                 \n",
            " conv2d_11 (Conv2D)          (None, 16, 16, 256)       1179904   \n",
            "                                                                 \n",
            " batch_normalization_9 (Batc  (None, 16, 16, 256)      1024      \n",
            " hNormalization)                                                 \n",
            "                                                                 \n",
            " activation_6 (Activation)   (None, 16, 16, 256)       0         \n",
            "                                                                 \n",
            " up_sampling2d_6 (UpSampling  (None, 32, 32, 256)      0         \n",
            " 2D)                                                             \n",
            "                                                                 \n",
            " conv2d_12 (Conv2D)          (None, 32, 32, 128)       295040    \n",
            "                                                                 \n",
            " batch_normalization_10 (Bat  (None, 32, 32, 128)      512       \n",
            " chNormalization)                                                \n",
            "                                                                 \n",
            " activation_7 (Activation)   (None, 32, 32, 128)       0         \n",
            "                                                                 \n",
            " up_sampling2d_7 (UpSampling  (None, 64, 64, 128)      0         \n",
            " 2D)                                                             \n",
            "                                                                 \n",
            " conv2d_13 (Conv2D)          (None, 64, 64, 64)        73792     \n",
            "                                                                 \n",
            " batch_normalization_11 (Bat  (None, 64, 64, 64)       256       \n",
            " chNormalization)                                                \n",
            "                                                                 \n",
            " activation_8 (Activation)   (None, 64, 64, 64)        0         \n",
            "                                                                 \n",
            " conv2d_14 (Conv2D)          (None, 64, 64, 3)         1731      \n",
            "                                                                 \n",
            " activation_9 (Activation)   (None, 64, 64, 3)         0         \n",
            "                                                                 \n",
            "=================================================================\n",
            "Total params: 4,970,883\n",
            "Trainable params: 4,968,963\n",
            "Non-trainable params: 1,920\n",
            "_________________________________________________________________\n"
          ]
        }
      ],
      "source": [
        "generator.summary()"
      ],
      "id": "aa85150f"
    },
    {
      "cell_type": "code",
      "execution_count": 32,
      "metadata": {
        "id": "61b31e78"
      },
      "outputs": [],
      "source": [
        "cross_entropy=keras.losses.BinaryCrossentropy()"
      ],
      "id": "61b31e78"
    },
    {
      "cell_type": "code",
      "execution_count": 33,
      "metadata": {
        "id": "7cfceb9d"
      },
      "outputs": [],
      "source": [
        "def discriminator_loss(real_output,fake_output):\n",
        "    real_loss=cross_entropy(tf.ones_like(real_output),real_output)\n",
        "    fake_loss=cross_entropy(tf.zeros_like(fake_output),fake_output)\n",
        "    total_loss=real_loss+fake_loss\n",
        "    return total_loss\n",
        "\n",
        "    "
      ],
      "id": "7cfceb9d"
    },
    {
      "cell_type": "code",
      "execution_count": 34,
      "metadata": {
        "id": "534e9438"
      },
      "outputs": [],
      "source": [
        "def generator_loss(fake_output):\n",
        "    gen_loss=cross_entropy(tf.ones_like(fake_output),fake_output)\n",
        "    return gen_loss"
      ],
      "id": "534e9438"
    },
    {
      "cell_type": "code",
      "execution_count": 62,
      "metadata": {
        "id": "7dfe6ae8"
      },
      "outputs": [],
      "source": [
        "gen_opt=keras.optimizers.Adam(0.002)\n",
        "dis_opt=keras.optimizers.Adam(0.002)\n",
        "batch_size=32"
      ],
      "id": "7dfe6ae8"
    },
    {
      "cell_type": "code",
      "execution_count": 63,
      "metadata": {
        "id": "b3cddae6"
      },
      "outputs": [],
      "source": [
        "@tf.function\n",
        "def train_step(images):\n",
        "    noise=tf.random.normal([batch_size,seed_size])\n",
        "    \n",
        "    with tf.GradientTape() as gen_tape , tf.GradientTape() as dis_tape:\n",
        "        gen_images=generator(noise,training=True)\n",
        "        \n",
        "        real_output=discriminator(images,training=True)\n",
        "        fake_output=discriminator(gen_images,training=True)\n",
        "        \n",
        "        gen_loss=generator_loss(fake_output)\n",
        "        dis_loss=discriminator_loss(real_output,fake_output)\n",
        "        \n",
        "    gen_gradients=gen_tape.gradient(gen_loss,generator.trainable_variables)\n",
        "    dis_gradients=dis_tape.gradient(dis_loss,discriminator.trainable_variables)\n",
        "    \n",
        "    gen_opt.apply_gradients(zip(gen_gradients,generator.trainable_variables))\n",
        "    dis_opt.apply_gradients(zip(dis_gradients,discriminator.trainable_variables))\n",
        "    \n",
        "    return gen_loss, dis_loss,gen_images[0]"
      ],
      "id": "b3cddae6"
    },
    {
      "cell_type": "code",
      "execution_count": 64,
      "metadata": {
        "id": "1f53e100"
      },
      "outputs": [],
      "source": [
        "import time\n",
        "from IPython import display"
      ],
      "id": "1f53e100"
    },
    {
      "cell_type": "code",
      "execution_count": 65,
      "metadata": {
        "id": "2b0966af"
      },
      "outputs": [],
      "source": [
        "def train_tot(dataset,epochs):\n",
        "  for epoch in range(epochs):\n",
        "    start=time.time()      \n",
        "    for image_batch in dataset:\n",
        "      gen_loss,dis_loss,gen_img=train_step(image_batch)    \n",
        "    print(gen_loss,dis_loss)\n",
        "  return gen_img\n",
        "    "
      ],
      "id": "2b0966af"
    },
    {
      "cell_type": "code",
      "execution_count": 66,
      "metadata": {
        "id": "57498f26"
      },
      "outputs": [],
      "source": [
        "\n",
        "buffer=600"
      ],
      "id": "57498f26"
    },
    {
      "cell_type": "code",
      "execution_count": 40,
      "metadata": {
        "id": "dbf2f4ce"
      },
      "outputs": [],
      "source": [
        "dataset=tf.data.Dataset.from_tensor_slices(images).shuffle(buffer).batch(batch_size)\n"
      ],
      "id": "dbf2f4ce"
    },
    {
      "cell_type": "code",
      "execution_count": 67,
      "metadata": {
        "id": "083ebf3d",
        "colab": {
          "base_uri": "https://localhost:8080/"
        },
        "outputId": "73048d41-ca12-4d98-efc3-16bf6fe2e8c1"
      },
      "outputs": [
        {
          "output_type": "stream",
          "name": "stdout",
          "text": [
            "tf.Tensor(\n",
            "[[[[-0.14509805 -0.10588235  0.04313726]\n",
            "   [ 0.07450981  0.15294118  0.34901962]\n",
            "   [ 0.09803922  0.21568628  0.4509804 ]\n",
            "   ...\n",
            "   [ 0.00392157  0.18431373  0.5294118 ]\n",
            "   [ 0.11372549  0.33333334  0.58431375]\n",
            "   [ 0.00392157  0.28627452  0.5137255 ]]\n",
            "\n",
            "  [[-0.34117648 -0.2627451   0.01960784]\n",
            "   [-0.01176471  0.08235294  0.21568628]\n",
            "   [-0.09803922 -0.04313726  0.1764706 ]\n",
            "   ...\n",
            "   [ 0.10588235  0.28627452  0.54509807]\n",
            "   [ 0.09803922  0.3019608   0.5058824 ]\n",
            "   [ 0.15294118  0.39607844  0.6392157 ]]\n",
            "\n",
            "  [[-0.05098039  0.00392157  0.23921569]\n",
            "   [ 0.08235294  0.10588235  0.38039216]\n",
            "   [-0.04313726 -0.01960784  0.24705882]\n",
            "   ...\n",
            "   [ 0.05098039  0.23137255  0.56078434]\n",
            "   [ 0.14509805  0.3019608   0.654902  ]\n",
            "   [ 0.24705882  0.39607844  0.6       ]]\n",
            "\n",
            "  ...\n",
            "\n",
            "  [[ 0.4117647   0.14509805 -0.2627451 ]\n",
            "   [ 0.54509807  0.23137255 -0.31764707]\n",
            "   [ 0.5372549   0.16078432 -0.34901962]\n",
            "   ...\n",
            "   [ 0.22352941  0.06666667 -0.24705882]\n",
            "   [ 0.29411766  0.16862746 -0.11372549]\n",
            "   [ 0.00392157 -0.21568628 -0.40392157]]\n",
            "\n",
            "  [[-0.16862746 -0.3647059  -0.8117647 ]\n",
            "   [ 0.49019608  0.22352941 -0.27058825]\n",
            "   [ 0.37254903  0.12941177 -0.37254903]\n",
            "   ...\n",
            "   [ 0.33333334  0.18431373 -0.15294118]\n",
            "   [ 0.33333334  0.07450981 -0.2627451 ]\n",
            "   [-0.13725491 -0.34117648 -0.5686275 ]]\n",
            "\n",
            "  [[ 0.05882353 -0.07450981 -0.35686275]\n",
            "   [ 0.4117647   0.16862746 -0.19215687]\n",
            "   [ 0.5137255   0.22352941 -0.2       ]\n",
            "   ...\n",
            "   [ 0.33333334  0.21568628 -0.14509805]\n",
            "   [ 0.34901962  0.13725491 -0.27058825]\n",
            "   [-0.38039216 -0.5294118  -0.6627451 ]]]\n",
            "\n",
            "\n",
            " [[[ 0.49019608  0.08235294 -0.5764706 ]\n",
            "   [ 0.4745098   0.09019608 -0.64705884]\n",
            "   [ 0.45882353  0.06666667 -0.6784314 ]\n",
            "   ...\n",
            "   [ 0.78039217  0.1764706  -0.67058825]\n",
            "   [ 0.78039217  0.2        -0.6392157 ]\n",
            "   [ 0.8666667   0.38039216 -0.45882353]]\n",
            "\n",
            "  [[ 0.7019608   0.3647059  -0.37254903]\n",
            "   [ 0.44313726  0.01176471 -0.6156863 ]\n",
            "   [ 0.3882353  -0.05098039 -0.7176471 ]\n",
            "   ...\n",
            "   [ 0.827451    0.22352941 -0.62352943]\n",
            "   [ 0.77254903  0.16078432 -0.69411767]\n",
            "   [ 0.9372549   0.38039216 -0.5137255 ]]\n",
            "\n",
            "  [[ 0.54509807  0.15294118 -0.5921569 ]\n",
            "   [ 0.48235294  0.09019608 -0.6627451 ]\n",
            "   [ 0.6         0.20784314 -0.5529412 ]\n",
            "   ...\n",
            "   [ 0.79607844  0.21568628 -0.6313726 ]\n",
            "   [ 0.78039217  0.15294118 -0.6392157 ]\n",
            "   [ 0.73333335  0.23921569 -0.60784316]]\n",
            "\n",
            "  ...\n",
            "\n",
            "  [[ 0.78039217  0.5529412   0.2784314 ]\n",
            "   [ 0.12941177 -0.42745098 -0.62352943]\n",
            "   [-0.04313726 -0.5921569  -0.81960785]\n",
            "   ...\n",
            "   [-0.40392157 -0.8352941  -0.92156863]\n",
            "   [-0.30980393 -0.67058825 -0.8980392 ]\n",
            "   [-0.05882353 -0.3882353  -0.70980394]]\n",
            "\n",
            "  [[ 0.00392157 -0.4117647  -0.69411767]\n",
            "   [ 0.48235294  0.05882353 -0.12941177]\n",
            "   [ 0.64705884  0.24705882  0.06666667]\n",
            "   ...\n",
            "   [-0.39607844 -0.8039216  -0.9843137 ]\n",
            "   [-0.3882353  -0.75686276 -0.8980392 ]\n",
            "   [ 0.12941177 -0.19215687 -0.3647059 ]]\n",
            "\n",
            "  [[ 0.07450981 -0.3254902  -0.56078434]\n",
            "   [ 0.31764707 -0.15294118 -0.39607844]\n",
            "   [ 0.05098039 -0.30980393 -0.60784316]\n",
            "   ...\n",
            "   [ 0.09803922 -0.24705882 -0.58431375]\n",
            "   [-0.2        -0.6392157  -0.84313726]\n",
            "   [ 0.8039216   0.5764706   0.25490198]]]\n",
            "\n",
            "\n",
            " [[[ 0.06666667  0.11372549 -0.56078434]\n",
            "   [ 0.00392157  0.05098039 -0.62352943]\n",
            "   [ 0.07450981  0.12156863 -0.5529412 ]\n",
            "   ...\n",
            "   [ 0.21568628  0.20784314 -0.52156866]\n",
            "   [ 0.18431373  0.21568628 -0.5294118 ]\n",
            "   [ 0.1764706   0.2        -0.5058824 ]]\n",
            "\n",
            "  [[ 0.07450981  0.16078432 -0.49803922]\n",
            "   [ 0.11372549  0.13725491 -0.52156866]\n",
            "   [ 0.11372549  0.13725491 -0.52156866]\n",
            "   ...\n",
            "   [ 0.18431373  0.1764706  -0.5529412 ]\n",
            "   [ 0.18431373  0.21568628 -0.5294118 ]\n",
            "   [ 0.18431373  0.21568628 -0.52156866]]\n",
            "\n",
            "  [[ 0.00392157  0.09803922 -0.5058824 ]\n",
            "   [ 0.03529412  0.11372549 -0.5686275 ]\n",
            "   [ 0.06666667  0.14509805 -0.5686275 ]\n",
            "   ...\n",
            "   [ 0.15294118  0.15294118 -0.5921569 ]\n",
            "   [ 0.24705882  0.24705882 -0.5294118 ]\n",
            "   [ 0.16862746  0.19215687 -0.5058824 ]]\n",
            "\n",
            "  ...\n",
            "\n",
            "  [[ 0.23921569  0.18431373 -0.5137255 ]\n",
            "   [ 0.05882353  0.05098039 -0.6       ]\n",
            "   [ 0.12156863  0.16862746 -0.5372549 ]\n",
            "   ...\n",
            "   [ 0.2627451   0.12941177 -0.07450981]\n",
            "   [ 0.31764707  0.16078432 -0.05098039]\n",
            "   [ 0.33333334 -0.02745098 -0.24705882]]\n",
            "\n",
            "  [[ 0.01960784  0.01176471 -0.6156863 ]\n",
            "   [ 0.12156863  0.06666667 -0.62352943]\n",
            "   [ 0.10588235  0.12941177 -0.5137255 ]\n",
            "   ...\n",
            "   [ 0.25490198 -0.08235294 -0.34901962]\n",
            "   [ 0.29411766 -0.04313726 -0.3882353 ]\n",
            "   [ 0.34117648 -0.01960784 -0.3647059 ]]\n",
            "\n",
            "  [[ 0.04313726  0.08235294 -0.5764706 ]\n",
            "   [ 0.02745098  0.03529412 -0.60784316]\n",
            "   [ 0.01960784  0.04313726 -0.6313726 ]\n",
            "   ...\n",
            "   [ 0.30980393  0.10588235 -0.2784314 ]\n",
            "   [ 0.31764707  0.00392157 -0.34117648]\n",
            "   [ 0.1764706  -0.05098039 -0.27058825]]]\n",
            "\n",
            "\n",
            " ...\n",
            "\n",
            "\n",
            " [[[ 0.67058825  0.654902    0.8117647 ]\n",
            "   [ 0.34901962  0.5372549   0.73333335]\n",
            "   [ 0.34901962  0.5137255   0.73333335]\n",
            "   ...\n",
            "   [ 0.03529412  0.3647059   0.7019608 ]\n",
            "   [-0.00392157  0.29411766  0.49803922]\n",
            "   [ 0.5137255   0.6         0.43529412]]\n",
            "\n",
            "  [[ 0.19215687  0.30980393  0.5529412 ]\n",
            "   [ 0.3647059   0.5372549   0.81960785]\n",
            "   [ 0.12156863  0.34901962  0.58431375]\n",
            "   ...\n",
            "   [ 0.00392157  0.3647059   0.64705884]\n",
            "   [ 0.05882353  0.3254902   0.67058825]\n",
            "   [ 0.06666667  0.31764707  0.49803922]]\n",
            "\n",
            "  [[ 0.18431373  0.3882353   0.56078434]\n",
            "   [ 0.19215687  0.35686275  0.5921569 ]\n",
            "   [ 0.22352941  0.46666667  0.7411765 ]\n",
            "   ...\n",
            "   [ 0.2627451   0.46666667  0.64705884]\n",
            "   [ 0.14509805  0.4117647   0.69411767]\n",
            "   [ 0.02745098  0.31764707  0.5372549 ]]\n",
            "\n",
            "  ...\n",
            "\n",
            "  [[ 0.35686275  0.3019608  -0.09019608]\n",
            "   [ 0.43529412  0.5058824   0.06666667]\n",
            "   [ 0.41960785  0.3647059  -0.42745098]\n",
            "   ...\n",
            "   [ 0.2627451   0.09019608 -0.23137255]\n",
            "   [ 0.08235294  0.01176471 -0.3019608 ]\n",
            "   [ 0.18431373  0.09803922 -0.2627451 ]]\n",
            "\n",
            "  [[ 0.54509807  0.43529412  0.08235294]\n",
            "   [ 0.62352943  0.58431375  0.16078432]\n",
            "   [ 0.11372549  0.4117647  -0.13725491]\n",
            "   ...\n",
            "   [-0.3882353  -0.28627452 -0.4117647 ]\n",
            "   [ 0.11372549 -0.06666667 -0.38039216]\n",
            "   [-0.09019608 -0.01176471 -0.2       ]]\n",
            "\n",
            "  [[ 0.5921569   0.4745098   0.44313726]\n",
            "   [ 0.13725491  0.2627451   0.07450981]\n",
            "   [ 0.4745098   0.52156866  0.12941177]\n",
            "   ...\n",
            "   [ 0.12941177 -0.01176471 -0.14509805]\n",
            "   [ 0.19215687  0.05882353 -0.06666667]\n",
            "   [ 0.30980393  0.18431373  0.00392157]]]\n",
            "\n",
            "\n",
            " [[[ 0.28627452  0.41960785  0.33333334]\n",
            "   [ 0.4745098   0.60784316  0.49019608]\n",
            "   [ 0.39607844  0.54509807  0.45882353]\n",
            "   ...\n",
            "   [ 0.37254903  0.48235294  0.33333334]\n",
            "   [ 0.4117647   0.49019608  0.23137255]\n",
            "   [ 0.3882353   0.46666667  0.19215687]]\n",
            "\n",
            "  [[ 0.30980393  0.45882353  0.42745098]\n",
            "   [ 0.31764707  0.5058824   0.39607844]\n",
            "   [ 0.15294118  0.27058825  0.21568628]\n",
            "   ...\n",
            "   [ 0.37254903  0.49019608  0.35686275]\n",
            "   [ 0.5372549   0.60784316  0.39607844]\n",
            "   [ 0.40392157  0.5058824   0.25490198]]\n",
            "\n",
            "  [[ 0.39607844  0.5686275   0.52156866]\n",
            "   [ 0.38039216  0.5921569   0.5529412 ]\n",
            "   [ 0.4509804   0.62352943  0.6       ]\n",
            "   ...\n",
            "   [ 0.44313726  0.5058824   0.3254902 ]\n",
            "   [ 0.49019608  0.5921569   0.37254903]\n",
            "   [ 0.40392157  0.5137255   0.33333334]]\n",
            "\n",
            "  ...\n",
            "\n",
            "  [[-0.5137255  -0.3882353  -0.6627451 ]\n",
            "   [-0.7647059  -0.6784314  -0.7882353 ]\n",
            "   [-0.4509804  -0.37254903 -0.52156866]\n",
            "   ...\n",
            "   [-0.40392157 -0.48235294 -0.77254903]\n",
            "   [-0.18431373 -0.33333334 -0.5686275 ]\n",
            "   [-0.7411765  -0.6784314  -0.7490196 ]]\n",
            "\n",
            "  [[-0.5058824  -0.38039216 -0.60784316]\n",
            "   [-0.90588236 -0.84313726 -0.8901961 ]\n",
            "   [-0.5686275  -0.5372549  -0.69411767]\n",
            "   ...\n",
            "   [-0.44313726 -0.49803922 -0.6862745 ]\n",
            "   [-0.33333334 -0.3882353  -0.5372549 ]\n",
            "   [-0.5764706  -0.5529412  -0.67058825]]\n",
            "\n",
            "  [[-0.45882353 -0.4509804  -0.6784314 ]\n",
            "   [-0.49019608 -0.46666667 -0.7411765 ]\n",
            "   [-0.44313726 -0.42745098 -0.6627451 ]\n",
            "   ...\n",
            "   [-0.49803922 -0.6392157  -0.7490196 ]\n",
            "   [-0.49803922 -0.54509807 -0.60784316]\n",
            "   [-0.75686276 -0.67058825 -0.7647059 ]]]\n",
            "\n",
            "\n",
            " [[[ 0.35686275  0.54509807  0.22352941]\n",
            "   [-0.03529412  0.1764706  -0.15294118]\n",
            "   [ 0.10588235 -0.04313726 -0.5529412 ]\n",
            "   ...\n",
            "   [ 0.01176471  0.34901962  0.39607844]\n",
            "   [ 0.23137255  0.46666667  0.37254903]\n",
            "   [ 0.56078434  0.7882353   0.43529412]]\n",
            "\n",
            "  [[ 0.7411765   0.8117647   0.30980393]\n",
            "   [ 0.7176471   0.88235295  0.49803922]\n",
            "   [ 0.02745098 -0.09019608 -0.54509807]\n",
            "   ...\n",
            "   [ 0.7647059   0.92156863  0.6862745 ]\n",
            "   [ 0.38039216  0.49803922  0.2627451 ]\n",
            "   [ 0.4509804   0.6313726   0.16078432]]\n",
            "\n",
            "  [[ 0.16078432  0.38039216  0.30980393]\n",
            "   [-0.15294118 -0.04313726 -0.34901962]\n",
            "   [ 0.67058825  0.7176471   0.24705882]\n",
            "   ...\n",
            "   [-0.35686275 -0.46666667 -0.15294118]\n",
            "   [-0.38039216 -0.5058824  -0.25490198]\n",
            "   [-0.2627451  -0.40392157 -0.23921569]]\n",
            "\n",
            "  ...\n",
            "\n",
            "  [[-0.5764706  -0.64705884 -0.7411765 ]\n",
            "   [-0.60784316 -0.73333335 -0.8666667 ]\n",
            "   [-0.01960784 -0.12156863 -0.19215687]\n",
            "   ...\n",
            "   [-0.5372549  -0.6784314  -0.7019608 ]\n",
            "   [-0.6156863  -0.7176471  -0.7647059 ]\n",
            "   [-0.7490196  -0.81960785 -0.8666667 ]]\n",
            "\n",
            "  [[-0.827451   -0.8666667  -0.8901961 ]\n",
            "   [-0.6156863  -0.6862745  -0.7647059 ]\n",
            "   [-0.70980394 -0.8117647  -0.92156863]\n",
            "   ...\n",
            "   [-0.56078434 -0.69411767 -0.7490196 ]\n",
            "   [-0.4745098  -0.58431375 -0.67058825]\n",
            "   [-0.5137255  -0.6313726  -0.69411767]]\n",
            "\n",
            "  [[-0.30980393 -0.41960785 -0.62352943]\n",
            "   [-0.6313726  -0.75686276 -0.8352941 ]\n",
            "   [-0.7647059  -0.84313726 -0.8901961 ]\n",
            "   ...\n",
            "   [ 0.24705882  0.12941177 -0.18431373]\n",
            "   [-0.7254902  -0.8509804  -0.9607843 ]\n",
            "   [-0.5921569  -0.7019608  -0.75686276]]]], shape=(32, 64, 64, 3), dtype=float32)\n"
          ]
        }
      ],
      "source": [
        "for element in dataset.take(1):\n",
        "    print(element)"
      ],
      "id": "083ebf3d"
    },
    {
      "cell_type": "code",
      "execution_count": 68,
      "metadata": {
        "colab": {
          "base_uri": "https://localhost:8080/"
        },
        "id": "ccfa5253",
        "outputId": "2e0d402f-0781-4ca5-a163-6ec64eda0016"
      },
      "outputs": [
        {
          "output_type": "stream",
          "name": "stdout",
          "text": [
            "tf.Tensor(5.098399, shape=(), dtype=float32) tf.Tensor(1.1733065, shape=(), dtype=float32)\n",
            "tf.Tensor(7.2922554, shape=(), dtype=float32) tf.Tensor(0.03538739, shape=(), dtype=float32)\n",
            "tf.Tensor(4.6729927, shape=(), dtype=float32) tf.Tensor(0.2622674, shape=(), dtype=float32)\n",
            "tf.Tensor(2.8085623, shape=(), dtype=float32) tf.Tensor(0.3164637, shape=(), dtype=float32)\n",
            "tf.Tensor(3.6968827, shape=(), dtype=float32) tf.Tensor(0.2600739, shape=(), dtype=float32)\n",
            "tf.Tensor(6.739627, shape=(), dtype=float32) tf.Tensor(0.14890337, shape=(), dtype=float32)\n",
            "tf.Tensor(6.31915, shape=(), dtype=float32) tf.Tensor(0.09459958, shape=(), dtype=float32)\n",
            "tf.Tensor(4.064102, shape=(), dtype=float32) tf.Tensor(0.15222138, shape=(), dtype=float32)\n",
            "tf.Tensor(4.1934175, shape=(), dtype=float32) tf.Tensor(0.32174516, shape=(), dtype=float32)\n",
            "tf.Tensor(3.7425501, shape=(), dtype=float32) tf.Tensor(0.26302093, shape=(), dtype=float32)\n",
            "tf.Tensor(3.296784, shape=(), dtype=float32) tf.Tensor(0.3516186, shape=(), dtype=float32)\n",
            "tf.Tensor(2.7197518, shape=(), dtype=float32) tf.Tensor(0.49014884, shape=(), dtype=float32)\n",
            "tf.Tensor(2.8146439, shape=(), dtype=float32) tf.Tensor(0.50818443, shape=(), dtype=float32)\n",
            "tf.Tensor(2.9362357, shape=(), dtype=float32) tf.Tensor(0.20951171, shape=(), dtype=float32)\n",
            "tf.Tensor(3.7115588, shape=(), dtype=float32) tf.Tensor(1.1687454, shape=(), dtype=float32)\n",
            "tf.Tensor(4.7144175, shape=(), dtype=float32) tf.Tensor(0.12818864, shape=(), dtype=float32)\n",
            "tf.Tensor(7.261802, shape=(), dtype=float32) tf.Tensor(0.24308069, shape=(), dtype=float32)\n",
            "tf.Tensor(2.639287, shape=(), dtype=float32) tf.Tensor(1.2429082, shape=(), dtype=float32)\n",
            "tf.Tensor(3.3888783, shape=(), dtype=float32) tf.Tensor(0.18261203, shape=(), dtype=float32)\n",
            "tf.Tensor(4.877966, shape=(), dtype=float32) tf.Tensor(1.7920635, shape=(), dtype=float32)\n",
            "tf.Tensor(5.6842823, shape=(), dtype=float32) tf.Tensor(0.24392018, shape=(), dtype=float32)\n",
            "tf.Tensor(4.4062095, shape=(), dtype=float32) tf.Tensor(0.32934064, shape=(), dtype=float32)\n",
            "tf.Tensor(7.9857936, shape=(), dtype=float32) tf.Tensor(0.46583143, shape=(), dtype=float32)\n",
            "tf.Tensor(3.0609145, shape=(), dtype=float32) tf.Tensor(0.4286645, shape=(), dtype=float32)\n",
            "tf.Tensor(2.5816858, shape=(), dtype=float32) tf.Tensor(0.6106181, shape=(), dtype=float32)\n",
            "tf.Tensor(1.967639, shape=(), dtype=float32) tf.Tensor(0.42252973, shape=(), dtype=float32)\n",
            "tf.Tensor(5.076235, shape=(), dtype=float32) tf.Tensor(0.098317474, shape=(), dtype=float32)\n",
            "tf.Tensor(4.113559, shape=(), dtype=float32) tf.Tensor(0.2782715, shape=(), dtype=float32)\n",
            "tf.Tensor(6.324, shape=(), dtype=float32) tf.Tensor(0.07474711, shape=(), dtype=float32)\n",
            "tf.Tensor(2.311876, shape=(), dtype=float32) tf.Tensor(0.5701915, shape=(), dtype=float32)\n",
            "tf.Tensor(3.960611, shape=(), dtype=float32) tf.Tensor(0.54625833, shape=(), dtype=float32)\n",
            "tf.Tensor(5.5970044, shape=(), dtype=float32) tf.Tensor(0.069322035, shape=(), dtype=float32)\n",
            "tf.Tensor(4.448571, shape=(), dtype=float32) tf.Tensor(0.12129864, shape=(), dtype=float32)\n",
            "tf.Tensor(3.6636732, shape=(), dtype=float32) tf.Tensor(0.14064538, shape=(), dtype=float32)\n",
            "tf.Tensor(0.9549015, shape=(), dtype=float32) tf.Tensor(1.9389929, shape=(), dtype=float32)\n",
            "tf.Tensor(5.0687466, shape=(), dtype=float32) tf.Tensor(0.06412026, shape=(), dtype=float32)\n",
            "tf.Tensor(3.4413323, shape=(), dtype=float32) tf.Tensor(0.39943093, shape=(), dtype=float32)\n",
            "tf.Tensor(5.787079, shape=(), dtype=float32) tf.Tensor(0.153752, shape=(), dtype=float32)\n",
            "tf.Tensor(6.0501876, shape=(), dtype=float32) tf.Tensor(1.3358083, shape=(), dtype=float32)\n",
            "tf.Tensor(8.326189, shape=(), dtype=float32) tf.Tensor(0.0064489986, shape=(), dtype=float32)\n",
            "tf.Tensor(3.8281212, shape=(), dtype=float32) tf.Tensor(0.77178925, shape=(), dtype=float32)\n",
            "tf.Tensor(8.66698, shape=(), dtype=float32) tf.Tensor(1.7470591, shape=(), dtype=float32)\n",
            "tf.Tensor(4.5242615, shape=(), dtype=float32) tf.Tensor(0.34593868, shape=(), dtype=float32)\n",
            "tf.Tensor(7.902545, shape=(), dtype=float32) tf.Tensor(0.6960947, shape=(), dtype=float32)\n",
            "tf.Tensor(5.464046, shape=(), dtype=float32) tf.Tensor(0.08800748, shape=(), dtype=float32)\n",
            "tf.Tensor(6.6135077, shape=(), dtype=float32) tf.Tensor(0.12482438, shape=(), dtype=float32)\n",
            "tf.Tensor(9.326266, shape=(), dtype=float32) tf.Tensor(0.2893156, shape=(), dtype=float32)\n",
            "tf.Tensor(4.1900043, shape=(), dtype=float32) tf.Tensor(0.49116424, shape=(), dtype=float32)\n",
            "tf.Tensor(6.5127964, shape=(), dtype=float32) tf.Tensor(0.15156996, shape=(), dtype=float32)\n",
            "tf.Tensor(7.1189995, shape=(), dtype=float32) tf.Tensor(0.007081054, shape=(), dtype=float32)\n"
          ]
        }
      ],
      "source": [
        "vg=train_tot(dataset,50)"
      ],
      "id": "ccfa5253"
    },
    {
      "cell_type": "code",
      "execution_count": null,
      "metadata": {
        "id": "irMIINQjIHU9"
      },
      "outputs": [],
      "source": [
        ""
      ],
      "id": "irMIINQjIHU9"
    },
    {
      "cell_type": "code",
      "execution_count": null,
      "metadata": {
        "id": "fb9fb73b"
      },
      "outputs": [],
      "source": [
        ""
      ],
      "id": "fb9fb73b"
    },
    {
      "cell_type": "code",
      "execution_count": 69,
      "metadata": {
        "id": "NIZMmusCJoSm"
      },
      "outputs": [],
      "source": [
        "ng=np.array(vg*127.5+127.5)"
      ],
      "id": "NIZMmusCJoSm"
    },
    {
      "cell_type": "code",
      "source": [
        "plt.imshow(ng.astype(np.int32))"
      ],
      "metadata": {
        "colab": {
          "base_uri": "https://localhost:8080/",
          "height": 285
        },
        "id": "s9ec-jxDiLtd",
        "outputId": "d55bf49b-2ea8-4f49-fd7f-00d95c8bb944"
      },
      "id": "s9ec-jxDiLtd",
      "execution_count": 70,
      "outputs": [
        {
          "output_type": "execute_result",
          "data": {
            "text/plain": [
              "<matplotlib.image.AxesImage at 0x7f8296169510>"
            ]
          },
          "metadata": {},
          "execution_count": 70
        },
        {
          "output_type": "display_data",
          "data": {
            "text/plain": [
              "<Figure size 432x288 with 1 Axes>"
            ],
            "image/png": "[encoded data removed]"
          },
          "metadata": {
            "needs_background": "light"
          }
        }
      ]
    },
    {
      "cell_type": "code",
      "source": [
        "discriminator.predict(tf.expand_dims(vg,0))"
      ],
      "metadata": {
        "colab": {
          "base_uri": "https://localhost:8080/"
        },
        "id": "elZvk4VweRua",
        "outputId": "5bde9d4c-2d6b-4c3e-b7ca-3013752e5d1b"
      },
      "id": "elZvk4VweRua",
      "execution_count": 71,
      "outputs": [
        {
          "output_type": "execute_result",
          "data": {
            "text/plain": [
              "array([[0.19948593]], dtype=float32)"
            ]
          },
          "metadata": {},
          "execution_count": 71
        }
      ]
    },
    {
      "cell_type": "code",
      "execution_count": null,
      "metadata": {
        "colab": {
          "base_uri": "https://localhost:8080/"
        },
        "id": "bZGDEhaWNe-r",
        "outputId": "38d610fc-9f53-45d3-db48-14e70c62058b"
      },
      "outputs": [
        {
          "data": {
            "text/plain": [
              "(7,)"
            ]
          },
          "execution_count": 33,
          "metadata": {},
          "output_type": "execute_result"
        }
      ],
      "source": [
        ""
      ],
      "id": "bZGDEhaWNe-r"
    },
    {
      "cell_type": "code",
      "execution_count": 60,
      "metadata": {
        "id": "4hchMPNdpYfb",
        "colab": {
          "base_uri": "https://localhost:8080/",
          "height": 166
        },
        "outputId": "be9aecac-7927-46be-ccb6-3c32eed9f0cf"
      },
      "outputs": [
        {
          "output_type": "error",
          "ename": "NameError",
          "evalue": "ignored",
          "traceback": [
            "\u001b[0;31m---------------------------------------------------------------------------\u001b[0m",
            "\u001b[0;31mNameError\u001b[0m                                 Traceback (most recent call last)",
            "\u001b[0;32m<ipython-input-60-5cf4c78dc6ea>\u001b[0m in \u001b[0;36m<module>\u001b[0;34m()\u001b[0m\n\u001b[0;32m----> 1\u001b[0;31m \u001b[0mnoise\u001b[0m\u001b[0;34m\u001b[0m\u001b[0;34m\u001b[0m\u001b[0m\n\u001b[0m",
            "\u001b[0;31mNameError\u001b[0m: name 'noise' is not defined"
          ]
        }
      ],
      "source": [
        "noise"
      ],
      "id": "4hchMPNdpYfb"
    },
    {
      "cell_type": "code",
      "execution_count": 83,
      "metadata": {
        "colab": {
          "base_uri": "https://localhost:8080/",
          "height": 285
        },
        "id": "FZs3Dx_Gotk2",
        "outputId": "8d70da7f-7d70-49bf-f352-1fc2074df8f5"
      },
      "outputs": [
        {
          "output_type": "execute_result",
          "data": {
            "text/plain": [
              "<matplotlib.image.AxesImage at 0x7f82960b5e90>"
            ]
          },
          "metadata": {},
          "execution_count": 83
        },
        {
          "output_type": "display_data",
          "data": {
            "text/plain": [
              "<Figure size 432x288 with 1 Axes>"
            ],
            "image/png": "[encoded data removed]"
          },
          "metadata": {
            "needs_background": "light"
          }
        }
      ],
      "source": [
        "noise=generator(tf.random.normal([1,seed_size]),training=False)[0]\n",
        "import matplotlib.pyplot as plt\n",
        "import sys\n",
        "plt.imshow((np.array(noise)*127.5+127.5).astype(np.int32))"
      ],
      "id": "FZs3Dx_Gotk2"
    },
    {
      "cell_type": "code",
      "execution_count": 74,
      "metadata": {
        "id": "JuJbMdy8LVoU"
      },
      "outputs": [],
      "source": [
        "nn=np.array((noise))"
      ],
      "id": "JuJbMdy8LVoU"
    },
    {
      "cell_type": "code",
      "execution_count": null,
      "metadata": {
        "id": "WYU1y2mYVgOV"
      },
      "outputs": [],
      "source": [
        "os.chdir('/content/drive/MyDrive')"
      ],
      "id": "WYU1y2mYVgOV"
    },
    {
      "cell_type": "code",
      "execution_count": null,
      "metadata": {
        "colab": {
          "base_uri": "https://localhost:8080/",
          "height": 35
        },
        "id": "pUbyWsQyVlXQ",
        "outputId": "df64be2e-e43f-4f83-faad-bc82ad4c1b89"
      },
      "outputs": [
        {
          "data": {
            "application/vnd.google.colaboratory.intrinsic+json": {
              "type": "string"
            },
            "text/plain": [
              "'/content/drive/MyDrive'"
            ]
          },
          "execution_count": 70,
          "metadata": {},
          "output_type": "execute_result"
        }
      ],
      "source": [
        "os.getcwd()"
      ],
      "id": "pUbyWsQyVlXQ"
    },
    {
      "cell_type": "code",
      "execution_count": null,
      "metadata": {
        "id": "1zFhPYoXUiRY"
      },
      "outputs": [],
      "source": [
        "np.save(os.path.join(os.getcwd(),'gg'),nn)"
      ],
      "id": "1zFhPYoXUiRY"
    },
    {
      "cell_type": "code",
      "execution_count": null,
      "metadata": {
        "colab": {
          "base_uri": "https://localhost:8080/",
          "height": 320
        },
        "id": "FUfpdifJMVr9",
        "outputId": "c214c4b9-472e-4c04-f7cc-eeb40064fe07"
      },
      "outputs": [
        {
          "output_type": "stream",
          "name": "stderr",
          "text": [
            "Clipping input data to the valid range for imshow with RGB data ([0..1] for floats or [0..255] for integers).\n"
          ]
        },
        {
          "output_type": "execute_result",
          "data": {
            "text/plain": [
              "<matplotlib.image.AxesImage at 0x7f4800bb2e90>"
            ]
          },
          "metadata": {},
          "execution_count": 154
        },
        {
          "output_type": "display_data",
          "data": {
            "text/plain": [
              "<Figure size 432x288 with 1 Axes>"
            ],
            "image/png": "[encoded data removed]"
          },
          "metadata": {
            "needs_background": "light"
          }
        }
      ],
      "source": [
        "plt.imshow(images[10])"
      ],
      "id": "FUfpdifJMVr9"
    },
    {
      "cell_type": "code",
      "execution_count": null,
      "metadata": {
        "id": "eMJ5G2nLKjTi"
      },
      "outputs": [],
      "source": [
        "import cv2"
      ],
      "id": "eMJ5G2nLKjTi"
    },
    {
      "cell_type": "code",
      "execution_count": null,
      "metadata": {
        "colab": {
          "base_uri": "https://localhost:8080/",
          "height": 409
        },
        "id": "IYbOvkvCJabv",
        "outputId": "d43b3579-4d4b-4230-9575-88536ca10610"
      },
      "outputs": [
        {
          "ename": "DisabledFunctionError",
          "evalue": "ignored",
          "output_type": "error",
          "traceback": [
            "\u001b[0;31m---------------------------------------------------------------------------\u001b[0m",
            "\u001b[0;31mDisabledFunctionError\u001b[0m                     Traceback (most recent call last)",
            "\u001b[0;32m<ipython-input-63-da444e398881>\u001b[0m in \u001b[0;36m<module>\u001b[0;34m()\u001b[0m\n\u001b[1;32m      1\u001b[0m \u001b[0;32mwhile\u001b[0m \u001b[0;32mTrue\u001b[0m\u001b[0;34m:\u001b[0m\u001b[0;34m\u001b[0m\u001b[0;34m\u001b[0m\u001b[0m\n\u001b[0;32m----> 2\u001b[0;31m     \u001b[0mcv2\u001b[0m\u001b[0;34m.\u001b[0m\u001b[0mimshow\u001b[0m\u001b[0;34m(\u001b[0m\u001b[0mnoise\u001b[0m\u001b[0;34m)\u001b[0m\u001b[0;34m\u001b[0m\u001b[0;34m\u001b[0m\u001b[0m\n\u001b[0m\u001b[1;32m      3\u001b[0m     \u001b[0mcv2\u001b[0m\u001b[0;34m.\u001b[0m\u001b[0mwaitKey\u001b[0m\u001b[0;34m(\u001b[0m\u001b[0;36m0\u001b[0m\u001b[0;34m)\u001b[0m\u001b[0;34m\u001b[0m\u001b[0;34m\u001b[0m\u001b[0m\n\u001b[1;32m      4\u001b[0m     \u001b[0msys\u001b[0m\u001b[0;34m.\u001b[0m\u001b[0mexit\u001b[0m\u001b[0;34m(\u001b[0m\u001b[0;34m)\u001b[0m \u001b[0;31m# to exit from all the processes\u001b[0m\u001b[0;34m\u001b[0m\u001b[0;34m\u001b[0m\u001b[0m\n\u001b[1;32m      5\u001b[0m \u001b[0;34m\u001b[0m\u001b[0m\n",
            "\u001b[0;32m/usr/local/lib/python3.7/dist-packages/google/colab/_import_hooks/_cv2.py\u001b[0m in \u001b[0;36mwrapped\u001b[0;34m(*args, **kwargs)\u001b[0m\n\u001b[1;32m     50\u001b[0m   \u001b[0;32mdef\u001b[0m \u001b[0mwrapped\u001b[0m\u001b[0;34m(\u001b[0m\u001b[0;34m*\u001b[0m\u001b[0margs\u001b[0m\u001b[0;34m,\u001b[0m \u001b[0;34m**\u001b[0m\u001b[0mkwargs\u001b[0m\u001b[0;34m)\u001b[0m\u001b[0;34m:\u001b[0m\u001b[0;34m\u001b[0m\u001b[0;34m\u001b[0m\u001b[0m\n\u001b[1;32m     51\u001b[0m     \u001b[0;32mif\u001b[0m \u001b[0;32mnot\u001b[0m \u001b[0mos\u001b[0m\u001b[0;34m.\u001b[0m\u001b[0menviron\u001b[0m\u001b[0;34m.\u001b[0m\u001b[0mget\u001b[0m\u001b[0;34m(\u001b[0m\u001b[0menv_var\u001b[0m\u001b[0;34m,\u001b[0m \u001b[0;32mFalse\u001b[0m\u001b[0;34m)\u001b[0m\u001b[0;34m:\u001b[0m\u001b[0;34m\u001b[0m\u001b[0;34m\u001b[0m\u001b[0m\n\u001b[0;32m---> 52\u001b[0;31m       \u001b[0;32mraise\u001b[0m \u001b[0mDisabledFunctionError\u001b[0m\u001b[0;34m(\u001b[0m\u001b[0mmessage\u001b[0m\u001b[0;34m,\u001b[0m \u001b[0mname\u001b[0m \u001b[0;32mor\u001b[0m \u001b[0mfunc\u001b[0m\u001b[0;34m.\u001b[0m\u001b[0m__name__\u001b[0m\u001b[0;34m)\u001b[0m\u001b[0;34m\u001b[0m\u001b[0;34m\u001b[0m\u001b[0m\n\u001b[0m\u001b[1;32m     53\u001b[0m     \u001b[0;32mreturn\u001b[0m \u001b[0mfunc\u001b[0m\u001b[0;34m(\u001b[0m\u001b[0;34m*\u001b[0m\u001b[0margs\u001b[0m\u001b[0;34m,\u001b[0m \u001b[0;34m**\u001b[0m\u001b[0mkwargs\u001b[0m\u001b[0;34m)\u001b[0m\u001b[0;34m\u001b[0m\u001b[0;34m\u001b[0m\u001b[0m\n\u001b[1;32m     54\u001b[0m \u001b[0;34m\u001b[0m\u001b[0m\n",
            "\u001b[0;31mDisabledFunctionError\u001b[0m: cv2.imshow() is disabled in Colab, because it causes Jupyter sessions\nto crash; see https://github.com/jupyter/notebook/issues/3935.\nAs a substitution, consider using\n  from google.colab.patches import cv2_imshow\n"
          ]
        }
      ],
      "source": [
        "while True:\n",
        "    cv2.imshow(noise)\n",
        "    cv2.waitKey(0)\n",
        "    sys.exit() # to exit from all the processes\n",
        " \n",
        "cv2.destroyAllWindows() # destroy all windows"
      ],
      "id": "IYbOvkvCJabv"
    },
    {
      "cell_type": "code",
      "execution_count": null,
      "metadata": {
        "id": "qGHoHcpqJuGy"
      },
      "outputs": [],
      "source": [
        ""
      ],
      "id": "qGHoHcpqJuGy"
    }
  ],
  "metadata": {
    "accelerator": "GPU",
    "colab": {
      "name": "ArtGeneration_GAN.ipynb",
      "provenance": [],
      "include_colab_link": true
    },
    "kernelspec": {
      "display_name": "Python 3",
      "language": "python",
      "name": "python3"
    },
    "language_info": {
      "codemirror_mode": {
        "name": "ipython",
        "version": 3
      },
      "file_extension": ".py",
      "mimetype": "text/x-python",
      "name": "python",
      "nbconvert_exporter": "python",
      "pygments_lexer": "ipython3",
      "version": "3.7.10"
    },
    "gpuClass": "standard"
  },
  "nbformat": 4,
  "nbformat_minor": 5
}