{
  "cells": [
    {
      "cell_type": "markdown",
      "metadata": {
        "id": "view-in-github",
        "colab_type": "text"
      },
      "source": [
        "<a href=\"https://colab.research.google.com/github/aayushdD/Art-generation/blob/master/ArtGeneration_GAN.ipynb\" target=\"_parent\"><img src=\"https://colab.research.google.com/assets/colab-badge.svg\" alt=\"Open In Colab\"/></a>"
      ]
    },
    {
      "cell_type": "code",
      "execution_count": 1,
      "metadata": {
        "id": "f34f2911"
      },
      "outputs": [],
      "source": [
        "import tensorflow as tf\n",
        "from tensorflow import keras\n",
        "import os"
      ],
      "id": "f34f2911"
    },
    {
      "cell_type": "code",
      "execution_count": 1,
      "metadata": {
        "id": "AJd6p-9rPYrB"
      },
      "outputs": [],
      "source": [
        ""
      ],
      "id": "AJd6p-9rPYrB"
    },
    {
      "cell_type": "code",
      "execution_count": 1,
      "metadata": {
        "id": "mEGELIzPNVyN"
      },
      "outputs": [],
      "source": [
        ""
      ],
      "id": "mEGELIzPNVyN"
    },
    {
      "cell_type": "code",
      "execution_count": 2,
      "metadata": {
        "id": "LegWVJOkNOrF"
      },
      "outputs": [],
      "source": [
        "from google.colab import drive\n",
        "\n"
      ],
      "id": "LegWVJOkNOrF"
    },
    {
      "cell_type": "code",
      "execution_count": 3,
      "metadata": {
        "colab": {
          "base_uri": "https://localhost:8080/"
        },
        "id": "Mx1RQAMoNnsq",
        "outputId": "7047fa65-29ef-4be0-f034-352f4138fc20"
      },
      "outputs": [
        {
          "output_type": "stream",
          "name": "stdout",
          "text": [
            "Mounted at /content/drive\n"
          ]
        }
      ],
      "source": [
        "drive.mount('/content/drive')"
      ],
      "id": "Mx1RQAMoNnsq"
    },
    {
      "cell_type": "code",
      "execution_count": 4,
      "metadata": {
        "id": "de38262b"
      },
      "outputs": [],
      "source": [
        "from PIL import Image\n",
        "import glob\n",
        "import cv2"
      ],
      "id": "de38262b"
    },
    {
      "cell_type": "code",
      "execution_count": 5,
      "metadata": {
        "id": "0da859bf"
      },
      "outputs": [],
      "source": [
        "image_list=[]"
      ],
      "id": "0da859bf"
    },
    {
      "cell_type": "code",
      "execution_count": null,
      "metadata": {
        "colab": {
          "base_uri": "https://localhost:8080/"
        },
        "id": "8bcc867b",
        "outputId": "0b086411-626d-4d8f-911a-c5adbe4de132"
      },
      "outputs": [
        {
          "output_type": "stream",
          "name": "stdout",
          "text": [
            "/content\n",
            "['.config', 'drive', 'sample_data']\n"
          ]
        }
      ],
      "source": [
        "print(os.getcwd())\n",
        "print(os.listdir())"
      ],
      "id": "8bcc867b"
    },
    {
      "cell_type": "code",
      "execution_count": null,
      "metadata": {
        "id": "wJfHha-ljYsD"
      },
      "outputs": [],
      "source": [
        ""
      ],
      "id": "wJfHha-ljYsD"
    },
    {
      "cell_type": "code",
      "execution_count": null,
      "metadata": {
        "colab": {
          "base_uri": "https://localhost:8080/"
        },
        "id": "Vtp8NeUcjj6R",
        "outputId": "0b693bbe-d125-4dc5-cfad-f7e70bfb4384"
      },
      "outputs": [
        {
          "output_type": "execute_result",
          "data": {
            "text/plain": [
              "['.config', 'drive', 'sample_data']"
            ]
          },
          "metadata": {},
          "execution_count": 8
        }
      ],
      "source": [
        "os.listdir()"
      ],
      "id": "Vtp8NeUcjj6R"
    },
    {
      "cell_type": "code",
      "execution_count": null,
      "metadata": {
        "id": "80cd0a9b"
      },
      "outputs": [],
      "source": [
        "ll=os.walk(os.path.join(os.getcwd(),'drive\\resized\\resized'))"
      ],
      "id": "80cd0a9b"
    },
    {
      "cell_type": "code",
      "execution_count": null,
      "metadata": {
        "id": "2lzZrFRBjNQr"
      },
      "outputs": [],
      "source": [
        ""
      ],
      "id": "2lzZrFRBjNQr"
    },
    {
      "cell_type": "code",
      "execution_count": 7,
      "metadata": {
        "id": "Ww0EHPjGjEcm"
      },
      "outputs": [],
      "source": [
        "import numpy as np"
      ],
      "id": "Ww0EHPjGjEcm"
    },
    {
      "cell_type": "code",
      "execution_count": null,
      "metadata": {
        "id": "41d7599a"
      },
      "outputs": [],
      "source": [
        "for i , j , k in ll:\n",
        "    path=i.split(os.sep)\n",
        "    print(path)"
      ],
      "id": "41d7599a"
    },
    {
      "cell_type": "code",
      "execution_count": 9,
      "metadata": {
        "id": "0f0df959"
      },
      "outputs": [],
      "source": [
        "images=[]\n",
        "for i , j , k in os.walk(os.path.join(os.getcwd(),'drive/MyDrive/resized/resized')):\n",
        "    image_list=os.listdir(i)\n",
        "    for image in image_list:\n",
        "        instance=cv2.imread(os.path.join(i,image))\n",
        "        instance=cv2.cvtColor(instance, cv2.COLOR_BGR2RGB)\n",
        "        ins=cv2.resize(instance,(64,64)).astype('float32')\n",
        "        ins=ins-127.5/127.5\n",
        "        images.append(ins)\n",
        "\n",
        "images=np.array(images)\n",
        "    \n",
        "    "
      ],
      "id": "0f0df959"
    },
    {
      "cell_type": "code",
      "source": [
        ""
      ],
      "metadata": {
        "id": "NvPz70UtczPO",
        "colab": {
          "base_uri": "https://localhost:8080/",
          "height": 35
        },
        "outputId": "ce71e6d8-ff88-4929-9db9-7b3f163f0ac8"
      },
      "id": "NvPz70UtczPO",
      "execution_count": 10,
      "outputs": [
        {
          "output_type": "execute_result",
          "data": {
            "text/plain": [
              "'/content'"
            ],
            "application/vnd.google.colaboratory.intrinsic+json": {
              "type": "string"
            }
          },
          "metadata": {},
          "execution_count": 10
        }
      ]
    },
    {
      "cell_type": "code",
      "execution_count": 11,
      "metadata": {
        "colab": {
          "base_uri": "https://localhost:8080/"
        },
        "id": "ARGr-wGCjLDf",
        "outputId": "834719fb-3c73-443f-8d86-dc2a19d5086b"
      },
      "outputs": [
        {
          "output_type": "execute_result",
          "data": {
            "text/plain": [
              "(8683, 64, 64, 3)"
            ]
          },
          "metadata": {},
          "execution_count": 11
        }
      ],
      "source": [
        "images.shape"
      ],
      "id": "ARGr-wGCjLDf"
    },
    {
      "cell_type": "code",
      "source": [
        "np.save(os.path.join(os.getcwd(),'drive/MyDrive/art_gen_training_64'),images)"
      ],
      "metadata": {
        "id": "CiC3Kka1UI0F"
      },
      "id": "CiC3Kka1UI0F",
      "execution_count": 12,
      "outputs": []
    },
    {
      "cell_type": "code",
      "source": [
        "images=np.load('drive/MyDrive/art_gen_training_64.npy')\n",
        "print(images.shape)"
      ],
      "metadata": {
        "colab": {
          "base_uri": "https://localhost:8080/"
        },
        "id": "O8P9jc2PdUqZ",
        "outputId": "1c54a2d1-fc40-4c3b-8607-51a3703de852"
      },
      "id": "O8P9jc2PdUqZ",
      "execution_count": 14,
      "outputs": [
        {
          "output_type": "stream",
          "name": "stdout",
          "text": [
            "(8683, 64, 64, 3)\n"
          ]
        }
      ]
    },
    {
      "cell_type": "code",
      "execution_count": 15,
      "metadata": {
        "id": "25fa083e"
      },
      "outputs": [],
      "source": [
        "import numpy as np\n",
        "import matplotlib.pyplot as plt "
      ],
      "id": "25fa083e"
    },
    {
      "cell_type": "code",
      "execution_count": null,
      "metadata": {
        "colab": {
          "base_uri": "https://localhost:8080/"
        },
        "id": "fd5dd2c9",
        "outputId": "2a6d5073-9d77-48df-dc32-aef5660f06fd"
      },
      "outputs": [
        {
          "output_type": "execute_result",
          "data": {
            "text/plain": [
              "8683"
            ]
          },
          "metadata": {},
          "execution_count": 12
        }
      ],
      "source": [
        "len(images)"
      ],
      "id": "fd5dd2c9"
    },
    {
      "cell_type": "code",
      "execution_count": null,
      "metadata": {
        "colab": {
          "base_uri": "https://localhost:8080/"
        },
        "id": "e2344420",
        "outputId": "36ea7d00-ccb3-4a3f-ee59-ed9f617857fb"
      },
      "outputs": [
        {
          "output_type": "execute_result",
          "data": {
            "text/plain": [
              "(64, 64, 3)"
            ]
          },
          "metadata": {},
          "execution_count": 53
        }
      ],
      "source": [
        "images[0].shape"
      ],
      "id": "e2344420"
    },
    {
      "cell_type": "code",
      "source": [
        "plt.imshow(images[0].astype(np.int32))"
      ],
      "metadata": {
        "colab": {
          "base_uri": "https://localhost:8080/",
          "height": 303
        },
        "id": "eSznW-QJXF6E",
        "outputId": "18a07f08-334d-4383-d254-31c98dca00aa"
      },
      "id": "eSznW-QJXF6E",
      "execution_count": 16,
      "outputs": [
        {
          "output_type": "stream",
          "name": "stderr",
          "text": [
            "Clipping input data to the valid range for imshow with RGB data ([0..1] for floats or [0..255] for integers).\n"
          ]
        },
        {
          "output_type": "execute_result",
          "data": {
            "text/plain": [
              "<matplotlib.image.AxesImage at 0x7f981dfa29d0>"
            ]
          },
          "metadata": {},
          "execution_count": 16
        },
        {
          "output_type": "display_data",
          "data": {
            "text/plain": [
              "<Figure size 432x288 with 1 Axes>"
            ],
            "image/png": "[encoded data removed]"
          },
          "metadata": {
            "needs_background": "light"
          }
        }
      ]
    },
    {
      "cell_type": "code",
      "execution_count": 17,
      "metadata": {
        "id": "cf7b883f"
      },
      "outputs": [],
      "source": [
        "discriminator=keras.models.Sequential([\n",
        "    keras.layers.Conv2D(64, kernel_size=4,strides=2, padding='same', input_shape=[64,64,3]),\n",
        "    keras.layers.BatchNormalization(),\n",
        "    keras.layers.LeakyReLU(),\n",
        "    \n",
        "    keras.layers.Conv2D(128,kernel_size=4,strides=2,padding='same'),\n",
        "    keras.layers.BatchNormalization(),\n",
        "    keras.layers.LeakyReLU(),\n",
        "    \n",
        "    keras.layers.Conv2D(256,kernel_size=4,strides=2,padding='same'),\n",
        "    keras.layers.BatchNormalization(),\n",
        "    keras.layers.LeakyReLU(),\n",
        "    \n",
        "    # keras.layers.Conv2D(512,kernel_size=4,strides=2,padding='same'),\n",
        "    # keras.layers.BatchNormalization(),\n",
        "    # keras.layers.LeakyReLU(),\n",
        "    \n",
        "    keras.layers.Conv2D(1,kernel_size=1,strides=1,padding='valid',activation='relu'),\n",
        "    keras.layers.Flatten(),\n",
        "    keras.layers.Dense(1,activation='sigmoid')\n",
        "   \n",
        "])"
      ],
      "id": "cf7b883f"
    },
    {
      "cell_type": "code",
      "execution_count": 18,
      "metadata": {
        "colab": {
          "base_uri": "https://localhost:8080/"
        },
        "id": "db6c6817",
        "outputId": "597abfcc-d0fe-47ff-fc47-ecab62fb5a9d",
        "scrolled": true
      },
      "outputs": [
        {
          "output_type": "stream",
          "name": "stdout",
          "text": [
            "Model: \"sequential\"\n",
            "_________________________________________________________________\n",
            " Layer (type)                Output Shape              Param #   \n",
            "=================================================================\n",
            " conv2d (Conv2D)             (None, 32, 32, 64)        3136      \n",
            "                                                                 \n",
            " batch_normalization (BatchN  (None, 32, 32, 64)       256       \n",
            " ormalization)                                                   \n",
            "                                                                 \n",
            " leaky_re_lu (LeakyReLU)     (None, 32, 32, 64)        0         \n",
            "                                                                 \n",
            " conv2d_1 (Conv2D)           (None, 16, 16, 128)       131200    \n",
            "                                                                 \n",
            " batch_normalization_1 (Batc  (None, 16, 16, 128)      512       \n",
            " hNormalization)                                                 \n",
            "                                                                 \n",
            " leaky_re_lu_1 (LeakyReLU)   (None, 16, 16, 128)       0         \n",
            "                                                                 \n",
            " conv2d_2 (Conv2D)           (None, 8, 8, 256)         524544    \n",
            "                                                                 \n",
            " batch_normalization_2 (Batc  (None, 8, 8, 256)        1024      \n",
            " hNormalization)                                                 \n",
            "                                                                 \n",
            " leaky_re_lu_2 (LeakyReLU)   (None, 8, 8, 256)         0         \n",
            "                                                                 \n",
            " conv2d_3 (Conv2D)           (None, 8, 8, 1)           257       \n",
            "                                                                 \n",
            " flatten (Flatten)           (None, 64)                0         \n",
            "                                                                 \n",
            " dense (Dense)               (None, 1)                 65        \n",
            "                                                                 \n",
            "=================================================================\n",
            "Total params: 660,994\n",
            "Trainable params: 660,098\n",
            "Non-trainable params: 896\n",
            "_________________________________________________________________\n"
          ]
        }
      ],
      "source": [
        "discriminator.summary()"
      ],
      "id": "db6c6817"
    },
    {
      "cell_type": "code",
      "execution_count": 19,
      "metadata": {
        "id": "a46a426a"
      },
      "outputs": [],
      "source": [
        "latent_size=128\n",
        "batch_size=32"
      ],
      "id": "a46a426a"
    },
    {
      "cell_type": "code",
      "source": [
        "\n",
        "from tensorflow.keras.layers import Input, Reshape, Dropout, Dense \n",
        "from tensorflow.keras.layers import Flatten, BatchNormalization\n",
        "from tensorflow.keras.layers import Activation, ZeroPadding2D\n",
        "from tensorflow.keras.layers import LeakyReLU\n",
        "from tensorflow.keras.layers import UpSampling2D, Conv2D\n",
        "from tensorflow.keras.models import Sequential, Model, load_model"
      ],
      "metadata": {
        "id": "Mfp2geCvvCbS"
      },
      "id": "Mfp2geCvvCbS",
      "execution_count": 28,
      "outputs": []
    },
    {
      "cell_type": "code",
      "source": [
        "GENERATE_RES=2\n",
        "seed_size=100"
      ],
      "metadata": {
        "id": "Z_T9HNg6vilP"
      },
      "id": "Z_T9HNg6vilP",
      "execution_count": 31,
      "outputs": []
    },
    {
      "cell_type": "code",
      "source": [
        "def build_generator(seed_size, channels):\n",
        "    model = Sequential()\n",
        "\n",
        "    model.add(Dense(4*4*256,activation=\"relu\",input_dim=seed_size))\n",
        "    model.add(Reshape((4,4,256)))\n",
        "\n",
        "    model.add(UpSampling2D())\n",
        "    model.add(Conv2D(256,kernel_size=3,padding=\"same\"))\n",
        "    model.add(BatchNormalization(momentum=0.8))\n",
        "    model.add(Activation(\"relu\"))\n",
        "\n",
        "    model.add(UpSampling2D())\n",
        "    model.add(Conv2D(256,kernel_size=3,padding=\"same\"))\n",
        "    model.add(BatchNormalization(momentum=0.8))\n",
        "    model.add(Activation(\"relu\"))\n",
        "   \n",
        "    # Output resolution, additional upsampling\n",
        "    model.add(UpSampling2D())\n",
        "    model.add(Conv2D(128,kernel_size=3,padding=\"same\"))\n",
        "    model.add(BatchNormalization(momentum=0.8))\n",
        "    model.add(Activation(\"relu\"))\n",
        "\n",
        "    if GENERATE_RES>1:\n",
        "      model.add(UpSampling2D(size=(GENERATE_RES,GENERATE_RES)))\n",
        "      model.add(Conv2D(128,kernel_size=3,padding=\"same\"))\n",
        "      model.add(BatchNormalization(momentum=0.8))\n",
        "      model.add(Activation(\"relu\"))\n",
        "\n",
        "    # Final CNN layer\n",
        "    model.add(Conv2D(channels,kernel_size=3,padding=\"same\"))\n",
        "    model.add(Activation(\"tanh\"))\n",
        "\n",
        "    return model"
      ],
      "metadata": {
        "id": "kFoD_uC-u-iz"
      },
      "id": "kFoD_uC-u-iz",
      "execution_count": 30,
      "outputs": []
    },
    {
      "cell_type": "code",
      "source": [
        "generator=build_generator(seed_size,3)"
      ],
      "metadata": {
        "id": "ycXnugO3u_-7"
      },
      "id": "ycXnugO3u_-7",
      "execution_count": 32,
      "outputs": []
    },
    {
      "cell_type": "code",
      "execution_count": 20,
      "metadata": {
        "id": "f1c57cb5"
      },
      "outputs": [],
      "source": [
        "\n",
        "generator=keras.models.Sequential([\n",
        "    keras.layers.Conv2DTranspose(512,kernel_size=4,strides=1,padding='valid',use_bias=False, input_shape=[1,1,latent_size]),\n",
        "    keras.layers.BatchNormalization(),\n",
        "    keras.layers.LeakyReLU(),\n",
        "   \n",
        "\n",
        "    keras.layers.Conv2DTranspose(256,kernel_size=4,strides=2,padding='same'),\n",
        "    keras.layers.BatchNormalization(),\n",
        "    keras.layers.LeakyReLU(),\n",
        "    \n",
        "    keras.layers.Conv2DTranspose(128,kernel_size=4,strides=2,\n",
        "                                padding='same'),\n",
        "    keras.layers.BatchNormalization(),\n",
        "   keras.layers.LeakyReLU(),\n",
        "    \n",
        "    keras.layers.Conv2DTranspose(64,kernel_size=4,strides=2,\n",
        "                                padding='same'),\n",
        "    keras.layers.BatchNormalization(),\n",
        "    keras.layers.LeakyReLU(),\n",
        "    \n",
        "    # keras.layers.Conv2DTranspose(32,kernel_size=4,strides=4,\n",
        "    #                             padding='same'),\n",
        "    # keras.layers.LeakyReLU(),\n",
        "    \n",
        "    keras.layers.Conv2DTranspose(3,kernel_size=4,strides=2,\n",
        "                                padding='same',activation='tanh'),\n",
        "    # keras.layers.LeakyReLU()\n",
        "    \n",
        "])"
      ],
      "id": "f1c57cb5"
    },
    {
      "cell_type": "code",
      "source": [
        "from keras import layers"
      ],
      "metadata": {
        "id": "GsZEaP66Y48c"
      },
      "id": "GsZEaP66Y48c",
      "execution_count": null,
      "outputs": []
    },
    {
      "cell_type": "code",
      "source": [
        "model = tf.keras.Sequential()\n",
        "model.add(layers.Dense(7*7*256, use_bias=False, input_shape=(100,)))\n",
        "model.add(layers.BatchNormalization())\n",
        "model.add(layers.LeakyReLU())\n",
        "\n",
        "model.add(layers.Reshape((7, 7, 256)))\n",
        "assert model.output_shape == (None, 7, 7, 256)  # Note: None is the batch size\n",
        "\n",
        "model.add(layers.Conv2DTranspose(128, (5, 5), strides=(1, 1), padding='same', use_bias=False))\n",
        "assert model.output_shape == (None, 7, 7, 128)\n",
        "model.add(layers.BatchNormalization())\n",
        "model.add(layers.LeakyReLU())\n",
        "\n",
        "model.add(layers.Conv2DTranspose(64, (5, 5), strides=(2, 2), padding='same', use_bias=False))\n",
        "assert model.output_shape == (None, 14, 14, 64)\n",
        "model.add(layers.BatchNormalization())\n",
        "model.add(layers.LeakyReLU())\n",
        "model.add(layers.Conv2DTranspose(3, (1, 1), strides=(2, 2), padding='same', use_bias=False, activation='tanh'))\n",
        "assert model.output_shape == (None, 28, 28, 3)\n"
      ],
      "metadata": {
        "id": "8gcSVby2TZLz"
      },
      "id": "8gcSVby2TZLz",
      "execution_count": null,
      "outputs": []
    },
    {
      "cell_type": "code",
      "source": [
        "generator=model"
      ],
      "metadata": {
        "id": "X4552vsFUG9q"
      },
      "id": "X4552vsFUG9q",
      "execution_count": null,
      "outputs": []
    },
    {
      "cell_type": "code",
      "execution_count": 33,
      "metadata": {
        "colab": {
          "base_uri": "https://localhost:8080/"
        },
        "id": "aa85150f",
        "outputId": "de27cea1-5639-45ab-a996-0cdbd869b14c",
        "scrolled": true
      },
      "outputs": [
        {
          "output_type": "stream",
          "name": "stdout",
          "text": [
            "Model: \"sequential_2\"\n",
            "_________________________________________________________________\n",
            " Layer (type)                Output Shape              Param #   \n",
            "=================================================================\n",
            " dense_1 (Dense)             (None, 4096)              413696    \n",
            "                                                                 \n",
            " reshape (Reshape)           (None, 4, 4, 256)         0         \n",
            "                                                                 \n",
            " up_sampling2d (UpSampling2D  (None, 8, 8, 256)        0         \n",
            " )                                                               \n",
            "                                                                 \n",
            " conv2d_4 (Conv2D)           (None, 8, 8, 256)         590080    \n",
            "                                                                 \n",
            " batch_normalization_7 (Batc  (None, 8, 8, 256)        1024      \n",
            " hNormalization)                                                 \n",
            "                                                                 \n",
            " activation (Activation)     (None, 8, 8, 256)         0         \n",
            "                                                                 \n",
            " up_sampling2d_1 (UpSampling  (None, 16, 16, 256)      0         \n",
            " 2D)                                                             \n",
            "                                                                 \n",
            " conv2d_5 (Conv2D)           (None, 16, 16, 256)       590080    \n",
            "                                                                 \n",
            " batch_normalization_8 (Batc  (None, 16, 16, 256)      1024      \n",
            " hNormalization)                                                 \n",
            "                                                                 \n",
            " activation_1 (Activation)   (None, 16, 16, 256)       0         \n",
            "                                                                 \n",
            " up_sampling2d_2 (UpSampling  (None, 32, 32, 256)      0         \n",
            " 2D)                                                             \n",
            "                                                                 \n",
            " conv2d_6 (Conv2D)           (None, 32, 32, 128)       295040    \n",
            "                                                                 \n",
            " batch_normalization_9 (Batc  (None, 32, 32, 128)      512       \n",
            " hNormalization)                                                 \n",
            "                                                                 \n",
            " activation_2 (Activation)   (None, 32, 32, 128)       0         \n",
            "                                                                 \n",
            " up_sampling2d_3 (UpSampling  (None, 64, 64, 128)      0         \n",
            " 2D)                                                             \n",
            "                                                                 \n",
            " conv2d_7 (Conv2D)           (None, 64, 64, 128)       147584    \n",
            "                                                                 \n",
            " batch_normalization_10 (Bat  (None, 64, 64, 128)      512       \n",
            " chNormalization)                                                \n",
            "                                                                 \n",
            " activation_3 (Activation)   (None, 64, 64, 128)       0         \n",
            "                                                                 \n",
            " conv2d_8 (Conv2D)           (None, 64, 64, 3)         3459      \n",
            "                                                                 \n",
            " activation_4 (Activation)   (None, 64, 64, 3)         0         \n",
            "                                                                 \n",
            "=================================================================\n",
            "Total params: 2,043,011\n",
            "Trainable params: 2,041,475\n",
            "Non-trainable params: 1,536\n",
            "_________________________________________________________________\n"
          ]
        }
      ],
      "source": [
        "generator.summary()"
      ],
      "id": "aa85150f"
    },
    {
      "cell_type": "code",
      "execution_count": 34,
      "metadata": {
        "id": "61b31e78"
      },
      "outputs": [],
      "source": [
        "cross_entropy=keras.losses.BinaryCrossentropy()"
      ],
      "id": "61b31e78"
    },
    {
      "cell_type": "code",
      "execution_count": 35,
      "metadata": {
        "id": "7cfceb9d"
      },
      "outputs": [],
      "source": [
        "def discriminator_loss(real_output,fake_output):\n",
        "    real_loss=cross_entropy(tf.ones_like(real_output),real_output)\n",
        "    fake_loss=cross_entropy(tf.zeros_like(fake_output),fake_output)\n",
        "    total_loss=real_loss+fake_loss\n",
        "    return total_loss\n",
        "\n",
        "    "
      ],
      "id": "7cfceb9d"
    },
    {
      "cell_type": "code",
      "execution_count": 36,
      "metadata": {
        "id": "534e9438"
      },
      "outputs": [],
      "source": [
        "def generator_loss(fake_output):\n",
        "    gen_loss=cross_entropy(tf.ones_like(fake_output),fake_output)\n",
        "    return gen_loss"
      ],
      "id": "534e9438"
    },
    {
      "cell_type": "code",
      "execution_count": 37,
      "metadata": {
        "id": "7dfe6ae8"
      },
      "outputs": [],
      "source": [
        "gen_opt=keras.optimizers.Adam()\n",
        "dis_opt=keras.optimizers.Adam()\n",
        "batch_size=32"
      ],
      "id": "7dfe6ae8"
    },
    {
      "cell_type": "code",
      "execution_count": 38,
      "metadata": {
        "id": "b3cddae6"
      },
      "outputs": [],
      "source": [
        "@tf.function\n",
        "def train_step(images):\n",
        "    noise=tf.random.normal([batch_size,seed_size])\n",
        "    \n",
        "    with tf.GradientTape() as gen_tape , tf.GradientTape() as dis_tape:\n",
        "        gen_images=generator(noise,training=True)\n",
        "        \n",
        "        real_output=discriminator(images,training=True)\n",
        "        fake_output=discriminator(gen_images,training=True)\n",
        "        \n",
        "        gen_loss=generator_loss(fake_output)\n",
        "        dis_loss=discriminator_loss(real_output,fake_output)\n",
        "        \n",
        "    gen_gradients=gen_tape.gradient(gen_loss,generator.trainable_variables)\n",
        "    dis_gradients=dis_tape.gradient(dis_loss,discriminator.trainable_variables)\n",
        "    \n",
        "    gen_opt.apply_gradients(zip(gen_gradients,generator.trainable_variables))\n",
        "    dis_opt.apply_gradients(zip(dis_gradients,discriminator.trainable_variables))\n",
        "    \n",
        "    return gen_loss, dis_loss,gen_images[0]"
      ],
      "id": "b3cddae6"
    },
    {
      "cell_type": "code",
      "execution_count": 39,
      "metadata": {
        "id": "1f53e100"
      },
      "outputs": [],
      "source": [
        "import time\n",
        "from IPython import display"
      ],
      "id": "1f53e100"
    },
    {
      "cell_type": "code",
      "execution_count": 40,
      "metadata": {
        "id": "2b0966af"
      },
      "outputs": [],
      "source": [
        "def train_tot(dataset,epochs):\n",
        "  for epoch in range(epochs):\n",
        "    start=time.time()      \n",
        "    for image_batch in dataset:\n",
        "      gen_loss,dis_loss,gen_img=train_step(image_batch)    \n",
        "    print(gen_loss,dis_loss)\n",
        "  return gen_img\n",
        "    "
      ],
      "id": "2b0966af"
    },
    {
      "cell_type": "code",
      "execution_count": 41,
      "metadata": {
        "id": "57498f26"
      },
      "outputs": [],
      "source": [
        "\n",
        "buffer=600"
      ],
      "id": "57498f26"
    },
    {
      "cell_type": "code",
      "execution_count": 42,
      "metadata": {
        "id": "dbf2f4ce"
      },
      "outputs": [],
      "source": [
        "dataset=tf.data.Dataset.from_tensor_slices(images).shuffle(buffer).batch(batch_size)\n"
      ],
      "id": "dbf2f4ce"
    },
    {
      "cell_type": "code",
      "execution_count": 43,
      "metadata": {
        "id": "083ebf3d",
        "colab": {
          "base_uri": "https://localhost:8080/"
        },
        "outputId": "9147a189-e1fb-4dec-b52d-253ecb44a065"
      },
      "outputs": [
        {
          "output_type": "stream",
          "name": "stdout",
          "text": [
            "tf.Tensor(\n",
            "[[[[166. 137.  98.]\n",
            "   [162. 127.  78.]\n",
            "   [180. 146. 108.]\n",
            "   ...\n",
            "   [178. 144.  96.]\n",
            "   [236. 217. 174.]\n",
            "   [175. 153. 122.]]\n",
            "\n",
            "  [[215. 176. 128.]\n",
            "   [184. 142.  91.]\n",
            "   [173. 134.  85.]\n",
            "   ...\n",
            "   [184. 150.  99.]\n",
            "   [209. 179. 137.]\n",
            "   [210. 183. 138.]]\n",
            "\n",
            "  [[202. 161. 105.]\n",
            "   [189. 141.  87.]\n",
            "   [200. 155. 109.]\n",
            "   ...\n",
            "   [210. 171. 126.]\n",
            "   [206. 170. 119.]\n",
            "   [210. 183. 135.]]\n",
            "\n",
            "  ...\n",
            "\n",
            "  [[ 49.  45.  40.]\n",
            "   [ 49.  50.  43.]\n",
            "   [ 44.  42.  39.]\n",
            "   ...\n",
            "   [ 90.  81.  75.]\n",
            "   [ 96.  80.  68.]\n",
            "   [109.  96.  76.]]\n",
            "\n",
            "  [[ 67.  67.  65.]\n",
            "   [109.  94.  81.]\n",
            "   [ 66.  57.  50.]\n",
            "   ...\n",
            "   [ 91.  78.  62.]\n",
            "   [102.  86.  68.]\n",
            "   [120. 110.  94.]]\n",
            "\n",
            "  [[116. 118. 116.]\n",
            "   [108.  92.  80.]\n",
            "   [ 84.  70.  65.]\n",
            "   ...\n",
            "   [ 92.  79.  63.]\n",
            "   [119. 106.  90.]\n",
            "   [137. 127. 108.]]]\n",
            "\n",
            "\n",
            " [[[222. 187. 138.]\n",
            "   [207. 171. 112.]\n",
            "   [225. 191. 128.]\n",
            "   ...\n",
            "   [183. 137. 101.]\n",
            "   [179. 134.  91.]\n",
            "   [189. 144. 103.]]\n",
            "\n",
            "  [[213. 181. 124.]\n",
            "   [213. 179. 123.]\n",
            "   [212. 177. 119.]\n",
            "   ...\n",
            "   [175. 129.  96.]\n",
            "   [176. 131.  91.]\n",
            "   [182. 136.  98.]]\n",
            "\n",
            "  [[216. 191. 126.]\n",
            "   [201. 171. 115.]\n",
            "   [209. 173. 120.]\n",
            "   ...\n",
            "   [198. 152. 123.]\n",
            "   [175. 128.  95.]\n",
            "   [180. 134.  98.]]\n",
            "\n",
            "  ...\n",
            "\n",
            "  [[209. 191. 119.]\n",
            "   [201. 184. 109.]\n",
            "   [200. 182. 111.]\n",
            "   ...\n",
            "   [187. 151.  91.]\n",
            "   [192. 153.  89.]\n",
            "   [197. 158.  90.]]\n",
            "\n",
            "  [[217. 212. 126.]\n",
            "   [158. 145. 100.]\n",
            "   [ 97.  76.  30.]\n",
            "   ...\n",
            "   [194. 159.  94.]\n",
            "   [195. 164.  94.]\n",
            "   [194. 171.  96.]]\n",
            "\n",
            "  [[188. 172. 111.]\n",
            "   [210. 190. 105.]\n",
            "   [204. 179.  88.]\n",
            "   ...\n",
            "   [207. 178.  98.]\n",
            "   [197. 168.  88.]\n",
            "   [205. 176. 100.]]]\n",
            "\n",
            "\n",
            " [[[138. 122.  89.]\n",
            "   [145. 128.  98.]\n",
            "   [153. 137. 108.]\n",
            "   ...\n",
            "   [242. 233. 200.]\n",
            "   [236. 227. 196.]\n",
            "   [239. 229. 202.]]\n",
            "\n",
            "  [[139. 122.  92.]\n",
            "   [146. 129. 103.]\n",
            "   [152. 139. 112.]\n",
            "   ...\n",
            "   [247. 242. 213.]\n",
            "   [244. 239. 207.]\n",
            "   [245. 240. 210.]]\n",
            "\n",
            "  [[150. 133. 108.]\n",
            "   [150. 136. 111.]\n",
            "   [158. 146. 122.]\n",
            "   ...\n",
            "   [249. 244. 215.]\n",
            "   [239. 235. 202.]\n",
            "   [236. 230. 196.]]\n",
            "\n",
            "  ...\n",
            "\n",
            "  [[150. 135. 106.]\n",
            "   [159. 147. 123.]\n",
            "   [166. 153. 134.]\n",
            "   ...\n",
            "   [245. 235. 199.]\n",
            "   [246. 236. 198.]\n",
            "   [242. 228. 191.]]\n",
            "\n",
            "  [[147. 130. 102.]\n",
            "   [154. 138. 115.]\n",
            "   [164. 152. 130.]\n",
            "   ...\n",
            "   [245. 232. 198.]\n",
            "   [244. 234. 198.]\n",
            "   [236. 223. 188.]]\n",
            "\n",
            "  [[140. 126.  91.]\n",
            "   [149. 134. 105.]\n",
            "   [162. 148. 121.]\n",
            "   ...\n",
            "   [240. 230. 198.]\n",
            "   [234. 221. 190.]\n",
            "   [234. 221. 187.]]]\n",
            "\n",
            "\n",
            " ...\n",
            "\n",
            "\n",
            " [[[ 78.  62.  38.]\n",
            "   [ 61.  46.  22.]\n",
            "   [ 73.  59.  33.]\n",
            "   ...\n",
            "   [ 68.  53.  20.]\n",
            "   [132. 117.  81.]\n",
            "   [234. 225. 171.]]\n",
            "\n",
            "  [[ 76.  69.  50.]\n",
            "   [ 89.  95.  75.]\n",
            "   [ 68.  73.  58.]\n",
            "   ...\n",
            "   [ 84.  74.  58.]\n",
            "   [ 53.  51.  31.]\n",
            "   [ 80.  59.  36.]]\n",
            "\n",
            "  [[ 94.  91.  67.]\n",
            "   [ 96. 104.  82.]\n",
            "   [ 95. 107.  97.]\n",
            "   ...\n",
            "   [ 80.  72.  53.]\n",
            "   [ 69.  63.  44.]\n",
            "   [ 75.  48.  24.]]\n",
            "\n",
            "  ...\n",
            "\n",
            "  [[ 42.  57.  77.]\n",
            "   [ 10.  31.  59.]\n",
            "   [ 26.  55. 103.]\n",
            "   ...\n",
            "   [ 57. 106. 165.]\n",
            "   [ 75. 123. 169.]\n",
            "   [132. 165. 198.]]\n",
            "\n",
            "  [[ 56.  79. 114.]\n",
            "   [ 32.  50.  97.]\n",
            "   [ 10.  28.  75.]\n",
            "   ...\n",
            "   [108. 142. 183.]\n",
            "   [ 75. 113. 168.]\n",
            "   [100. 122. 154.]]\n",
            "\n",
            "  [[ 57.  80. 110.]\n",
            "   [103. 121. 165.]\n",
            "   [ 63.  82. 123.]\n",
            "   ...\n",
            "   [106. 104.  93.]\n",
            "   [156. 159. 142.]\n",
            "   [110. 114. 100.]]]\n",
            "\n",
            "\n",
            " [[[128. 159. 129.]\n",
            "   [107. 170. 133.]\n",
            "   [ 78. 166. 136.]\n",
            "   ...\n",
            "   [100. 187. 162.]\n",
            "   [ 73. 174. 157.]\n",
            "   [ 83. 180. 177.]]\n",
            "\n",
            "  [[131. 159. 131.]\n",
            "   [ 82. 163. 113.]\n",
            "   [ 82. 157. 118.]\n",
            "   ...\n",
            "   [ 66. 122. 102.]\n",
            "   [114. 184. 176.]\n",
            "   [ 75. 180. 166.]]\n",
            "\n",
            "  [[ 94. 147. 115.]\n",
            "   [ 47. 110.  70.]\n",
            "   [ 73. 153. 117.]\n",
            "   ...\n",
            "   [102. 176. 141.]\n",
            "   [ 87. 171. 150.]\n",
            "   [ 75. 171. 165.]]\n",
            "\n",
            "  ...\n",
            "\n",
            "  [[ 50.  23.   4.]\n",
            "   [ 34.  16.  11.]\n",
            "   [ 28.  13.   8.]\n",
            "   ...\n",
            "   [ 26.  19.  10.]\n",
            "   [ 60.  49.  43.]\n",
            "   [ 50.  42.  28.]]\n",
            "\n",
            "  [[ 43.  19.  10.]\n",
            "   [ 33.  13.   7.]\n",
            "   [ 28.  14.  11.]\n",
            "   ...\n",
            "   [ 28.  19.  14.]\n",
            "   [ 28.  19.  14.]\n",
            "   [ 23.  15.  12.]]\n",
            "\n",
            "  [[ 37.  19.  15.]\n",
            "   [ 30.  15.  13.]\n",
            "   [ 31.  16.  13.]\n",
            "   ...\n",
            "   [ 33.  22.  16.]\n",
            "   [ 30.  23.  13.]\n",
            "   [ 48.  39.  19.]]]\n",
            "\n",
            "\n",
            " [[[135. 186. 199.]\n",
            "   [141. 194. 227.]\n",
            "   [135. 182. 210.]\n",
            "   ...\n",
            "   [127. 180. 201.]\n",
            "   [153. 199. 221.]\n",
            "   [140. 187. 217.]]\n",
            "\n",
            "  [[136. 192. 207.]\n",
            "   [127. 179. 193.]\n",
            "   [129. 182. 206.]\n",
            "   ...\n",
            "   [120. 175. 204.]\n",
            "   [142. 180. 202.]\n",
            "   [129. 178. 210.]]\n",
            "\n",
            "  [[117. 173. 196.]\n",
            "   [116. 172. 195.]\n",
            "   [131. 187. 210.]\n",
            "   ...\n",
            "   [119. 171. 202.]\n",
            "   [104. 158. 178.]\n",
            "   [110. 168. 206.]]\n",
            "\n",
            "  ...\n",
            "\n",
            "  [[112.  41.  10.]\n",
            "   [139.  75.  52.]\n",
            "   [104.  34.  18.]\n",
            "   ...\n",
            "   [ 49.  34.   8.]\n",
            "   [ 35.  25.   4.]\n",
            "   [ 83.  78.  64.]]\n",
            "\n",
            "  [[137.  76.  57.]\n",
            "   [ 85.  36.  23.]\n",
            "   [124.  37.  21.]\n",
            "   ...\n",
            "   [ 78.  64.  51.]\n",
            "   [ 74.  80.  53.]\n",
            "   [ 87.  88.  60.]]\n",
            "\n",
            "  [[ 62.  14.   5.]\n",
            "   [141.  93.  48.]\n",
            "   [126.  39.  16.]\n",
            "   ...\n",
            "   [ 76.  64.  52.]\n",
            "   [ 65.  51.  38.]\n",
            "   [ 70.  70.  51.]]]], shape=(32, 64, 64, 3), dtype=float32)\n"
          ]
        }
      ],
      "source": [
        "for element in dataset.take(1):\n",
        "    print(element)"
      ],
      "id": "083ebf3d"
    },
    {
      "cell_type": "code",
      "execution_count": 44,
      "metadata": {
        "colab": {
          "base_uri": "https://localhost:8080/"
        },
        "id": "ccfa5253",
        "outputId": "75e7ed25-8d48-4ce1-e73a-725aec127d05"
      },
      "outputs": [
        {
          "output_type": "stream",
          "name": "stdout",
          "text": [
            "tf.Tensor(0.6505485, shape=(), dtype=float32) tf.Tensor(1.3982577, shape=(), dtype=float32)\n",
            "tf.Tensor(3.074967, shape=(), dtype=float32) tf.Tensor(0.6585977, shape=(), dtype=float32)\n",
            "tf.Tensor(3.4066312, shape=(), dtype=float32) tf.Tensor(0.24154961, shape=(), dtype=float32)\n",
            "tf.Tensor(1.4805129, shape=(), dtype=float32) tf.Tensor(0.671314, shape=(), dtype=float32)\n",
            "tf.Tensor(2.5119991, shape=(), dtype=float32) tf.Tensor(0.29689512, shape=(), dtype=float32)\n",
            "tf.Tensor(13.508314, shape=(), dtype=float32) tf.Tensor(0.02300247, shape=(), dtype=float32)\n",
            "tf.Tensor(1.0523325, shape=(), dtype=float32) tf.Tensor(1.3320695, shape=(), dtype=float32)\n",
            "tf.Tensor(1.2293358, shape=(), dtype=float32) tf.Tensor(2.355649, shape=(), dtype=float32)\n",
            "tf.Tensor(2.4967103, shape=(), dtype=float32) tf.Tensor(0.49444038, shape=(), dtype=float32)\n",
            "tf.Tensor(4.341091, shape=(), dtype=float32) tf.Tensor(0.17206886, shape=(), dtype=float32)\n",
            "tf.Tensor(1.7709824, shape=(), dtype=float32) tf.Tensor(0.51971257, shape=(), dtype=float32)\n",
            "tf.Tensor(1.1236377, shape=(), dtype=float32) tf.Tensor(1.393019, shape=(), dtype=float32)\n",
            "tf.Tensor(6.3966703, shape=(), dtype=float32) tf.Tensor(0.1290014, shape=(), dtype=float32)\n",
            "tf.Tensor(3.7177205, shape=(), dtype=float32) tf.Tensor(0.5077958, shape=(), dtype=float32)\n",
            "tf.Tensor(2.5295944, shape=(), dtype=float32) tf.Tensor(0.6900019, shape=(), dtype=float32)\n",
            "tf.Tensor(1.7992963, shape=(), dtype=float32) tf.Tensor(3.364183, shape=(), dtype=float32)\n",
            "tf.Tensor(1.9801406, shape=(), dtype=float32) tf.Tensor(0.7973931, shape=(), dtype=float32)\n",
            "tf.Tensor(2.7678647, shape=(), dtype=float32) tf.Tensor(0.48831043, shape=(), dtype=float32)\n",
            "tf.Tensor(1.4071854, shape=(), dtype=float32) tf.Tensor(0.98212457, shape=(), dtype=float32)\n",
            "tf.Tensor(1.6214192, shape=(), dtype=float32) tf.Tensor(1.4122832, shape=(), dtype=float32)\n",
            "tf.Tensor(1.484812, shape=(), dtype=float32) tf.Tensor(0.92629474, shape=(), dtype=float32)\n",
            "tf.Tensor(1.4739649, shape=(), dtype=float32) tf.Tensor(0.7630398, shape=(), dtype=float32)\n",
            "tf.Tensor(1.1593174, shape=(), dtype=float32) tf.Tensor(1.33357, shape=(), dtype=float32)\n",
            "tf.Tensor(1.163449, shape=(), dtype=float32) tf.Tensor(0.6843659, shape=(), dtype=float32)\n",
            "tf.Tensor(3.2839506, shape=(), dtype=float32) tf.Tensor(0.13635366, shape=(), dtype=float32)\n",
            "tf.Tensor(0.81599, shape=(), dtype=float32) tf.Tensor(0.98578674, shape=(), dtype=float32)\n",
            "tf.Tensor(0.95270073, shape=(), dtype=float32) tf.Tensor(1.4212232, shape=(), dtype=float32)\n",
            "tf.Tensor(0.7871092, shape=(), dtype=float32) tf.Tensor(1.305265, shape=(), dtype=float32)\n",
            "tf.Tensor(0.6969564, shape=(), dtype=float32) tf.Tensor(1.3519416, shape=(), dtype=float32)\n",
            "tf.Tensor(1.0503472, shape=(), dtype=float32) tf.Tensor(1.2181361, shape=(), dtype=float32)\n",
            "tf.Tensor(0.98000383, shape=(), dtype=float32) tf.Tensor(1.2476901, shape=(), dtype=float32)\n",
            "tf.Tensor(0.9323592, shape=(), dtype=float32) tf.Tensor(1.2937486, shape=(), dtype=float32)\n",
            "tf.Tensor(0.7607087, shape=(), dtype=float32) tf.Tensor(1.2735715, shape=(), dtype=float32)\n",
            "tf.Tensor(0.5560913, shape=(), dtype=float32) tf.Tensor(1.4960852, shape=(), dtype=float32)\n",
            "tf.Tensor(1.0108953, shape=(), dtype=float32) tf.Tensor(1.254556, shape=(), dtype=float32)\n",
            "tf.Tensor(1.1024344, shape=(), dtype=float32) tf.Tensor(1.0217922, shape=(), dtype=float32)\n",
            "tf.Tensor(0.81699765, shape=(), dtype=float32) tf.Tensor(1.4116518, shape=(), dtype=float32)\n",
            "tf.Tensor(1.1372635, shape=(), dtype=float32) tf.Tensor(1.3710141, shape=(), dtype=float32)\n",
            "tf.Tensor(1.7430973, shape=(), dtype=float32) tf.Tensor(0.5683575, shape=(), dtype=float32)\n",
            "tf.Tensor(0.60864246, shape=(), dtype=float32) tf.Tensor(1.39414, shape=(), dtype=float32)\n",
            "tf.Tensor(0.64560443, shape=(), dtype=float32) tf.Tensor(1.3995476, shape=(), dtype=float32)\n",
            "tf.Tensor(0.6876503, shape=(), dtype=float32) tf.Tensor(1.3866019, shape=(), dtype=float32)\n",
            "tf.Tensor(0.7079456, shape=(), dtype=float32) tf.Tensor(1.3797691, shape=(), dtype=float32)\n",
            "tf.Tensor(0.6950716, shape=(), dtype=float32) tf.Tensor(1.3860126, shape=(), dtype=float32)\n",
            "tf.Tensor(0.7095491, shape=(), dtype=float32) tf.Tensor(1.386559, shape=(), dtype=float32)\n",
            "tf.Tensor(0.6961453, shape=(), dtype=float32) tf.Tensor(1.38692, shape=(), dtype=float32)\n",
            "tf.Tensor(0.6962005, shape=(), dtype=float32) tf.Tensor(1.3838362, shape=(), dtype=float32)\n",
            "tf.Tensor(0.7712949, shape=(), dtype=float32) tf.Tensor(1.752529, shape=(), dtype=float32)\n",
            "tf.Tensor(1.932667, shape=(), dtype=float32) tf.Tensor(0.7160231, shape=(), dtype=float32)\n",
            "tf.Tensor(0.8309762, shape=(), dtype=float32) tf.Tensor(1.6677415, shape=(), dtype=float32)\n",
            "tf.Tensor(1.5468915, shape=(), dtype=float32) tf.Tensor(0.9215679, shape=(), dtype=float32)\n",
            "tf.Tensor(2.1901226, shape=(), dtype=float32) tf.Tensor(0.3308146, shape=(), dtype=float32)\n",
            "tf.Tensor(0.8605555, shape=(), dtype=float32) tf.Tensor(1.2634275, shape=(), dtype=float32)\n",
            "tf.Tensor(1.0411149, shape=(), dtype=float32) tf.Tensor(1.3863604, shape=(), dtype=float32)\n",
            "tf.Tensor(1.1734364, shape=(), dtype=float32) tf.Tensor(1.2002412, shape=(), dtype=float32)\n",
            "tf.Tensor(1.0140334, shape=(), dtype=float32) tf.Tensor(1.0923653, shape=(), dtype=float32)\n",
            "tf.Tensor(1.057177, shape=(), dtype=float32) tf.Tensor(0.8834854, shape=(), dtype=float32)\n",
            "tf.Tensor(0.5322207, shape=(), dtype=float32) tf.Tensor(1.3916188, shape=(), dtype=float32)\n",
            "tf.Tensor(0.715011, shape=(), dtype=float32) tf.Tensor(1.6285224, shape=(), dtype=float32)\n",
            "tf.Tensor(1.5957997, shape=(), dtype=float32) tf.Tensor(0.62023604, shape=(), dtype=float32)\n",
            "tf.Tensor(1.4667665, shape=(), dtype=float32) tf.Tensor(2.023206, shape=(), dtype=float32)\n",
            "tf.Tensor(0.5381531, shape=(), dtype=float32) tf.Tensor(2.0478544, shape=(), dtype=float32)\n",
            "tf.Tensor(0.99207264, shape=(), dtype=float32) tf.Tensor(1.0784566, shape=(), dtype=float32)\n",
            "tf.Tensor(0.667248, shape=(), dtype=float32) tf.Tensor(1.8660581, shape=(), dtype=float32)\n",
            "tf.Tensor(0.7610087, shape=(), dtype=float32) tf.Tensor(1.5151665, shape=(), dtype=float32)\n",
            "tf.Tensor(0.82658666, shape=(), dtype=float32) tf.Tensor(0.97884685, shape=(), dtype=float32)\n",
            "tf.Tensor(0.94180083, shape=(), dtype=float32) tf.Tensor(1.3951259, shape=(), dtype=float32)\n",
            "tf.Tensor(1.0962509, shape=(), dtype=float32) tf.Tensor(1.1331978, shape=(), dtype=float32)\n",
            "tf.Tensor(1.3214573, shape=(), dtype=float32) tf.Tensor(0.9993001, shape=(), dtype=float32)\n",
            "tf.Tensor(1.3223622, shape=(), dtype=float32) tf.Tensor(1.1361105, shape=(), dtype=float32)\n",
            "tf.Tensor(0.6732495, shape=(), dtype=float32) tf.Tensor(1.4127104, shape=(), dtype=float32)\n",
            "tf.Tensor(0.7821619, shape=(), dtype=float32) tf.Tensor(1.3817222, shape=(), dtype=float32)\n",
            "tf.Tensor(0.8054078, shape=(), dtype=float32) tf.Tensor(1.4640582, shape=(), dtype=float32)\n",
            "tf.Tensor(1.1108855, shape=(), dtype=float32) tf.Tensor(0.7511296, shape=(), dtype=float32)\n",
            "tf.Tensor(0.96874225, shape=(), dtype=float32) tf.Tensor(1.5958831, shape=(), dtype=float32)\n",
            "tf.Tensor(1.2902954, shape=(), dtype=float32) tf.Tensor(1.118064, shape=(), dtype=float32)\n",
            "tf.Tensor(0.686921, shape=(), dtype=float32) tf.Tensor(1.330215, shape=(), dtype=float32)\n",
            "tf.Tensor(0.6313702, shape=(), dtype=float32) tf.Tensor(1.7050579, shape=(), dtype=float32)\n",
            "tf.Tensor(1.0692412, shape=(), dtype=float32) tf.Tensor(1.2140505, shape=(), dtype=float32)\n",
            "tf.Tensor(0.7400725, shape=(), dtype=float32) tf.Tensor(1.3703047, shape=(), dtype=float32)\n",
            "tf.Tensor(1.531282, shape=(), dtype=float32) tf.Tensor(0.67626095, shape=(), dtype=float32)\n",
            "tf.Tensor(0.87726057, shape=(), dtype=float32) tf.Tensor(1.3295486, shape=(), dtype=float32)\n",
            "tf.Tensor(0.7279518, shape=(), dtype=float32) tf.Tensor(1.3759484, shape=(), dtype=float32)\n",
            "tf.Tensor(1.7128791, shape=(), dtype=float32) tf.Tensor(0.85225034, shape=(), dtype=float32)\n",
            "tf.Tensor(1.5010724, shape=(), dtype=float32) tf.Tensor(0.9568229, shape=(), dtype=float32)\n",
            "tf.Tensor(0.9759494, shape=(), dtype=float32) tf.Tensor(1.0714936, shape=(), dtype=float32)\n",
            "tf.Tensor(0.895943, shape=(), dtype=float32) tf.Tensor(1.0643073, shape=(), dtype=float32)\n",
            "tf.Tensor(0.6126672, shape=(), dtype=float32) tf.Tensor(1.356242, shape=(), dtype=float32)\n",
            "tf.Tensor(0.6989911, shape=(), dtype=float32) tf.Tensor(1.5131968, shape=(), dtype=float32)\n",
            "tf.Tensor(1.0603147, shape=(), dtype=float32) tf.Tensor(1.1577849, shape=(), dtype=float32)\n",
            "tf.Tensor(1.0357723, shape=(), dtype=float32) tf.Tensor(1.5175053, shape=(), dtype=float32)\n",
            "tf.Tensor(1.1324656, shape=(), dtype=float32) tf.Tensor(1.4517329, shape=(), dtype=float32)\n",
            "tf.Tensor(1.6306422, shape=(), dtype=float32) tf.Tensor(0.7757726, shape=(), dtype=float32)\n",
            "tf.Tensor(0.83978975, shape=(), dtype=float32) tf.Tensor(2.0725632, shape=(), dtype=float32)\n",
            "tf.Tensor(1.7286768, shape=(), dtype=float32) tf.Tensor(0.86721194, shape=(), dtype=float32)\n",
            "tf.Tensor(2.7838514, shape=(), dtype=float32) tf.Tensor(0.35409683, shape=(), dtype=float32)\n",
            "tf.Tensor(0.98384833, shape=(), dtype=float32) tf.Tensor(1.1513448, shape=(), dtype=float32)\n",
            "tf.Tensor(1.1021125, shape=(), dtype=float32) tf.Tensor(0.9645417, shape=(), dtype=float32)\n",
            "tf.Tensor(1.0592803, shape=(), dtype=float32) tf.Tensor(1.7159017, shape=(), dtype=float32)\n",
            "tf.Tensor(1.7560015, shape=(), dtype=float32) tf.Tensor(0.98515934, shape=(), dtype=float32)\n",
            "tf.Tensor(0.62165916, shape=(), dtype=float32) tf.Tensor(1.8310931, shape=(), dtype=float32)\n",
            "tf.Tensor(0.7361224, shape=(), dtype=float32) tf.Tensor(1.5506139, shape=(), dtype=float32)\n",
            "tf.Tensor(1.0663741, shape=(), dtype=float32) tf.Tensor(1.1775429, shape=(), dtype=float32)\n",
            "tf.Tensor(0.69631517, shape=(), dtype=float32) tf.Tensor(1.2840621, shape=(), dtype=float32)\n",
            "tf.Tensor(0.8505264, shape=(), dtype=float32) tf.Tensor(1.4991109, shape=(), dtype=float32)\n",
            "tf.Tensor(0.52254736, shape=(), dtype=float32) tf.Tensor(1.3870004, shape=(), dtype=float32)\n",
            "tf.Tensor(0.60947025, shape=(), dtype=float32) tf.Tensor(1.4116527, shape=(), dtype=float32)\n",
            "tf.Tensor(0.67035896, shape=(), dtype=float32) tf.Tensor(1.3882798, shape=(), dtype=float32)\n",
            "tf.Tensor(0.68714404, shape=(), dtype=float32) tf.Tensor(1.3664782, shape=(), dtype=float32)\n",
            "tf.Tensor(0.6918255, shape=(), dtype=float32) tf.Tensor(1.381453, shape=(), dtype=float32)\n",
            "tf.Tensor(0.691543, shape=(), dtype=float32) tf.Tensor(1.3680534, shape=(), dtype=float32)\n",
            "tf.Tensor(0.7256148, shape=(), dtype=float32) tf.Tensor(1.3874311, shape=(), dtype=float32)\n",
            "tf.Tensor(0.6815097, shape=(), dtype=float32) tf.Tensor(1.3823531, shape=(), dtype=float32)\n",
            "tf.Tensor(0.6906725, shape=(), dtype=float32) tf.Tensor(1.385513, shape=(), dtype=float32)\n",
            "tf.Tensor(0.7104393, shape=(), dtype=float32) tf.Tensor(1.3905635, shape=(), dtype=float32)\n",
            "tf.Tensor(1.7048569, shape=(), dtype=float32) tf.Tensor(1.0012251, shape=(), dtype=float32)\n",
            "tf.Tensor(1.3201246, shape=(), dtype=float32) tf.Tensor(0.86412746, shape=(), dtype=float32)\n",
            "tf.Tensor(0.6426406, shape=(), dtype=float32) tf.Tensor(1.2762837, shape=(), dtype=float32)\n",
            "tf.Tensor(0.8278054, shape=(), dtype=float32) tf.Tensor(1.363962, shape=(), dtype=float32)\n",
            "tf.Tensor(0.67391026, shape=(), dtype=float32) tf.Tensor(2.0293376, shape=(), dtype=float32)\n",
            "tf.Tensor(1.2546489, shape=(), dtype=float32) tf.Tensor(4.969688, shape=(), dtype=float32)\n",
            "tf.Tensor(1.1856387, shape=(), dtype=float32) tf.Tensor(2.1486492, shape=(), dtype=float32)\n",
            "tf.Tensor(0.72542846, shape=(), dtype=float32) tf.Tensor(1.3558531, shape=(), dtype=float32)\n",
            "tf.Tensor(0.6917609, shape=(), dtype=float32) tf.Tensor(1.2342602, shape=(), dtype=float32)\n",
            "tf.Tensor(0.6346178, shape=(), dtype=float32) tf.Tensor(1.3907356, shape=(), dtype=float32)\n",
            "tf.Tensor(0.6628288, shape=(), dtype=float32) tf.Tensor(1.2933329, shape=(), dtype=float32)\n",
            "tf.Tensor(0.6983352, shape=(), dtype=float32) tf.Tensor(1.2769201, shape=(), dtype=float32)\n",
            "tf.Tensor(0.7069067, shape=(), dtype=float32) tf.Tensor(1.3599696, shape=(), dtype=float32)\n",
            "tf.Tensor(0.71704876, shape=(), dtype=float32) tf.Tensor(1.3799961, shape=(), dtype=float32)\n",
            "tf.Tensor(0.7020623, shape=(), dtype=float32) tf.Tensor(1.3887105, shape=(), dtype=float32)\n",
            "tf.Tensor(0.75468457, shape=(), dtype=float32) tf.Tensor(1.307704, shape=(), dtype=float32)\n",
            "tf.Tensor(0.7003983, shape=(), dtype=float32) tf.Tensor(1.3956991, shape=(), dtype=float32)\n",
            "tf.Tensor(0.7054703, shape=(), dtype=float32) tf.Tensor(1.386169, shape=(), dtype=float32)\n",
            "tf.Tensor(0.6943339, shape=(), dtype=float32) tf.Tensor(1.3862958, shape=(), dtype=float32)\n",
            "tf.Tensor(0.6932707, shape=(), dtype=float32) tf.Tensor(1.3862944, shape=(), dtype=float32)\n",
            "tf.Tensor(0.69316596, shape=(), dtype=float32) tf.Tensor(1.3862944, shape=(), dtype=float32)\n",
            "tf.Tensor(0.69318575, shape=(), dtype=float32) tf.Tensor(1.3862944, shape=(), dtype=float32)\n",
            "tf.Tensor(0.69315875, shape=(), dtype=float32) tf.Tensor(1.3862944, shape=(), dtype=float32)\n",
            "tf.Tensor(0.69318026, shape=(), dtype=float32) tf.Tensor(1.3862944, shape=(), dtype=float32)\n",
            "tf.Tensor(0.6763052, shape=(), dtype=float32) tf.Tensor(1.1808124, shape=(), dtype=float32)\n",
            "tf.Tensor(0.96124095, shape=(), dtype=float32) tf.Tensor(1.2805767, shape=(), dtype=float32)\n",
            "tf.Tensor(2.1276865, shape=(), dtype=float32) tf.Tensor(0.84927666, shape=(), dtype=float32)\n",
            "tf.Tensor(1.8207297, shape=(), dtype=float32) tf.Tensor(0.6163049, shape=(), dtype=float32)\n",
            "tf.Tensor(1.6772637, shape=(), dtype=float32) tf.Tensor(1.7743282, shape=(), dtype=float32)\n",
            "tf.Tensor(1.3947535, shape=(), dtype=float32) tf.Tensor(0.88151336, shape=(), dtype=float32)\n",
            "tf.Tensor(3.1593409, shape=(), dtype=float32) tf.Tensor(0.34830752, shape=(), dtype=float32)\n",
            "tf.Tensor(1.4387735, shape=(), dtype=float32) tf.Tensor(0.82007074, shape=(), dtype=float32)\n",
            "tf.Tensor(1.1146674, shape=(), dtype=float32) tf.Tensor(1.5411334, shape=(), dtype=float32)\n",
            "tf.Tensor(1.2584573, shape=(), dtype=float32) tf.Tensor(1.1503327, shape=(), dtype=float32)\n",
            "tf.Tensor(0.74734473, shape=(), dtype=float32) tf.Tensor(1.8225971, shape=(), dtype=float32)\n"
          ]
        }
      ],
      "source": [
        "vg=train_tot(dataset,150)"
      ],
      "id": "ccfa5253"
    },
    {
      "cell_type": "code",
      "execution_count": null,
      "metadata": {
        "id": "irMIINQjIHU9"
      },
      "outputs": [],
      "source": [
        ""
      ],
      "id": "irMIINQjIHU9"
    },
    {
      "cell_type": "code",
      "execution_count": 51,
      "metadata": {
        "id": "fb9fb73b"
      },
      "outputs": [],
      "source": [
        "noise=generator(tf.random.normal([1,seed_size]),training=False)[0]"
      ],
      "id": "fb9fb73b"
    },
    {
      "cell_type": "code",
      "execution_count": 46,
      "metadata": {
        "id": "NIZMmusCJoSm"
      },
      "outputs": [],
      "source": [
        "vg=np.array(vg*127.5+127.5)"
      ],
      "id": "NIZMmusCJoSm"
    },
    {
      "cell_type": "code",
      "source": [
        "plt.imshow(vg.astype(np.int32))"
      ],
      "metadata": {
        "colab": {
          "base_uri": "https://localhost:8080/",
          "height": 285
        },
        "id": "s9ec-jxDiLtd",
        "outputId": "b177044d-c3df-49ec-e81d-7d7925c7c71f"
      },
      "id": "s9ec-jxDiLtd",
      "execution_count": 49,
      "outputs": [
        {
          "output_type": "execute_result",
          "data": {
            "text/plain": [
              "<matplotlib.image.AxesImage at 0x7f97657bb690>"
            ]
          },
          "metadata": {},
          "execution_count": 49
        },
        {
          "output_type": "display_data",
          "data": {
            "text/plain": [
              "<Figure size 432x288 with 1 Axes>"
            ],
            "image/png": "[encoded data removed]"
          },
          "metadata": {
            "needs_background": "light"
          }
        }
      ]
    },
    {
      "cell_type": "code",
      "execution_count": null,
      "metadata": {
        "colab": {
          "base_uri": "https://localhost:8080/"
        },
        "id": "bZGDEhaWNe-r",
        "outputId": "38d610fc-9f53-45d3-db48-14e70c62058b"
      },
      "outputs": [
        {
          "data": {
            "text/plain": [
              "(7,)"
            ]
          },
          "execution_count": 33,
          "metadata": {},
          "output_type": "execute_result"
        }
      ],
      "source": [
        ""
      ],
      "id": "bZGDEhaWNe-r"
    },
    {
      "cell_type": "code",
      "execution_count": 52,
      "metadata": {
        "id": "4hchMPNdpYfb",
        "colab": {
          "base_uri": "https://localhost:8080/"
        },
        "outputId": "a80648b9-d6f7-4e21-a83d-4b5ad741205b"
      },
      "outputs": [
        {
          "output_type": "execute_result",
          "data": {
            "text/plain": [
              "<tf.Tensor: shape=(64, 64, 3), dtype=float32, numpy=\n",
              "array([[[0.98019624, 0.95354223, 0.89293283],\n",
              "        [0.9997174 , 0.9954433 , 0.9143914 ],\n",
              "        [0.9999876 , 0.9996409 , 0.9668043 ],\n",
              "        ...,\n",
              "        [1.        , 1.        , 1.        ],\n",
              "        [1.        , 1.        , 1.        ],\n",
              "        [1.        , 1.        , 0.99999964]],\n",
              "\n",
              "       [[0.9902596 , 0.9852182 , 0.9412743 ],\n",
              "        [0.99995714, 0.99898654, 0.9292905 ],\n",
              "        [0.9999988 , 0.9999328 , 0.9717636 ],\n",
              "        ...,\n",
              "        [1.        , 1.        , 1.        ],\n",
              "        [1.        , 1.        , 1.        ],\n",
              "        [1.        , 1.        , 1.        ]],\n",
              "\n",
              "       [[0.95342934, 0.9516308 , 0.86970717],\n",
              "        [0.9996879 , 0.9936953 , 0.81117344],\n",
              "        [0.99998486, 0.99929005, 0.9255726 ],\n",
              "        ...,\n",
              "        [1.        , 1.        , 1.        ],\n",
              "        [1.        , 1.        , 1.        ],\n",
              "        [1.        , 1.        , 1.        ]],\n",
              "\n",
              "       ...,\n",
              "\n",
              "       [[0.9999972 , 0.9997892 , 0.992425  ],\n",
              "        [1.        , 1.        , 0.99981   ],\n",
              "        [1.        , 1.        , 0.9999813 ],\n",
              "        ...,\n",
              "        [0.9850338 , 0.96086246, 0.86199176],\n",
              "        [0.9837399 , 0.95784044, 0.8277357 ],\n",
              "        [0.9798939 , 0.92047024, 0.58057636]],\n",
              "\n",
              "       [[0.9998503 , 0.9929366 , 0.9655524 ],\n",
              "        [1.        , 0.99995106, 0.9971109 ],\n",
              "        [1.        , 1.        , 0.9998563 ],\n",
              "        ...,\n",
              "        [0.9899403 , 0.9669722 , 0.8959676 ],\n",
              "        [0.99464405, 0.9802383 , 0.901842  ],\n",
              "        [0.9889212 , 0.9559951 , 0.69489443]],\n",
              "\n",
              "       [[0.7743768 , 0.59536076, 0.43335295],\n",
              "        [0.9988673 , 0.9666592 , 0.84195536],\n",
              "        [0.99998957, 0.99930906, 0.9840072 ],\n",
              "        ...,\n",
              "        [0.93814164, 0.93451065, 0.8117769 ],\n",
              "        [0.96108794, 0.9530173 , 0.8372163 ],\n",
              "        [0.9830285 , 0.9472434 , 0.82145554]]], dtype=float32)>"
            ]
          },
          "metadata": {},
          "execution_count": 52
        }
      ],
      "source": [
        "noise"
      ],
      "id": "4hchMPNdpYfb"
    },
    {
      "cell_type": "code",
      "execution_count": 55,
      "metadata": {
        "colab": {
          "base_uri": "https://localhost:8080/",
          "height": 285
        },
        "id": "FZs3Dx_Gotk2",
        "outputId": "44c226eb-affb-4594-a837-0a3d2cdbf181"
      },
      "outputs": [
        {
          "output_type": "execute_result",
          "data": {
            "text/plain": [
              "<matplotlib.image.AxesImage at 0x7f97647553d0>"
            ]
          },
          "metadata": {},
          "execution_count": 55
        },
        {
          "output_type": "display_data",
          "data": {
            "text/plain": [
              "<Figure size 432x288 with 1 Axes>"
            ],
            "image/png": "[encoded data removed]"
          },
          "metadata": {
            "needs_background": "light"
          }
        }
      ],
      "source": [
        "import matplotlib.pyplot as plt\n",
        "import sys\n",
        "plt.imshow((np.array(noise)*127.5+127.5).astype(np.int32))"
      ],
      "id": "FZs3Dx_Gotk2"
    },
    {
      "cell_type": "code",
      "execution_count": null,
      "metadata": {
        "id": "JuJbMdy8LVoU"
      },
      "outputs": [],
      "source": [
        "nn=np.array((noise))"
      ],
      "id": "JuJbMdy8LVoU"
    },
    {
      "cell_type": "code",
      "execution_count": null,
      "metadata": {
        "id": "WYU1y2mYVgOV"
      },
      "outputs": [],
      "source": [
        "os.chdir('/content/drive/MyDrive')"
      ],
      "id": "WYU1y2mYVgOV"
    },
    {
      "cell_type": "code",
      "execution_count": null,
      "metadata": {
        "colab": {
          "base_uri": "https://localhost:8080/",
          "height": 35
        },
        "id": "pUbyWsQyVlXQ",
        "outputId": "df64be2e-e43f-4f83-faad-bc82ad4c1b89"
      },
      "outputs": [
        {
          "data": {
            "application/vnd.google.colaboratory.intrinsic+json": {
              "type": "string"
            },
            "text/plain": [
              "'/content/drive/MyDrive'"
            ]
          },
          "execution_count": 70,
          "metadata": {},
          "output_type": "execute_result"
        }
      ],
      "source": [
        "os.getcwd()"
      ],
      "id": "pUbyWsQyVlXQ"
    },
    {
      "cell_type": "code",
      "execution_count": null,
      "metadata": {
        "id": "1zFhPYoXUiRY"
      },
      "outputs": [],
      "source": [
        "np.save(os.path.join(os.getcwd(),'gg'),nn)"
      ],
      "id": "1zFhPYoXUiRY"
    },
    {
      "cell_type": "code",
      "execution_count": null,
      "metadata": {
        "colab": {
          "base_uri": "https://localhost:8080/",
          "height": 320
        },
        "id": "FUfpdifJMVr9",
        "outputId": "c214c4b9-472e-4c04-f7cc-eeb40064fe07"
      },
      "outputs": [
        {
          "output_type": "stream",
          "name": "stderr",
          "text": [
            "Clipping input data to the valid range for imshow with RGB data ([0..1] for floats or [0..255] for integers).\n"
          ]
        },
        {
          "output_type": "execute_result",
          "data": {
            "text/plain": [
              "<matplotlib.image.AxesImage at 0x7f4800bb2e90>"
            ]
          },
          "metadata": {},
          "execution_count": 154
        },
        {
          "output_type": "display_data",
          "data": {
            "text/plain": [
              "<Figure size 432x288 with 1 Axes>"
            ],
            "image/png": "[encoded data removed]"
          },
          "metadata": {
            "needs_background": "light"
          }
        }
      ],
      "source": [
        "plt.imshow(images[10])"
      ],
      "id": "FUfpdifJMVr9"
    },
    {
      "cell_type": "code",
      "execution_count": null,
      "metadata": {
        "id": "eMJ5G2nLKjTi"
      },
      "outputs": [],
      "source": [
        "import cv2"
      ],
      "id": "eMJ5G2nLKjTi"
    },
    {
      "cell_type": "code",
      "execution_count": null,
      "metadata": {
        "colab": {
          "base_uri": "https://localhost:8080/",
          "height": 409
        },
        "id": "IYbOvkvCJabv",
        "outputId": "d43b3579-4d4b-4230-9575-88536ca10610"
      },
      "outputs": [
        {
          "ename": "DisabledFunctionError",
          "evalue": "ignored",
          "output_type": "error",
          "traceback": [
            "\u001b[0;31m---------------------------------------------------------------------------\u001b[0m",
            "\u001b[0;31mDisabledFunctionError\u001b[0m                     Traceback (most recent call last)",
            "\u001b[0;32m<ipython-input-63-da444e398881>\u001b[0m in \u001b[0;36m<module>\u001b[0;34m()\u001b[0m\n\u001b[1;32m      1\u001b[0m \u001b[0;32mwhile\u001b[0m \u001b[0;32mTrue\u001b[0m\u001b[0;34m:\u001b[0m\u001b[0;34m\u001b[0m\u001b[0;34m\u001b[0m\u001b[0m\n\u001b[0;32m----> 2\u001b[0;31m     \u001b[0mcv2\u001b[0m\u001b[0;34m.\u001b[0m\u001b[0mimshow\u001b[0m\u001b[0;34m(\u001b[0m\u001b[0mnoise\u001b[0m\u001b[0;34m)\u001b[0m\u001b[0;34m\u001b[0m\u001b[0;34m\u001b[0m\u001b[0m\n\u001b[0m\u001b[1;32m      3\u001b[0m     \u001b[0mcv2\u001b[0m\u001b[0;34m.\u001b[0m\u001b[0mwaitKey\u001b[0m\u001b[0;34m(\u001b[0m\u001b[0;36m0\u001b[0m\u001b[0;34m)\u001b[0m\u001b[0;34m\u001b[0m\u001b[0;34m\u001b[0m\u001b[0m\n\u001b[1;32m      4\u001b[0m     \u001b[0msys\u001b[0m\u001b[0;34m.\u001b[0m\u001b[0mexit\u001b[0m\u001b[0;34m(\u001b[0m\u001b[0;34m)\u001b[0m \u001b[0;31m# to exit from all the processes\u001b[0m\u001b[0;34m\u001b[0m\u001b[0;34m\u001b[0m\u001b[0m\n\u001b[1;32m      5\u001b[0m \u001b[0;34m\u001b[0m\u001b[0m\n",
            "\u001b[0;32m/usr/local/lib/python3.7/dist-packages/google/colab/_import_hooks/_cv2.py\u001b[0m in \u001b[0;36mwrapped\u001b[0;34m(*args, **kwargs)\u001b[0m\n\u001b[1;32m     50\u001b[0m   \u001b[0;32mdef\u001b[0m \u001b[0mwrapped\u001b[0m\u001b[0;34m(\u001b[0m\u001b[0;34m*\u001b[0m\u001b[0margs\u001b[0m\u001b[0;34m,\u001b[0m \u001b[0;34m**\u001b[0m\u001b[0mkwargs\u001b[0m\u001b[0;34m)\u001b[0m\u001b[0;34m:\u001b[0m\u001b[0;34m\u001b[0m\u001b[0;34m\u001b[0m\u001b[0m\n\u001b[1;32m     51\u001b[0m     \u001b[0;32mif\u001b[0m \u001b[0;32mnot\u001b[0m \u001b[0mos\u001b[0m\u001b[0;34m.\u001b[0m\u001b[0menviron\u001b[0m\u001b[0;34m.\u001b[0m\u001b[0mget\u001b[0m\u001b[0;34m(\u001b[0m\u001b[0menv_var\u001b[0m\u001b[0;34m,\u001b[0m \u001b[0;32mFalse\u001b[0m\u001b[0;34m)\u001b[0m\u001b[0;34m:\u001b[0m\u001b[0;34m\u001b[0m\u001b[0;34m\u001b[0m\u001b[0m\n\u001b[0;32m---> 52\u001b[0;31m       \u001b[0;32mraise\u001b[0m \u001b[0mDisabledFunctionError\u001b[0m\u001b[0;34m(\u001b[0m\u001b[0mmessage\u001b[0m\u001b[0;34m,\u001b[0m \u001b[0mname\u001b[0m \u001b[0;32mor\u001b[0m \u001b[0mfunc\u001b[0m\u001b[0;34m.\u001b[0m\u001b[0m__name__\u001b[0m\u001b[0;34m)\u001b[0m\u001b[0;34m\u001b[0m\u001b[0;34m\u001b[0m\u001b[0m\n\u001b[0m\u001b[1;32m     53\u001b[0m     \u001b[0;32mreturn\u001b[0m \u001b[0mfunc\u001b[0m\u001b[0;34m(\u001b[0m\u001b[0;34m*\u001b[0m\u001b[0margs\u001b[0m\u001b[0;34m,\u001b[0m \u001b[0;34m**\u001b[0m\u001b[0mkwargs\u001b[0m\u001b[0;34m)\u001b[0m\u001b[0;34m\u001b[0m\u001b[0;34m\u001b[0m\u001b[0m\n\u001b[1;32m     54\u001b[0m \u001b[0;34m\u001b[0m\u001b[0m\n",
            "\u001b[0;31mDisabledFunctionError\u001b[0m: cv2.imshow() is disabled in Colab, because it causes Jupyter sessions\nto crash; see https://github.com/jupyter/notebook/issues/3935.\nAs a substitution, consider using\n  from google.colab.patches import cv2_imshow\n"
          ]
        }
      ],
      "source": [
        "while True:\n",
        "    cv2.imshow(noise)\n",
        "    cv2.waitKey(0)\n",
        "    sys.exit() # to exit from all the processes\n",
        " \n",
        "cv2.destroyAllWindows() # destroy all windows"
      ],
      "id": "IYbOvkvCJabv"
    },
    {
      "cell_type": "code",
      "execution_count": null,
      "metadata": {
        "id": "qGHoHcpqJuGy"
      },
      "outputs": [],
      "source": [
        ""
      ],
      "id": "qGHoHcpqJuGy"
    }
  ],
  "metadata": {
    "accelerator": "GPU",
    "colab": {
      "name": "ArtGeneration_GAN.ipynb",
      "provenance": [],
      "include_colab_link": true
    },
    "kernelspec": {
      "display_name": "Python 3",
      "language": "python",
      "name": "python3"
    },
    "language_info": {
      "codemirror_mode": {
        "name": "ipython",
        "version": 3
      },
      "file_extension": ".py",
      "mimetype": "text/x-python",
      "name": "python",
      "nbconvert_exporter": "python",
      "pygments_lexer": "ipython3",
      "version": "3.7.10"
    },
    "gpuClass": "standard"
  },
  "nbformat": 4,
  "nbformat_minor": 5
}