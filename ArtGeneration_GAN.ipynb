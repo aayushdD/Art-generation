{
  "cells": [
    {
      "cell_type": "markdown",
      "metadata": {
        "id": "view-in-github",
        "colab_type": "text"
      },
      "source": [
        "<a href=\"https://colab.research.google.com/github/aayushdD/Art-generation/blob/master/ArtGeneration_GAN.ipynb\" target=\"_parent\"><img src=\"https://colab.research.google.com/assets/colab-badge.svg\" alt=\"Open In Colab\"/></a>"
      ]
    },
    {
      "cell_type": "code",
      "execution_count": 1,
      "metadata": {
        "id": "f34f2911"
      },
      "outputs": [],
      "source": [
        "import tensorflow as tf\n",
        "from tensorflow import keras\n",
        "import os"
      ],
      "id": "f34f2911"
    },
    {
      "cell_type": "code",
      "execution_count": null,
      "metadata": {
        "id": "AJd6p-9rPYrB"
      },
      "outputs": [],
      "source": [
        ""
      ],
      "id": "AJd6p-9rPYrB"
    },
    {
      "cell_type": "code",
      "execution_count": null,
      "metadata": {
        "id": "mEGELIzPNVyN"
      },
      "outputs": [],
      "source": [
        ""
      ],
      "id": "mEGELIzPNVyN"
    },
    {
      "cell_type": "code",
      "execution_count": 2,
      "metadata": {
        "id": "LegWVJOkNOrF"
      },
      "outputs": [],
      "source": [
        "from google.colab import drive\n",
        "\n"
      ],
      "id": "LegWVJOkNOrF"
    },
    {
      "cell_type": "code",
      "execution_count": 3,
      "metadata": {
        "colab": {
          "base_uri": "https://localhost:8080/"
        },
        "id": "Mx1RQAMoNnsq",
        "outputId": "fe0e9c27-f97d-4d84-9a24-ad34bf8e04f1"
      },
      "outputs": [
        {
          "output_type": "stream",
          "name": "stdout",
          "text": [
            "Mounted at /content/drive\n"
          ]
        }
      ],
      "source": [
        "drive.mount('/content/drive')"
      ],
      "id": "Mx1RQAMoNnsq"
    },
    {
      "cell_type": "code",
      "execution_count": 4,
      "metadata": {
        "id": "de38262b"
      },
      "outputs": [],
      "source": [
        "from PIL import Image\n",
        "import glob\n",
        "import cv2"
      ],
      "id": "de38262b"
    },
    {
      "cell_type": "code",
      "execution_count": 5,
      "metadata": {
        "id": "0da859bf"
      },
      "outputs": [],
      "source": [
        "image_list=[]"
      ],
      "id": "0da859bf"
    },
    {
      "cell_type": "code",
      "execution_count": null,
      "metadata": {
        "colab": {
          "base_uri": "https://localhost:8080/"
        },
        "id": "8bcc867b",
        "outputId": "0b086411-626d-4d8f-911a-c5adbe4de132"
      },
      "outputs": [
        {
          "output_type": "stream",
          "name": "stdout",
          "text": [
            "/content\n",
            "['.config', 'drive', 'sample_data']\n"
          ]
        }
      ],
      "source": [
        "print(os.getcwd())\n",
        "print(os.listdir())"
      ],
      "id": "8bcc867b"
    },
    {
      "cell_type": "code",
      "execution_count": null,
      "metadata": {
        "id": "wJfHha-ljYsD"
      },
      "outputs": [],
      "source": [
        ""
      ],
      "id": "wJfHha-ljYsD"
    },
    {
      "cell_type": "code",
      "execution_count": null,
      "metadata": {
        "colab": {
          "base_uri": "https://localhost:8080/"
        },
        "id": "Vtp8NeUcjj6R",
        "outputId": "0b693bbe-d125-4dc5-cfad-f7e70bfb4384"
      },
      "outputs": [
        {
          "output_type": "execute_result",
          "data": {
            "text/plain": [
              "['.config', 'drive', 'sample_data']"
            ]
          },
          "metadata": {},
          "execution_count": 8
        }
      ],
      "source": [
        "os.listdir()"
      ],
      "id": "Vtp8NeUcjj6R"
    },
    {
      "cell_type": "code",
      "execution_count": null,
      "metadata": {
        "id": "80cd0a9b"
      },
      "outputs": [],
      "source": [
        "ll=os.walk(os.path.join(os.getcwd(),'drive\\resized\\resized'))"
      ],
      "id": "80cd0a9b"
    },
    {
      "cell_type": "code",
      "execution_count": null,
      "metadata": {
        "id": "2lzZrFRBjNQr"
      },
      "outputs": [],
      "source": [
        ""
      ],
      "id": "2lzZrFRBjNQr"
    },
    {
      "cell_type": "code",
      "execution_count": 6,
      "metadata": {
        "id": "Ww0EHPjGjEcm"
      },
      "outputs": [],
      "source": [
        "import numpy as np"
      ],
      "id": "Ww0EHPjGjEcm"
    },
    {
      "cell_type": "code",
      "execution_count": null,
      "metadata": {
        "id": "41d7599a"
      },
      "outputs": [],
      "source": [
        "for i , j , k in ll:\n",
        "    path=i.split(os.sep)\n",
        "    print(path)"
      ],
      "id": "41d7599a"
    },
    {
      "cell_type": "code",
      "execution_count": 7,
      "metadata": {
        "id": "0f0df959"
      },
      "outputs": [],
      "source": [
        "images=[]\n",
        "for i , j , k in os.walk(os.path.join(os.getcwd(),'drive/MyDrive/resized/resized')):\n",
        "    image_list=os.listdir(i)\n",
        "    for image in image_list:\n",
        "        instance=cv2.imread(os.path.join(i,image))\n",
        "        instance=cv2.cvtColor(instance, cv2.COLOR_BGR2RGB)\n",
        "        ins=cv2.resize(instance,(64,64)).astype('float32')\n",
        "        ins=(ins-127.5)/127.5\n",
        "        images.append(ins)\n",
        "\n",
        "images=np.array(images)\n",
        "    \n",
        "    "
      ],
      "id": "0f0df959"
    },
    {
      "cell_type": "code",
      "source": [
        ""
      ],
      "metadata": {
        "id": "NvPz70UtczPO",
        "colab": {
          "base_uri": "https://localhost:8080/",
          "height": 35
        },
        "outputId": "ce71e6d8-ff88-4929-9db9-7b3f163f0ac8"
      },
      "id": "NvPz70UtczPO",
      "execution_count": null,
      "outputs": [
        {
          "output_type": "execute_result",
          "data": {
            "text/plain": [
              "'/content'"
            ],
            "application/vnd.google.colaboratory.intrinsic+json": {
              "type": "string"
            }
          },
          "metadata": {},
          "execution_count": 10
        }
      ]
    },
    {
      "cell_type": "code",
      "execution_count": 8,
      "metadata": {
        "colab": {
          "base_uri": "https://localhost:8080/"
        },
        "id": "ARGr-wGCjLDf",
        "outputId": "e09f9dc6-48a9-4ad0-c49d-d70fa6e306fe"
      },
      "outputs": [
        {
          "output_type": "execute_result",
          "data": {
            "text/plain": [
              "(8683, 64, 64, 3)"
            ]
          },
          "metadata": {},
          "execution_count": 8
        }
      ],
      "source": [
        "images.shape"
      ],
      "id": "ARGr-wGCjLDf"
    },
    {
      "cell_type": "code",
      "source": [
        "np.save(os.path.join(os.getcwd(),'drive/MyDrive/art_gen_training_64'),images)"
      ],
      "metadata": {
        "id": "CiC3Kka1UI0F"
      },
      "id": "CiC3Kka1UI0F",
      "execution_count": 9,
      "outputs": []
    },
    {
      "cell_type": "code",
      "source": [
        "images=np.load('drive/MyDrive/art_gen_training_64.npy')\n",
        "print(images.shape)"
      ],
      "metadata": {
        "colab": {
          "base_uri": "https://localhost:8080/"
        },
        "id": "O8P9jc2PdUqZ",
        "outputId": "5452584a-f4ca-4441-de86-c7152350fda1"
      },
      "id": "O8P9jc2PdUqZ",
      "execution_count": 10,
      "outputs": [
        {
          "output_type": "stream",
          "name": "stdout",
          "text": [
            "(8683, 64, 64, 3)\n"
          ]
        }
      ]
    },
    {
      "cell_type": "code",
      "execution_count": 11,
      "metadata": {
        "id": "25fa083e"
      },
      "outputs": [],
      "source": [
        "import numpy as np\n",
        "import matplotlib.pyplot as plt "
      ],
      "id": "25fa083e"
    },
    {
      "cell_type": "code",
      "execution_count": 12,
      "metadata": {
        "colab": {
          "base_uri": "https://localhost:8080/"
        },
        "id": "fd5dd2c9",
        "outputId": "7b4ed37b-6258-4501-8136-9dcb55266589"
      },
      "outputs": [
        {
          "output_type": "execute_result",
          "data": {
            "text/plain": [
              "8683"
            ]
          },
          "metadata": {},
          "execution_count": 12
        }
      ],
      "source": [
        "len(images)"
      ],
      "id": "fd5dd2c9"
    },
    {
      "cell_type": "code",
      "execution_count": 13,
      "metadata": {
        "colab": {
          "base_uri": "https://localhost:8080/"
        },
        "id": "e2344420",
        "outputId": "cf3acb77-2ff2-4003-f625-d138188fbe34"
      },
      "outputs": [
        {
          "output_type": "execute_result",
          "data": {
            "text/plain": [
              "(64, 64, 3)"
            ]
          },
          "metadata": {},
          "execution_count": 13
        }
      ],
      "source": [
        "images[0].shape"
      ],
      "id": "e2344420"
    },
    {
      "cell_type": "code",
      "source": [
        "images[0]*127.5+127.5"
      ],
      "metadata": {
        "colab": {
          "base_uri": "https://localhost:8080/"
        },
        "id": "XC-NsRYKYMPm",
        "outputId": "9027cc2c-d2a2-458b-fc5e-8f00569421ad"
      },
      "id": "XC-NsRYKYMPm",
      "execution_count": 21,
      "outputs": [
        {
          "output_type": "execute_result",
          "data": {
            "text/plain": [
              "array([[[58., 44., 36.],\n",
              "        [52., 35., 25.],\n",
              "        [53., 41., 33.],\n",
              "        ...,\n",
              "        [15., 21., 35.],\n",
              "        [ 9., 18., 37.],\n",
              "        [ 6., 12., 24.]],\n",
              "\n",
              "       [[43., 29., 20.],\n",
              "        [45., 31., 22.],\n",
              "        [43., 29., 20.],\n",
              "        ...,\n",
              "        [ 7., 18., 35.],\n",
              "        [10., 21., 41.],\n",
              "        [ 9., 24., 43.]],\n",
              "\n",
              "       [[44., 31., 22.],\n",
              "        [41., 28., 19.],\n",
              "        [43., 29., 20.],\n",
              "        ...,\n",
              "        [13., 21., 42.],\n",
              "        [13., 29., 45.],\n",
              "        [13., 30., 48.]],\n",
              "\n",
              "       ...,\n",
              "\n",
              "       [[27., 14.,  8.],\n",
              "        [45., 32., 23.],\n",
              "        [49., 35., 26.],\n",
              "        ...,\n",
              "        [34., 19., 12.],\n",
              "        [22.,  9.,  1.],\n",
              "        [13.,  5.,  2.]],\n",
              "\n",
              "       [[23., 10.,  1.],\n",
              "        [41., 25., 18.],\n",
              "        [43., 30., 20.],\n",
              "        ...,\n",
              "        [41., 26., 19.],\n",
              "        [41., 26., 19.],\n",
              "        [17.,  8.,  6.]],\n",
              "\n",
              "       [[45., 32., 23.],\n",
              "        [47., 30., 23.],\n",
              "        [51., 37., 28.],\n",
              "        ...,\n",
              "        [36., 25., 16.],\n",
              "        [21.,  9.,  4.],\n",
              "        [11.,  6.,  4.]]], dtype=float32)"
            ]
          },
          "metadata": {},
          "execution_count": 21
        }
      ]
    },
    {
      "cell_type": "code",
      "source": [
        "plt.imshow((images[0]*127.5+127.5).astype(np.int32))"
      ],
      "metadata": {
        "colab": {
          "base_uri": "https://localhost:8080/",
          "height": 285
        },
        "id": "eSznW-QJXF6E",
        "outputId": "f9d77ab3-5c82-4f49-941a-7938824a0106"
      },
      "id": "eSznW-QJXF6E",
      "execution_count": 22,
      "outputs": [
        {
          "output_type": "execute_result",
          "data": {
            "text/plain": [
              "<matplotlib.image.AxesImage at 0x7eff5b9b4fd0>"
            ]
          },
          "metadata": {},
          "execution_count": 22
        },
        {
          "output_type": "display_data",
          "data": {
            "text/plain": [
              "<Figure size 432x288 with 1 Axes>"
            ],
            "image/png": "[encoded data removed]"
          },
          "metadata": {
            "needs_background": "light"
          }
        }
      ]
    },
    {
      "cell_type": "code",
      "execution_count": 56,
      "metadata": {
        "id": "cf7b883f"
      },
      "outputs": [],
      "source": [
        "discriminator=keras.models.Sequential([\n",
        "    keras.layers.Conv2D(64, kernel_size=4,strides=2, padding='same', input_shape=[64,64,3]),\n",
        "    keras.layers.BatchNormalization(),\n",
        "    keras.layers.LeakyReLU(),\n",
        "    \n",
        "    keras.layers.Conv2D(128,kernel_size=4,strides=2,padding='same'),\n",
        "    keras.layers.BatchNormalization(),\n",
        "    keras.layers.LeakyReLU(),\n",
        "    \n",
        "    keras.layers.Conv2D(256,kernel_size=4,strides=2,padding='same'),\n",
        "    keras.layers.BatchNormalization(),\n",
        "    keras.layers.LeakyReLU(),\n",
        "    \n",
        "    keras.layers.Conv2D(512,kernel_size=4,strides=2,padding='same'),\n",
        "    keras.layers.BatchNormalization(),\n",
        "    keras.layers.LeakyReLU(),\n",
        "    \n",
        "    keras.layers.Conv2D(1,kernel_size=1,strides=1,padding='valid',activation='relu'),\n",
        "    keras.layers.Flatten(),\n",
        "    keras.layers.Dense(1,activation='sigmoid')\n",
        "   \n",
        "])"
      ],
      "id": "cf7b883f"
    },
    {
      "cell_type": "code",
      "source": [
        "def build_discriminator(image_shape):\n",
        "    model = Sequential()\n",
        "\n",
        "    model.add(Conv2D(32, kernel_size=3, strides=2, input_shape=image_shape, \n",
        "                     padding=\"same\"))\n",
        "    model.add(LeakyReLU(alpha=0.2))\n",
        "\n",
        "    model.add(Dropout(0.25))\n",
        "    model.add(Conv2D(64, kernel_size=3, strides=2, padding=\"same\"))\n",
        "    model.add(ZeroPadding2D(padding=((0,1),(0,1))))\n",
        "    model.add(BatchNormalization(momentum=0.8))\n",
        "    model.add(LeakyReLU(alpha=0.2))\n",
        "\n",
        "    model.add(Dropout(0.25))\n",
        "    model.add(Conv2D(128, kernel_size=3, strides=2, padding=\"same\"))\n",
        "    model.add(BatchNormalization(momentum=0.8))\n",
        "    model.add(LeakyReLU(alpha=0.2))\n",
        "\n",
        "    model.add(Dropout(0.25))\n",
        "    model.add(Conv2D(256, kernel_size=3, strides=1, padding=\"same\"))\n",
        "    model.add(BatchNormalization(momentum=0.8))\n",
        "    model.add(LeakyReLU(alpha=0.2))\n",
        "\n",
        "    model.add(Dropout(0.25))\n",
        "    model.add(Conv2D(512, kernel_size=3, strides=1, padding=\"same\"))\n",
        "    model.add(BatchNormalization(momentum=0.8))\n",
        "    model.add(LeakyReLU(alpha=0.2))\n",
        "\n",
        "    model.add(Dropout(0.25))\n",
        "    model.add(Flatten())\n",
        "    model.add(Dense(1, activation='sigmoid'))\n",
        "\n",
        "    return model"
      ],
      "metadata": {
        "id": "aI31s-mHiKDG"
      },
      "id": "aI31s-mHiKDG",
      "execution_count": 166,
      "outputs": []
    },
    {
      "cell_type": "code",
      "source": [
        "image_shape=[64,64,3]"
      ],
      "metadata": {
        "id": "zo3HL-4hiMI3"
      },
      "id": "zo3HL-4hiMI3",
      "execution_count": 167,
      "outputs": []
    },
    {
      "cell_type": "code",
      "source": [
        "discriminator=build_discriminator(image_shape)"
      ],
      "metadata": {
        "id": "1_f_2lUriaCr"
      },
      "id": "1_f_2lUriaCr",
      "execution_count": 168,
      "outputs": []
    },
    {
      "cell_type": "code",
      "execution_count": 169,
      "metadata": {
        "colab": {
          "base_uri": "https://localhost:8080/"
        },
        "id": "db6c6817",
        "outputId": "15a63fcf-55f5-4036-b0c3-5ab10e5a0465",
        "scrolled": true
      },
      "outputs": [
        {
          "output_type": "stream",
          "name": "stdout",
          "text": [
            "Model: \"sequential_14\"\n",
            "_________________________________________________________________\n",
            " Layer (type)                Output Shape              Param #   \n",
            "=================================================================\n",
            " conv2d_66 (Conv2D)          (None, 32, 32, 32)        896       \n",
            "                                                                 \n",
            " leaky_re_lu_12 (LeakyReLU)  (None, 32, 32, 32)        0         \n",
            "                                                                 \n",
            " dropout_5 (Dropout)         (None, 32, 32, 32)        0         \n",
            "                                                                 \n",
            " conv2d_67 (Conv2D)          (None, 16, 16, 64)        18496     \n",
            "                                                                 \n",
            " zero_padding2d_1 (ZeroPaddi  (None, 17, 17, 64)       0         \n",
            " ng2D)                                                           \n",
            "                                                                 \n",
            " batch_normalization_52 (Bat  (None, 17, 17, 64)       256       \n",
            " chNormalization)                                                \n",
            "                                                                 \n",
            " leaky_re_lu_13 (LeakyReLU)  (None, 17, 17, 64)        0         \n",
            "                                                                 \n",
            " dropout_6 (Dropout)         (None, 17, 17, 64)        0         \n",
            "                                                                 \n",
            " conv2d_68 (Conv2D)          (None, 9, 9, 128)         73856     \n",
            "                                                                 \n",
            " batch_normalization_53 (Bat  (None, 9, 9, 128)        512       \n",
            " chNormalization)                                                \n",
            "                                                                 \n",
            " leaky_re_lu_14 (LeakyReLU)  (None, 9, 9, 128)         0         \n",
            "                                                                 \n",
            " dropout_7 (Dropout)         (None, 9, 9, 128)         0         \n",
            "                                                                 \n",
            " conv2d_69 (Conv2D)          (None, 9, 9, 256)         295168    \n",
            "                                                                 \n",
            " batch_normalization_54 (Bat  (None, 9, 9, 256)        1024      \n",
            " chNormalization)                                                \n",
            "                                                                 \n",
            " leaky_re_lu_15 (LeakyReLU)  (None, 9, 9, 256)         0         \n",
            "                                                                 \n",
            " dropout_8 (Dropout)         (None, 9, 9, 256)         0         \n",
            "                                                                 \n",
            " conv2d_70 (Conv2D)          (None, 9, 9, 512)         1180160   \n",
            "                                                                 \n",
            " batch_normalization_55 (Bat  (None, 9, 9, 512)        2048      \n",
            " chNormalization)                                                \n",
            "                                                                 \n",
            " leaky_re_lu_16 (LeakyReLU)  (None, 9, 9, 512)         0         \n",
            "                                                                 \n",
            " dropout_9 (Dropout)         (None, 9, 9, 512)         0         \n",
            "                                                                 \n",
            " flatten_3 (Flatten)         (None, 41472)             0         \n",
            "                                                                 \n",
            " dense_13 (Dense)            (None, 1)                 41473     \n",
            "                                                                 \n",
            "=================================================================\n",
            "Total params: 1,613,889\n",
            "Trainable params: 1,611,969\n",
            "Non-trainable params: 1,920\n",
            "_________________________________________________________________\n"
          ]
        }
      ],
      "source": [
        "discriminator.summary()"
      ],
      "id": "db6c6817"
    },
    {
      "cell_type": "code",
      "execution_count": 170,
      "metadata": {
        "id": "a46a426a"
      },
      "outputs": [],
      "source": [
        "latent_size=128\n",
        "batch_size=32"
      ],
      "id": "a46a426a"
    },
    {
      "cell_type": "code",
      "source": [
        "\n",
        "from tensorflow.keras.layers import Input, Reshape, Dropout, Dense \n",
        "from tensorflow.keras.layers import Flatten, BatchNormalization\n",
        "from tensorflow.keras.layers import Activation, ZeroPadding2D\n",
        "from tensorflow.keras.layers import LeakyReLU\n",
        "from tensorflow.keras.layers import UpSampling2D, Conv2D\n",
        "from tensorflow.keras.models import Sequential, Model, load_model"
      ],
      "metadata": {
        "id": "Mfp2geCvvCbS"
      },
      "id": "Mfp2geCvvCbS",
      "execution_count": 171,
      "outputs": []
    },
    {
      "cell_type": "code",
      "source": [
        "GENERATE_RES=2\n",
        "seed_size=128"
      ],
      "metadata": {
        "id": "Z_T9HNg6vilP"
      },
      "id": "Z_T9HNg6vilP",
      "execution_count": 172,
      "outputs": []
    },
    {
      "cell_type": "code",
      "source": [
        "def build_generator(seed_size, channels):\n",
        "    model = Sequential()\n",
        "\n",
        "    model.add(Dense(4*4*512,activation=\"relu\",input_dim=seed_size))\n",
        "    model.add(Reshape((4,4,512)))\n",
        "\n",
        "    model.add(UpSampling2D())\n",
        "    model.add(Conv2D(512,kernel_size=3,padding=\"same\"))\n",
        "    model.add(BatchNormalization(momentum=0.8))\n",
        "    model.add(Activation(\"relu\"))\n",
        "\n",
        "    model.add(UpSampling2D())\n",
        "    model.add(Conv2D(256,kernel_size=3,padding=\"same\"))\n",
        "    model.add(BatchNormalization(momentum=0.8))\n",
        "    model.add(Activation(\"relu\"))\n",
        "   \n",
        "    # Output resolution, additional upsampling\n",
        "    model.add(UpSampling2D())\n",
        "    model.add(Conv2D(128,kernel_size=3,padding=\"same\"))\n",
        "    model.add(BatchNormalization(momentum=0.8))\n",
        "    model.add(Activation(\"relu\"))\n",
        "\n",
        "    if GENERATE_RES>1:\n",
        "      model.add(UpSampling2D(size=(GENERATE_RES,GENERATE_RES)))\n",
        "      model.add(Conv2D(64,kernel_size=3,padding=\"same\"))\n",
        "      model.add(BatchNormalization(momentum=0.8))\n",
        "      model.add(Activation(\"relu\"))\n",
        "\n",
        "    #   model.add(UpSampling2D(size=(GENERATE_RES,GENERATE_RES)))\n",
        "    #   model.add(Conv2D(64,kernel_size=3,padding=\"same\"))\n",
        "    #   model.add(BatchNormalization(momentum=0.8))\n",
        "    #   model.add(Activation(\"relu\"))\n",
        "\n",
        "\n",
        "    # Final CNN layer\n",
        "    model.add(Conv2D(channels,kernel_size=3,padding=\"same\"))\n",
        "    model.add(Activation(\"tanh\"))\n",
        "\n",
        "    return model"
      ],
      "metadata": {
        "id": "kFoD_uC-u-iz"
      },
      "id": "kFoD_uC-u-iz",
      "execution_count": 173,
      "outputs": []
    },
    {
      "cell_type": "code",
      "source": [
        "generator=build_generator(seed_size,3)"
      ],
      "metadata": {
        "id": "ycXnugO3u_-7"
      },
      "id": "ycXnugO3u_-7",
      "execution_count": 174,
      "outputs": []
    },
    {
      "cell_type": "code",
      "source": [
        "from keras import layers"
      ],
      "metadata": {
        "id": "GsZEaP66Y48c"
      },
      "id": "GsZEaP66Y48c",
      "execution_count": 175,
      "outputs": []
    },
    {
      "cell_type": "code",
      "execution_count": 176,
      "metadata": {
        "colab": {
          "base_uri": "https://localhost:8080/"
        },
        "id": "aa85150f",
        "outputId": "e2419da8-c146-4783-8e5b-e75141872af3",
        "scrolled": true
      },
      "outputs": [
        {
          "output_type": "stream",
          "name": "stdout",
          "text": [
            "Model: \"sequential_15\"\n",
            "_________________________________________________________________\n",
            " Layer (type)                Output Shape              Param #   \n",
            "=================================================================\n",
            " dense_14 (Dense)            (None, 8192)              1056768   \n",
            "                                                                 \n",
            " reshape_10 (Reshape)        (None, 4, 4, 512)         0         \n",
            "                                                                 \n",
            " up_sampling2d_41 (UpSamplin  (None, 8, 8, 512)        0         \n",
            " g2D)                                                            \n",
            "                                                                 \n",
            " conv2d_71 (Conv2D)          (None, 8, 8, 512)         2359808   \n",
            "                                                                 \n",
            " batch_normalization_56 (Bat  (None, 8, 8, 512)        2048      \n",
            " chNormalization)                                                \n",
            "                                                                 \n",
            " activation_51 (Activation)  (None, 8, 8, 512)         0         \n",
            "                                                                 \n",
            " up_sampling2d_42 (UpSamplin  (None, 16, 16, 512)      0         \n",
            " g2D)                                                            \n",
            "                                                                 \n",
            " conv2d_72 (Conv2D)          (None, 16, 16, 256)       1179904   \n",
            "                                                                 \n",
            " batch_normalization_57 (Bat  (None, 16, 16, 256)      1024      \n",
            " chNormalization)                                                \n",
            "                                                                 \n",
            " activation_52 (Activation)  (None, 16, 16, 256)       0         \n",
            "                                                                 \n",
            " up_sampling2d_43 (UpSamplin  (None, 32, 32, 256)      0         \n",
            " g2D)                                                            \n",
            "                                                                 \n",
            " conv2d_73 (Conv2D)          (None, 32, 32, 128)       295040    \n",
            "                                                                 \n",
            " batch_normalization_58 (Bat  (None, 32, 32, 128)      512       \n",
            " chNormalization)                                                \n",
            "                                                                 \n",
            " activation_53 (Activation)  (None, 32, 32, 128)       0         \n",
            "                                                                 \n",
            " up_sampling2d_44 (UpSamplin  (None, 64, 64, 128)      0         \n",
            " g2D)                                                            \n",
            "                                                                 \n",
            " conv2d_74 (Conv2D)          (None, 64, 64, 64)        73792     \n",
            "                                                                 \n",
            " batch_normalization_59 (Bat  (None, 64, 64, 64)       256       \n",
            " chNormalization)                                                \n",
            "                                                                 \n",
            " activation_54 (Activation)  (None, 64, 64, 64)        0         \n",
            "                                                                 \n",
            " conv2d_75 (Conv2D)          (None, 64, 64, 3)         1731      \n",
            "                                                                 \n",
            " activation_55 (Activation)  (None, 64, 64, 3)         0         \n",
            "                                                                 \n",
            "=================================================================\n",
            "Total params: 4,970,883\n",
            "Trainable params: 4,968,963\n",
            "Non-trainable params: 1,920\n",
            "_________________________________________________________________\n"
          ]
        }
      ],
      "source": [
        "generator.summary()"
      ],
      "id": "aa85150f"
    },
    {
      "cell_type": "code",
      "execution_count": 177,
      "metadata": {
        "id": "61b31e78"
      },
      "outputs": [],
      "source": [
        "cross_entropy=keras.losses.BinaryCrossentropy()"
      ],
      "id": "61b31e78"
    },
    {
      "cell_type": "code",
      "execution_count": 178,
      "metadata": {
        "id": "7cfceb9d"
      },
      "outputs": [],
      "source": [
        "def discriminator_loss(real_output,fake_output):\n",
        "    real_loss=cross_entropy(tf.ones_like(real_output),real_output)\n",
        "    fake_loss=cross_entropy(tf.zeros_like(fake_output),fake_output)\n",
        "    total_loss=real_loss+fake_loss\n",
        "    return total_loss\n",
        "\n",
        "    "
      ],
      "id": "7cfceb9d"
    },
    {
      "cell_type": "code",
      "execution_count": 179,
      "metadata": {
        "id": "534e9438"
      },
      "outputs": [],
      "source": [
        "def generator_loss(fake_output):\n",
        "    gen_loss=cross_entropy(tf.ones_like(fake_output),fake_output)\n",
        "    return gen_loss"
      ],
      "id": "534e9438"
    },
    {
      "cell_type": "code",
      "execution_count": 180,
      "metadata": {
        "id": "7dfe6ae8"
      },
      "outputs": [],
      "source": [
        "gen_opt=keras.optimizers.Adam()\n",
        "dis_opt=keras.optimizers.Adam()\n",
        "batch_size=32"
      ],
      "id": "7dfe6ae8"
    },
    {
      "cell_type": "code",
      "execution_count": 181,
      "metadata": {
        "id": "b3cddae6"
      },
      "outputs": [],
      "source": [
        "@tf.function\n",
        "def train_step(images):\n",
        "    noise=tf.random.normal([batch_size,seed_size])\n",
        "    \n",
        "    with tf.GradientTape() as gen_tape , tf.GradientTape() as dis_tape:\n",
        "        gen_images=generator(noise,training=True)\n",
        "        \n",
        "        real_output=discriminator(images,training=True)\n",
        "        fake_output=discriminator(gen_images,training=True)\n",
        "        \n",
        "        gen_loss=generator_loss(fake_output)\n",
        "        dis_loss=discriminator_loss(real_output,fake_output)\n",
        "        \n",
        "    gen_gradients=gen_tape.gradient(gen_loss,generator.trainable_variables)\n",
        "    dis_gradients=dis_tape.gradient(dis_loss,discriminator.trainable_variables)\n",
        "    \n",
        "    gen_opt.apply_gradients(zip(gen_gradients,generator.trainable_variables))\n",
        "    dis_opt.apply_gradients(zip(dis_gradients,discriminator.trainable_variables))\n",
        "    \n",
        "    return gen_loss, dis_loss,gen_images[0]"
      ],
      "id": "b3cddae6"
    },
    {
      "cell_type": "code",
      "execution_count": 182,
      "metadata": {
        "id": "1f53e100"
      },
      "outputs": [],
      "source": [
        "import time\n",
        "from IPython import display"
      ],
      "id": "1f53e100"
    },
    {
      "cell_type": "code",
      "execution_count": 183,
      "metadata": {
        "id": "2b0966af"
      },
      "outputs": [],
      "source": [
        "def train_tot(dataset,epochs):\n",
        "  for epoch in range(epochs):\n",
        "    start=time.time()      \n",
        "    for image_batch in dataset:\n",
        "      gen_loss,dis_loss,gen_img=train_step(image_batch)    \n",
        "    print(gen_loss,dis_loss)\n",
        "  return gen_img\n",
        "    "
      ],
      "id": "2b0966af"
    },
    {
      "cell_type": "code",
      "execution_count": 184,
      "metadata": {
        "id": "57498f26"
      },
      "outputs": [],
      "source": [
        "\n",
        "buffer=600"
      ],
      "id": "57498f26"
    },
    {
      "cell_type": "code",
      "execution_count": 185,
      "metadata": {
        "id": "dbf2f4ce"
      },
      "outputs": [],
      "source": [
        "dataset=tf.data.Dataset.from_tensor_slices(images).shuffle(buffer).batch(batch_size)\n"
      ],
      "id": "dbf2f4ce"
    },
    {
      "cell_type": "code",
      "execution_count": 186,
      "metadata": {
        "id": "083ebf3d",
        "colab": {
          "base_uri": "https://localhost:8080/"
        },
        "outputId": "1b49e979-0956-4c3f-bdcc-59b3e9dd1704"
      },
      "outputs": [
        {
          "output_type": "stream",
          "name": "stdout",
          "text": [
            "tf.Tensor(\n",
            "[[[[ 0.28627452  0.23921569  0.34117648]\n",
            "   [ 0.12941177  0.14509805  0.31764707]\n",
            "   [-0.05882353 -0.02745098  0.2627451 ]\n",
            "   ...\n",
            "   [ 0.13725491 -0.00392157 -0.23137255]\n",
            "   [ 0.4509804   0.30980393  0.06666667]\n",
            "   [ 0.5529412   0.3882353   0.1764706 ]]\n",
            "\n",
            "  [[ 0.3254902   0.35686275  0.5529412 ]\n",
            "   [ 0.04313726  0.06666667  0.33333334]\n",
            "   [-0.09803922 -0.06666667  0.3019608 ]\n",
            "   ...\n",
            "   [ 0.5058824   0.31764707  0.05098039]\n",
            "   [-0.21568628 -0.3647059  -0.69411767]\n",
            "   [ 0.05098039 -0.02745098 -0.09019608]]\n",
            "\n",
            "  [[ 0.12941177  0.13725491  0.38039216]\n",
            "   [-0.08235294 -0.05882353  0.29411766]\n",
            "   [ 0.13725491  0.16862746  0.45882353]\n",
            "   ...\n",
            "   [ 0.20784314  0.10588235  0.05098039]\n",
            "   [ 0.5058824   0.34117648  0.12941177]\n",
            "   [ 0.6392157   0.3882353   0.02745098]]\n",
            "\n",
            "  ...\n",
            "\n",
            "  [[ 0.7411765   0.58431375  0.34901962]\n",
            "   [ 0.7647059   0.6         0.38039216]\n",
            "   [ 0.8039216   0.6156863   0.30980393]\n",
            "   ...\n",
            "   [ 0.7882353   0.5921569   0.15294118]\n",
            "   [ 0.77254903  0.58431375  0.16862746]\n",
            "   [ 0.81960785  0.5921569   0.2       ]]\n",
            "\n",
            "  [[ 0.8352941   0.6627451   0.34117648]\n",
            "   [ 0.81960785  0.6392157   0.3019608 ]\n",
            "   [ 0.7490196   0.5372549   0.1764706 ]\n",
            "   ...\n",
            "   [ 0.7254902   0.5294118   0.04313726]\n",
            "   [ 0.78039217  0.5686275   0.12941177]\n",
            "   [ 0.8117647   0.5529412   0.2       ]]\n",
            "\n",
            "  [[ 0.75686276  0.5764706   0.33333334]\n",
            "   [ 0.7411765   0.5686275   0.27058825]\n",
            "   [ 0.84313726  0.6         0.23921569]\n",
            "   ...\n",
            "   [ 0.8509804   0.64705884  0.01960784]\n",
            "   [ 0.81960785  0.60784316  0.16862746]\n",
            "   [ 0.7411765   0.49019608  0.07450981]]]\n",
            "\n",
            "\n",
            " [[[ 0.62352943  0.4117647   0.05098039]\n",
            "   [ 0.8039216   0.58431375  0.2784314 ]\n",
            "   [ 0.06666667 -0.15294118 -0.45882353]\n",
            "   ...\n",
            "   [ 0.56078434  0.34117648 -0.06666667]\n",
            "   [ 0.5921569   0.37254903 -0.00392157]\n",
            "   [ 0.5294118   0.3019608  -0.03529412]]\n",
            "\n",
            "  [[ 0.60784316  0.3647059   0.00392157]\n",
            "   [ 0.7411765   0.49803922  0.12941177]\n",
            "   [ 0.00392157 -0.25490198 -0.52156866]\n",
            "   ...\n",
            "   [ 0.6         0.28627452 -0.18431373]\n",
            "   [ 0.5764706   0.3019608  -0.13725491]\n",
            "   [ 0.4745098   0.19215687 -0.21568628]]\n",
            "\n",
            "  [[ 0.8745098   0.58431375  0.19215687]\n",
            "   [ 0.5764706   0.34117648 -0.05882353]\n",
            "   [-0.08235294 -0.30980393 -0.5529412 ]\n",
            "   ...\n",
            "   [ 0.60784316  0.29411766 -0.18431373]\n",
            "   [ 0.6         0.3254902  -0.12941177]\n",
            "   [ 0.7411765   0.46666667  0.03529412]]\n",
            "\n",
            "  ...\n",
            "\n",
            "  [[ 0.5529412   0.3254902  -0.00392157]\n",
            "   [ 0.05882353 -0.20784314 -0.43529412]\n",
            "   [-0.27058825 -0.40392157 -0.5764706 ]\n",
            "   ...\n",
            "   [ 0.14509805 -0.12941177 -0.41960785]\n",
            "   [ 0.48235294  0.23137255 -0.16078432]\n",
            "   [ 0.4117647   0.16862746 -0.22352941]]\n",
            "\n",
            "  [[ 0.42745098  0.2        -0.07450981]\n",
            "   [-0.02745098 -0.2627451  -0.49803922]\n",
            "   [-0.09803922 -0.2784314  -0.46666667]\n",
            "   ...\n",
            "   [ 0.56078434  0.2784314  -0.20784314]\n",
            "   [ 0.49803922  0.21568628 -0.23921569]\n",
            "   [ 0.44313726  0.16862746 -0.25490198]]\n",
            "\n",
            "  [[ 0.62352943  0.39607844 -0.02745098]\n",
            "   [ 0.69411767  0.46666667  0.02745098]\n",
            "   [ 0.2784314   0.03529412 -0.33333334]\n",
            "   ...\n",
            "   [ 0.60784316  0.34901962 -0.08235294]\n",
            "   [ 0.5137255   0.2784314  -0.15294118]\n",
            "   [ 0.39607844  0.16078432 -0.25490198]]]\n",
            "\n",
            "\n",
            " [[[ 0.88235295  0.6313726   0.16078432]\n",
            "   [ 0.92941177  0.6313726   0.07450981]\n",
            "   [ 0.90588236  0.67058825  0.19215687]\n",
            "   ...\n",
            "   [ 0.9843137   0.73333335  0.23137255]\n",
            "   [ 0.9607843   0.70980394  0.20784314]\n",
            "   [ 0.9607843   0.7254902   0.22352941]]\n",
            "\n",
            "  [[ 0.92941177  0.6392157   0.1764706 ]\n",
            "   [ 0.73333335  0.43529412 -0.12156863]\n",
            "   [ 0.88235295  0.5764706   0.03529412]\n",
            "   ...\n",
            "   [ 0.8980392   0.6392157   0.16078432]\n",
            "   [ 0.92941177  0.6627451   0.19215687]\n",
            "   [ 0.9372549   0.7019608   0.21568628]]\n",
            "\n",
            "  [[ 0.6862745   0.3882353  -0.12156863]\n",
            "   [ 0.94509804  0.60784316  0.07450981]\n",
            "   [ 0.9529412   0.64705884  0.10588235]\n",
            "   ...\n",
            "   [ 0.9607843   0.7176471   0.21568628]\n",
            "   [ 0.92156863  0.6784314   0.1764706 ]\n",
            "   [ 0.92941177  0.69411767  0.20784314]]\n",
            "\n",
            "  ...\n",
            "\n",
            "  [[ 0.7647059   0.3882353  -0.06666667]\n",
            "   [ 0.77254903  0.4509804  -0.00392157]\n",
            "   [ 0.6392157   0.2784314  -0.16862746]\n",
            "   ...\n",
            "   [ 0.8980392   0.64705884  0.16078432]\n",
            "   [ 0.8352941   0.5137255   0.05098039]\n",
            "   [ 0.92941177  0.58431375  0.08235294]]\n",
            "\n",
            "  [[ 0.8901961   0.5058824   0.01960784]\n",
            "   [ 0.8980392   0.5529412   0.07450981]\n",
            "   [ 0.827451    0.44313726 -0.01960784]\n",
            "   ...\n",
            "   [ 1.          0.70980394  0.21568628]\n",
            "   [ 0.9607843   0.7176471   0.20784314]\n",
            "   [ 0.92156863  0.6392157   0.15294118]]\n",
            "\n",
            "  [[ 0.827451    0.4509804  -0.06666667]\n",
            "   [ 0.85882354  0.5137255   0.01960784]\n",
            "   [ 0.88235295  0.5372549   0.04313726]\n",
            "   ...\n",
            "   [ 0.9372549   0.654902    0.16078432]\n",
            "   [ 0.9607843   0.64705884  0.16078432]\n",
            "   [ 0.9843137   0.70980394  0.22352941]]]\n",
            "\n",
            "\n",
            " ...\n",
            "\n",
            "\n",
            " [[[ 0.35686275  0.2627451  -0.01960784]\n",
            "   [-0.01176471 -0.10588235 -0.4117647 ]\n",
            "   [ 0.35686275  0.3019608  -0.01176471]\n",
            "   ...\n",
            "   [ 0.73333335  0.62352943  0.5686275 ]\n",
            "   [ 0.7254902   0.6         0.5294118 ]\n",
            "   [ 0.73333335  0.6313726   0.48235294]]\n",
            "\n",
            "  [[ 0.5372549   0.45882353  0.18431373]\n",
            "   [ 0.49019608  0.56078434  0.18431373]\n",
            "   [ 0.12941177  0.24705882 -0.21568628]\n",
            "   ...\n",
            "   [ 0.78039217  0.69411767  0.654902  ]\n",
            "   [ 0.78039217  0.6784314   0.6156863 ]\n",
            "   [ 0.7254902   0.6         0.4745098 ]]\n",
            "\n",
            "  [[ 0.45882353  0.41960785 -0.05098039]\n",
            "   [ 0.3254902   0.38039216 -0.01960784]\n",
            "   [ 0.3019608   0.25490198 -0.23137255]\n",
            "   ...\n",
            "   [ 0.75686276  0.67058825  0.6627451 ]\n",
            "   [ 0.7411765   0.654902    0.6313726 ]\n",
            "   [ 0.69411767  0.54509807  0.44313726]]\n",
            "\n",
            "  ...\n",
            "\n",
            "  [[-0.14509805 -0.07450981 -0.75686276]\n",
            "   [ 0.5529412   0.45882353  0.11372549]\n",
            "   [ 0.3019608  -0.18431373 -0.67058825]\n",
            "   ...\n",
            "   [ 0.27058825 -0.13725491 -0.7647059 ]\n",
            "   [ 0.3019608   0.23921569 -0.09019608]\n",
            "   [-0.1764706  -0.25490198 -0.8509804 ]]\n",
            "\n",
            "  [[ 0.23137255 -0.22352941 -0.7176471 ]\n",
            "   [ 0.4745098   0.28627452 -0.23137255]\n",
            "   [ 0.15294118 -0.05098039 -0.75686276]\n",
            "   ...\n",
            "   [ 0.29411766 -0.08235294 -0.6862745 ]\n",
            "   [ 0.25490198 -0.39607844 -0.9372549 ]\n",
            "   [ 0.07450981 -0.3647059  -0.8901961 ]]\n",
            "\n",
            "  [[ 0.03529412 -0.34117648 -0.94509804]\n",
            "   [ 0.11372549 -0.01176471 -0.6784314 ]\n",
            "   [ 0.10588235  0.05098039 -0.58431375]\n",
            "   ...\n",
            "   [ 0.08235294 -0.2        -0.8117647 ]\n",
            "   [ 0.43529412 -0.05098039 -0.6392157 ]\n",
            "   [ 0.08235294 -0.22352941 -0.84313726]]]\n",
            "\n",
            "\n",
            " [[[ 0.7882353   0.7176471   0.5529412 ]\n",
            "   [ 0.78039217  0.7176471   0.5529412 ]\n",
            "   [ 0.73333335  0.67058825  0.5058824 ]\n",
            "   ...\n",
            "   [ 0.7019608   0.64705884  0.52156866]\n",
            "   [ 0.6862745   0.6392157   0.5137255 ]\n",
            "   [ 0.6313726   0.60784316  0.4745098 ]]\n",
            "\n",
            "  [[ 0.6392157   0.58431375  0.38039216]\n",
            "   [ 0.77254903  0.7176471   0.5137255 ]\n",
            "   [ 0.7490196   0.69411767  0.49019608]\n",
            "   ...\n",
            "   [ 0.654902    0.60784316  0.42745098]\n",
            "   [ 0.6313726   0.6         0.4117647 ]\n",
            "   [ 0.37254903  0.35686275  0.16078432]]\n",
            "\n",
            "  [[ 0.79607844  0.70980394  0.49803922]\n",
            "   [ 0.79607844  0.7019608   0.49019608]\n",
            "   [ 0.77254903  0.6784314   0.46666667]\n",
            "   ...\n",
            "   [ 0.69411767  0.6156863   0.40392157]\n",
            "   [ 0.654902    0.60784316  0.40392157]\n",
            "   [ 0.56078434  0.5137255   0.3254902 ]]\n",
            "\n",
            "  ...\n",
            "\n",
            "  [[-0.5294118  -0.43529412 -0.5921569 ]\n",
            "   [-0.2        -0.10588235 -0.2627451 ]\n",
            "   [-0.39607844 -0.30980393 -0.45882353]\n",
            "   ...\n",
            "   [-0.5921569  -0.46666667 -0.5529412 ]\n",
            "   [-0.54509807 -0.42745098 -0.5294118 ]\n",
            "   [-0.70980394 -0.6        -0.7176471 ]]\n",
            "\n",
            "  [[-0.62352943 -0.5372549  -0.67058825]\n",
            "   [-0.39607844 -0.3019608  -0.4509804 ]\n",
            "   [-0.27058825 -0.1764706  -0.33333334]\n",
            "   ...\n",
            "   [-0.5529412  -0.42745098 -0.5294118 ]\n",
            "   [-0.5372549  -0.41960785 -0.52156866]\n",
            "   [-0.8509804  -0.7411765  -0.84313726]]\n",
            "\n",
            "  [[-0.30980393 -0.20784314 -0.34901962]\n",
            "   [-0.5529412  -0.44313726 -0.62352943]\n",
            "   [-0.49019608 -0.38039216 -0.58431375]\n",
            "   ...\n",
            "   [-0.5372549  -0.40392157 -0.5529412 ]\n",
            "   [-0.62352943 -0.49019608 -0.654902  ]\n",
            "   [-0.3882353  -0.27058825 -0.43529412]]]\n",
            "\n",
            "\n",
            " [[[ 0.9372549   0.9372549   0.9372549 ]\n",
            "   [ 0.8980392   0.8980392   0.8980392 ]\n",
            "   [ 0.8745098   0.8745098   0.8745098 ]\n",
            "   ...\n",
            "   [ 0.94509804  0.94509804  0.94509804]\n",
            "   [ 0.90588236  0.90588236  0.90588236]\n",
            "   [ 0.92941177  0.92941177  0.92941177]]\n",
            "\n",
            "  [[ 0.9137255   0.9137255   0.9137255 ]\n",
            "   [ 0.8980392   0.8980392   0.8980392 ]\n",
            "   [ 0.8901961   0.8901961   0.8901961 ]\n",
            "   ...\n",
            "   [ 0.94509804  0.94509804  0.94509804]\n",
            "   [ 0.9372549   0.9372549   0.9372549 ]\n",
            "   [ 0.92156863  0.92156863  0.92156863]]\n",
            "\n",
            "  [[ 0.8745098   0.8745098   0.8745098 ]\n",
            "   [ 0.88235295  0.88235295  0.88235295]\n",
            "   [ 0.8901961   0.8901961   0.8901961 ]\n",
            "   ...\n",
            "   [ 0.9372549   0.9372549   0.9372549 ]\n",
            "   [ 0.9607843   0.9607843   0.9607843 ]\n",
            "   [ 0.8980392   0.8980392   0.8980392 ]]\n",
            "\n",
            "  ...\n",
            "\n",
            "  [[-0.3882353  -0.38039216 -0.3882353 ]\n",
            "   [ 0.8039216   0.81960785  0.8117647 ]\n",
            "   [ 0.7647059   0.78039217  0.77254903]\n",
            "   ...\n",
            "   [-0.4745098  -0.43529412 -0.4117647 ]\n",
            "   [-0.03529412 -0.00392157  0.01176471]\n",
            "   [-0.05098039 -0.01960784 -0.01176471]]\n",
            "\n",
            "  [[ 0.54509807  0.56078434  0.5529412 ]\n",
            "   [ 0.81960785  0.8352941   0.827451  ]\n",
            "   [ 0.7490196   0.7647059   0.75686276]\n",
            "   ...\n",
            "   [ 0.01176471  0.04313726  0.05098039]\n",
            "   [-0.08235294 -0.01176471 -0.01960784]\n",
            "   [ 0.00392157  0.07450981  0.06666667]]\n",
            "\n",
            "  [[ 0.85882354  0.8745098   0.85882354]\n",
            "   [ 0.79607844  0.8117647   0.78039217]\n",
            "   [ 0.6862745   0.7019608   0.69411767]\n",
            "   ...\n",
            "   [-0.70980394 -0.6862745  -0.69411767]\n",
            "   [ 0.44313726  0.49803922  0.48235294]\n",
            "   [ 0.23137255  0.28627452  0.29411766]]]], shape=(32, 64, 64, 3), dtype=float32)\n"
          ]
        }
      ],
      "source": [
        "for element in dataset.take(1):\n",
        "    print(element)"
      ],
      "id": "083ebf3d"
    },
    {
      "cell_type": "code",
      "execution_count": 193,
      "metadata": {
        "colab": {
          "base_uri": "https://localhost:8080/"
        },
        "id": "ccfa5253",
        "outputId": "e1e2fd03-7cf6-4859-9771-5ceacc0e2d5f"
      },
      "outputs": [
        {
          "output_type": "stream",
          "name": "stdout",
          "text": [
            "tf.Tensor(2.466049, shape=(), dtype=float32) tf.Tensor(0.41214448, shape=(), dtype=float32)\n",
            "tf.Tensor(2.3402848, shape=(), dtype=float32) tf.Tensor(0.22980833, shape=(), dtype=float32)\n",
            "tf.Tensor(1.1268369, shape=(), dtype=float32) tf.Tensor(0.9548309, shape=(), dtype=float32)\n",
            "tf.Tensor(3.7449784, shape=(), dtype=float32) tf.Tensor(1.1663432, shape=(), dtype=float32)\n",
            "tf.Tensor(1.8680797, shape=(), dtype=float32) tf.Tensor(0.7400954, shape=(), dtype=float32)\n",
            "tf.Tensor(2.2195354, shape=(), dtype=float32) tf.Tensor(0.45752227, shape=(), dtype=float32)\n",
            "tf.Tensor(0.55723363, shape=(), dtype=float32) tf.Tensor(4.328247, shape=(), dtype=float32)\n",
            "tf.Tensor(4.6620083, shape=(), dtype=float32) tf.Tensor(0.8199738, shape=(), dtype=float32)\n",
            "tf.Tensor(3.4519513, shape=(), dtype=float32) tf.Tensor(0.07908888, shape=(), dtype=float32)\n",
            "tf.Tensor(1.3091173, shape=(), dtype=float32) tf.Tensor(0.66389024, shape=(), dtype=float32)\n",
            "tf.Tensor(0.5794098, shape=(), dtype=float32) tf.Tensor(1.3877543, shape=(), dtype=float32)\n",
            "tf.Tensor(2.1539936, shape=(), dtype=float32) tf.Tensor(0.56910443, shape=(), dtype=float32)\n",
            "tf.Tensor(3.9856057, shape=(), dtype=float32) tf.Tensor(0.05993293, shape=(), dtype=float32)\n",
            "tf.Tensor(2.389377, shape=(), dtype=float32) tf.Tensor(0.35170498, shape=(), dtype=float32)\n",
            "tf.Tensor(4.541536, shape=(), dtype=float32) tf.Tensor(0.41328257, shape=(), dtype=float32)\n",
            "tf.Tensor(2.617559, shape=(), dtype=float32) tf.Tensor(0.17789096, shape=(), dtype=float32)\n",
            "tf.Tensor(2.9767857, shape=(), dtype=float32) tf.Tensor(0.16133943, shape=(), dtype=float32)\n",
            "tf.Tensor(3.3026254, shape=(), dtype=float32) tf.Tensor(0.25516367, shape=(), dtype=float32)\n",
            "tf.Tensor(1.9595928, shape=(), dtype=float32) tf.Tensor(1.9880713, shape=(), dtype=float32)\n",
            "tf.Tensor(3.1079845, shape=(), dtype=float32) tf.Tensor(1.0230479, shape=(), dtype=float32)\n",
            "tf.Tensor(0.8471371, shape=(), dtype=float32) tf.Tensor(1.2646903, shape=(), dtype=float32)\n",
            "tf.Tensor(1.4922415, shape=(), dtype=float32) tf.Tensor(0.7843938, shape=(), dtype=float32)\n",
            "tf.Tensor(2.1775274, shape=(), dtype=float32) tf.Tensor(0.48285502, shape=(), dtype=float32)\n",
            "tf.Tensor(2.0623505, shape=(), dtype=float32) tf.Tensor(0.531321, shape=(), dtype=float32)\n",
            "tf.Tensor(2.8240056, shape=(), dtype=float32) tf.Tensor(0.34770358, shape=(), dtype=float32)\n",
            "tf.Tensor(4.0738983, shape=(), dtype=float32) tf.Tensor(0.96344084, shape=(), dtype=float32)\n",
            "tf.Tensor(2.9773245, shape=(), dtype=float32) tf.Tensor(0.5311061, shape=(), dtype=float32)\n",
            "tf.Tensor(3.5282495, shape=(), dtype=float32) tf.Tensor(0.791078, shape=(), dtype=float32)\n",
            "tf.Tensor(1.9643629, shape=(), dtype=float32) tf.Tensor(0.26741388, shape=(), dtype=float32)\n",
            "tf.Tensor(2.4147453, shape=(), dtype=float32) tf.Tensor(0.21190327, shape=(), dtype=float32)\n",
            "tf.Tensor(4.450473, shape=(), dtype=float32) tf.Tensor(0.037528686, shape=(), dtype=float32)\n",
            "tf.Tensor(0.7933848, shape=(), dtype=float32) tf.Tensor(1.0108631, shape=(), dtype=float32)\n",
            "tf.Tensor(2.3109565, shape=(), dtype=float32) tf.Tensor(0.8133069, shape=(), dtype=float32)\n",
            "tf.Tensor(2.3020387, shape=(), dtype=float32) tf.Tensor(0.42471588, shape=(), dtype=float32)\n",
            "tf.Tensor(2.1961746, shape=(), dtype=float32) tf.Tensor(2.9806106, shape=(), dtype=float32)\n",
            "tf.Tensor(1.5159537, shape=(), dtype=float32) tf.Tensor(1.6771066, shape=(), dtype=float32)\n",
            "tf.Tensor(2.513685, shape=(), dtype=float32) tf.Tensor(0.24474882, shape=(), dtype=float32)\n",
            "tf.Tensor(2.7353766, shape=(), dtype=float32) tf.Tensor(0.29088974, shape=(), dtype=float32)\n",
            "tf.Tensor(0.6474791, shape=(), dtype=float32) tf.Tensor(1.2498633, shape=(), dtype=float32)\n",
            "tf.Tensor(4.07351, shape=(), dtype=float32) tf.Tensor(0.19606546, shape=(), dtype=float32)\n",
            "tf.Tensor(1.2992725, shape=(), dtype=float32) tf.Tensor(0.6320544, shape=(), dtype=float32)\n",
            "tf.Tensor(1.2627738, shape=(), dtype=float32) tf.Tensor(0.69134295, shape=(), dtype=float32)\n",
            "tf.Tensor(1.2116783, shape=(), dtype=float32) tf.Tensor(0.9365717, shape=(), dtype=float32)\n",
            "tf.Tensor(2.2413783, shape=(), dtype=float32) tf.Tensor(0.7988086, shape=(), dtype=float32)\n",
            "tf.Tensor(1.7516937, shape=(), dtype=float32) tf.Tensor(0.609856, shape=(), dtype=float32)\n",
            "tf.Tensor(3.0738068, shape=(), dtype=float32) tf.Tensor(0.87880296, shape=(), dtype=float32)\n",
            "tf.Tensor(1.2374798, shape=(), dtype=float32) tf.Tensor(1.6261504, shape=(), dtype=float32)\n",
            "tf.Tensor(2.9091597, shape=(), dtype=float32) tf.Tensor(0.13918968, shape=(), dtype=float32)\n",
            "tf.Tensor(4.244624, shape=(), dtype=float32) tf.Tensor(0.30699497, shape=(), dtype=float32)\n",
            "tf.Tensor(3.4110155, shape=(), dtype=float32) tf.Tensor(0.23193508, shape=(), dtype=float32)\n"
          ]
        }
      ],
      "source": [
        "vg=train_tot(dataset,50)"
      ],
      "id": "ccfa5253"
    },
    {
      "cell_type": "code",
      "execution_count": null,
      "metadata": {
        "id": "irMIINQjIHU9"
      },
      "outputs": [],
      "source": [
        ""
      ],
      "id": "irMIINQjIHU9"
    },
    {
      "cell_type": "code",
      "execution_count": 199,
      "metadata": {
        "id": "fb9fb73b"
      },
      "outputs": [],
      "source": [
        ""
      ],
      "id": "fb9fb73b"
    },
    {
      "cell_type": "code",
      "execution_count": 197,
      "metadata": {
        "id": "NIZMmusCJoSm"
      },
      "outputs": [],
      "source": [
        "ng=np.array(vg*127.5+127.5)"
      ],
      "id": "NIZMmusCJoSm"
    },
    {
      "cell_type": "code",
      "source": [
        "plt.imshow(ng.astype(np.int32))"
      ],
      "metadata": {
        "colab": {
          "base_uri": "https://localhost:8080/",
          "height": 285
        },
        "id": "s9ec-jxDiLtd",
        "outputId": "bcba82e6-a65e-43ae-db67-d4dd44caf0ad"
      },
      "id": "s9ec-jxDiLtd",
      "execution_count": 198,
      "outputs": [
        {
          "output_type": "execute_result",
          "data": {
            "text/plain": [
              "<matplotlib.image.AxesImage at 0x7efe70db5490>"
            ]
          },
          "metadata": {},
          "execution_count": 198
        },
        {
          "output_type": "display_data",
          "data": {
            "text/plain": [
              "<Figure size 432x288 with 1 Axes>"
            ],
            "image/png": "[encoded data removed]"
          },
          "metadata": {
            "needs_background": "light"
          }
        }
      ]
    },
    {
      "cell_type": "code",
      "source": [
        "discriminator.predict(tf.expand_dims(vg,0))"
      ],
      "metadata": {
        "colab": {
          "base_uri": "https://localhost:8080/"
        },
        "id": "elZvk4VweRua",
        "outputId": "dfb1021c-8061-45b0-a30a-b03b013e2f31"
      },
      "id": "elZvk4VweRua",
      "execution_count": 81,
      "outputs": [
        {
          "output_type": "execute_result",
          "data": {
            "text/plain": [
              "array([[0.50000906]], dtype=float32)"
            ]
          },
          "metadata": {},
          "execution_count": 81
        }
      ]
    },
    {
      "cell_type": "code",
      "execution_count": null,
      "metadata": {
        "colab": {
          "base_uri": "https://localhost:8080/"
        },
        "id": "bZGDEhaWNe-r",
        "outputId": "38d610fc-9f53-45d3-db48-14e70c62058b"
      },
      "outputs": [
        {
          "data": {
            "text/plain": [
              "(7,)"
            ]
          },
          "execution_count": 33,
          "metadata": {},
          "output_type": "execute_result"
        }
      ],
      "source": [
        ""
      ],
      "id": "bZGDEhaWNe-r"
    },
    {
      "cell_type": "code",
      "execution_count": 195,
      "metadata": {
        "id": "4hchMPNdpYfb",
        "colab": {
          "base_uri": "https://localhost:8080/"
        },
        "outputId": "7ea029c7-bade-4299-f423-02386182fed9"
      },
      "outputs": [
        {
          "output_type": "execute_result",
          "data": {
            "text/plain": [
              "<tf.Tensor: shape=(64, 64, 3), dtype=float32, numpy=\n",
              "array([[[ 9.52140093e-02, -6.53214706e-03, -9.06633139e-02],\n",
              "        [ 3.66853736e-02, -6.32640421e-02, -2.14636818e-01],\n",
              "        [-7.09485146e-04, -4.01652269e-02, -1.87792465e-01],\n",
              "        ...,\n",
              "        [-8.75012279e-02, -2.49517951e-02, -4.36327010e-02],\n",
              "        [-6.44824505e-02, -4.59461734e-02, -6.22194670e-02],\n",
              "        [-9.24676582e-02, -6.75730333e-02, -1.04669958e-01]],\n",
              "\n",
              "       [[ 2.07181051e-01,  1.53275535e-01, -5.45523092e-02],\n",
              "        [ 2.51844436e-01,  1.92479476e-01, -1.64695144e-01],\n",
              "        [ 2.46099427e-01,  2.79281199e-01, -4.13692892e-02],\n",
              "        ...,\n",
              "        [ 1.32082611e-01,  3.71816218e-01,  2.57216394e-01],\n",
              "        [ 8.83550793e-02,  2.55407542e-01,  1.47482604e-01],\n",
              "        [ 1.55368164e-01,  2.53655970e-01,  1.17094412e-01]],\n",
              "\n",
              "       [[ 2.35460833e-01,  1.52135238e-01, -1.00335665e-01],\n",
              "        [ 3.02518398e-01,  1.93740875e-01, -2.42624745e-01],\n",
              "        [ 3.58967364e-01,  3.15737069e-01, -7.64312595e-02],\n",
              "        ...,\n",
              "        [ 3.83775711e-01,  5.41538119e-01,  3.98670316e-01],\n",
              "        [ 2.17826024e-01,  3.48385245e-01,  2.00873092e-01],\n",
              "        [ 3.01544845e-01,  4.05071557e-01,  2.45645896e-01]],\n",
              "\n",
              "       ...,\n",
              "\n",
              "       [[ 7.26884127e-01,  5.76406479e-01,  5.23429990e-01],\n",
              "        [ 8.83060217e-01,  7.52325952e-01,  6.94246650e-01],\n",
              "        [ 9.01087642e-01,  7.99792707e-01,  7.69046605e-01],\n",
              "        ...,\n",
              "        [ 7.80000031e-01,  6.37328088e-01,  4.97921109e-01],\n",
              "        [ 7.79430389e-01,  6.52686119e-01,  5.09094954e-01],\n",
              "        [ 7.46196032e-01,  6.70774221e-01,  5.01258790e-01]],\n",
              "\n",
              "       [[ 6.92463279e-01,  5.36499918e-01,  5.36207080e-01],\n",
              "        [ 8.45471859e-01,  7.18390942e-01,  7.06024170e-01],\n",
              "        [ 8.52424979e-01,  7.62252808e-01,  7.72769511e-01],\n",
              "        ...,\n",
              "        [ 7.76541352e-01,  6.86756611e-01,  6.10084832e-01],\n",
              "        [ 7.54027665e-01,  6.78182960e-01,  5.90596735e-01],\n",
              "        [ 6.90406561e-01,  6.57764316e-01,  5.19870222e-01]],\n",
              "\n",
              "       [[ 7.08225727e-01,  7.04328179e-01,  5.90003192e-01],\n",
              "        [ 8.69993985e-01,  8.75447452e-01,  8.16416860e-01],\n",
              "        [ 8.97396028e-01,  9.14241076e-01,  8.83733213e-01],\n",
              "        ...,\n",
              "        [ 8.27469766e-01,  8.49293172e-01,  7.65718877e-01],\n",
              "        [ 7.93176174e-01,  8.19389701e-01,  7.12587416e-01],\n",
              "        [ 6.75357401e-01,  7.08648920e-01,  5.69079876e-01]]],\n",
              "      dtype=float32)>"
            ]
          },
          "metadata": {},
          "execution_count": 195
        }
      ],
      "source": [
        "noise"
      ],
      "id": "4hchMPNdpYfb"
    },
    {
      "cell_type": "code",
      "execution_count": 218,
      "metadata": {
        "colab": {
          "base_uri": "https://localhost:8080/",
          "height": 285
        },
        "id": "FZs3Dx_Gotk2",
        "outputId": "bc2d09ae-bd3f-4cb2-c108-9f10f78a90a8"
      },
      "outputs": [
        {
          "output_type": "execute_result",
          "data": {
            "text/plain": [
              "<matplotlib.image.AxesImage at 0x7efec94a7d50>"
            ]
          },
          "metadata": {},
          "execution_count": 218
        },
        {
          "output_type": "display_data",
          "data": {
            "text/plain": [
              "<Figure size 432x288 with 1 Axes>"
            ],
            "image/png": "[encoded data removed]"
          },
          "metadata": {
            "needs_background": "light"
          }
        }
      ],
      "source": [
        "noise=generator(tf.random.normal([1,seed_size]),training=False)[0]\n",
        "import matplotlib.pyplot as plt\n",
        "import sys\n",
        "plt.imshow((np.array(noise)*127.5+127.5).astype(np.int32))"
      ],
      "id": "FZs3Dx_Gotk2"
    },
    {
      "cell_type": "code",
      "execution_count": 216,
      "metadata": {
        "id": "JuJbMdy8LVoU"
      },
      "outputs": [],
      "source": [
        "nn=np.array((noise))"
      ],
      "id": "JuJbMdy8LVoU"
    },
    {
      "cell_type": "code",
      "execution_count": null,
      "metadata": {
        "id": "WYU1y2mYVgOV"
      },
      "outputs": [],
      "source": [
        "os.chdir('/content/drive/MyDrive')"
      ],
      "id": "WYU1y2mYVgOV"
    },
    {
      "cell_type": "code",
      "execution_count": null,
      "metadata": {
        "colab": {
          "base_uri": "https://localhost:8080/",
          "height": 35
        },
        "id": "pUbyWsQyVlXQ",
        "outputId": "df64be2e-e43f-4f83-faad-bc82ad4c1b89"
      },
      "outputs": [
        {
          "data": {
            "application/vnd.google.colaboratory.intrinsic+json": {
              "type": "string"
            },
            "text/plain": [
              "'/content/drive/MyDrive'"
            ]
          },
          "execution_count": 70,
          "metadata": {},
          "output_type": "execute_result"
        }
      ],
      "source": [
        "os.getcwd()"
      ],
      "id": "pUbyWsQyVlXQ"
    },
    {
      "cell_type": "code",
      "execution_count": null,
      "metadata": {
        "id": "1zFhPYoXUiRY"
      },
      "outputs": [],
      "source": [
        "np.save(os.path.join(os.getcwd(),'gg'),nn)"
      ],
      "id": "1zFhPYoXUiRY"
    },
    {
      "cell_type": "code",
      "execution_count": null,
      "metadata": {
        "colab": {
          "base_uri": "https://localhost:8080/",
          "height": 320
        },
        "id": "FUfpdifJMVr9",
        "outputId": "c214c4b9-472e-4c04-f7cc-eeb40064fe07"
      },
      "outputs": [
        {
          "output_type": "stream",
          "name": "stderr",
          "text": [
            "Clipping input data to the valid range for imshow with RGB data ([0..1] for floats or [0..255] for integers).\n"
          ]
        },
        {
          "output_type": "execute_result",
          "data": {
            "text/plain": [
              "<matplotlib.image.AxesImage at 0x7f4800bb2e90>"
            ]
          },
          "metadata": {},
          "execution_count": 154
        },
        {
          "output_type": "display_data",
          "data": {
            "text/plain": [
              "<Figure size 432x288 with 1 Axes>"
            ],
            "image/png": "[encoded data removed]"
          },
          "metadata": {
            "needs_background": "light"
          }
        }
      ],
      "source": [
        "plt.imshow(images[10])"
      ],
      "id": "FUfpdifJMVr9"
    },
    {
      "cell_type": "code",
      "execution_count": null,
      "metadata": {
        "id": "eMJ5G2nLKjTi"
      },
      "outputs": [],
      "source": [
        "import cv2"
      ],
      "id": "eMJ5G2nLKjTi"
    },
    {
      "cell_type": "code",
      "execution_count": null,
      "metadata": {
        "colab": {
          "base_uri": "https://localhost:8080/",
          "height": 409
        },
        "id": "IYbOvkvCJabv",
        "outputId": "d43b3579-4d4b-4230-9575-88536ca10610"
      },
      "outputs": [
        {
          "ename": "DisabledFunctionError",
          "evalue": "ignored",
          "output_type": "error",
          "traceback": [
            "\u001b[0;31m---------------------------------------------------------------------------\u001b[0m",
            "\u001b[0;31mDisabledFunctionError\u001b[0m                     Traceback (most recent call last)",
            "\u001b[0;32m<ipython-input-63-da444e398881>\u001b[0m in \u001b[0;36m<module>\u001b[0;34m()\u001b[0m\n\u001b[1;32m      1\u001b[0m \u001b[0;32mwhile\u001b[0m \u001b[0;32mTrue\u001b[0m\u001b[0;34m:\u001b[0m\u001b[0;34m\u001b[0m\u001b[0;34m\u001b[0m\u001b[0m\n\u001b[0;32m----> 2\u001b[0;31m     \u001b[0mcv2\u001b[0m\u001b[0;34m.\u001b[0m\u001b[0mimshow\u001b[0m\u001b[0;34m(\u001b[0m\u001b[0mnoise\u001b[0m\u001b[0;34m)\u001b[0m\u001b[0;34m\u001b[0m\u001b[0;34m\u001b[0m\u001b[0m\n\u001b[0m\u001b[1;32m      3\u001b[0m     \u001b[0mcv2\u001b[0m\u001b[0;34m.\u001b[0m\u001b[0mwaitKey\u001b[0m\u001b[0;34m(\u001b[0m\u001b[0;36m0\u001b[0m\u001b[0;34m)\u001b[0m\u001b[0;34m\u001b[0m\u001b[0;34m\u001b[0m\u001b[0m\n\u001b[1;32m      4\u001b[0m     \u001b[0msys\u001b[0m\u001b[0;34m.\u001b[0m\u001b[0mexit\u001b[0m\u001b[0;34m(\u001b[0m\u001b[0;34m)\u001b[0m \u001b[0;31m# to exit from all the processes\u001b[0m\u001b[0;34m\u001b[0m\u001b[0;34m\u001b[0m\u001b[0m\n\u001b[1;32m      5\u001b[0m \u001b[0;34m\u001b[0m\u001b[0m\n",
            "\u001b[0;32m/usr/local/lib/python3.7/dist-packages/google/colab/_import_hooks/_cv2.py\u001b[0m in \u001b[0;36mwrapped\u001b[0;34m(*args, **kwargs)\u001b[0m\n\u001b[1;32m     50\u001b[0m   \u001b[0;32mdef\u001b[0m \u001b[0mwrapped\u001b[0m\u001b[0;34m(\u001b[0m\u001b[0;34m*\u001b[0m\u001b[0margs\u001b[0m\u001b[0;34m,\u001b[0m \u001b[0;34m**\u001b[0m\u001b[0mkwargs\u001b[0m\u001b[0;34m)\u001b[0m\u001b[0;34m:\u001b[0m\u001b[0;34m\u001b[0m\u001b[0;34m\u001b[0m\u001b[0m\n\u001b[1;32m     51\u001b[0m     \u001b[0;32mif\u001b[0m \u001b[0;32mnot\u001b[0m \u001b[0mos\u001b[0m\u001b[0;34m.\u001b[0m\u001b[0menviron\u001b[0m\u001b[0;34m.\u001b[0m\u001b[0mget\u001b[0m\u001b[0;34m(\u001b[0m\u001b[0menv_var\u001b[0m\u001b[0;34m,\u001b[0m \u001b[0;32mFalse\u001b[0m\u001b[0;34m)\u001b[0m\u001b[0;34m:\u001b[0m\u001b[0;34m\u001b[0m\u001b[0;34m\u001b[0m\u001b[0m\n\u001b[0;32m---> 52\u001b[0;31m       \u001b[0;32mraise\u001b[0m \u001b[0mDisabledFunctionError\u001b[0m\u001b[0;34m(\u001b[0m\u001b[0mmessage\u001b[0m\u001b[0;34m,\u001b[0m \u001b[0mname\u001b[0m \u001b[0;32mor\u001b[0m \u001b[0mfunc\u001b[0m\u001b[0;34m.\u001b[0m\u001b[0m__name__\u001b[0m\u001b[0;34m)\u001b[0m\u001b[0;34m\u001b[0m\u001b[0;34m\u001b[0m\u001b[0m\n\u001b[0m\u001b[1;32m     53\u001b[0m     \u001b[0;32mreturn\u001b[0m \u001b[0mfunc\u001b[0m\u001b[0;34m(\u001b[0m\u001b[0;34m*\u001b[0m\u001b[0margs\u001b[0m\u001b[0;34m,\u001b[0m \u001b[0;34m**\u001b[0m\u001b[0mkwargs\u001b[0m\u001b[0;34m)\u001b[0m\u001b[0;34m\u001b[0m\u001b[0;34m\u001b[0m\u001b[0m\n\u001b[1;32m     54\u001b[0m \u001b[0;34m\u001b[0m\u001b[0m\n",
            "\u001b[0;31mDisabledFunctionError\u001b[0m: cv2.imshow() is disabled in Colab, because it causes Jupyter sessions\nto crash; see https://github.com/jupyter/notebook/issues/3935.\nAs a substitution, consider using\n  from google.colab.patches import cv2_imshow\n"
          ]
        }
      ],
      "source": [
        "while True:\n",
        "    cv2.imshow(noise)\n",
        "    cv2.waitKey(0)\n",
        "    sys.exit() # to exit from all the processes\n",
        " \n",
        "cv2.destroyAllWindows() # destroy all windows"
      ],
      "id": "IYbOvkvCJabv"
    },
    {
      "cell_type": "code",
      "execution_count": null,
      "metadata": {
        "id": "qGHoHcpqJuGy"
      },
      "outputs": [],
      "source": [
        ""
      ],
      "id": "qGHoHcpqJuGy"
    }
  ],
  "metadata": {
    "accelerator": "GPU",
    "colab": {
      "name": "ArtGeneration_GAN.ipynb",
      "provenance": [],
      "include_colab_link": true
    },
    "kernelspec": {
      "display_name": "Python 3",
      "language": "python",
      "name": "python3"
    },
    "language_info": {
      "codemirror_mode": {
        "name": "ipython",
        "version": 3
      },
      "file_extension": ".py",
      "mimetype": "text/x-python",
      "name": "python",
      "nbconvert_exporter": "python",
      "pygments_lexer": "ipython3",
      "version": "3.7.10"
    },
    "gpuClass": "standard"
  },
  "nbformat": 4,
  "nbformat_minor": 5
}