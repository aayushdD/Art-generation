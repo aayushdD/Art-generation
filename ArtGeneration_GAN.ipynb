{
  "cells": [
    {
      "cell_type": "markdown",
      "metadata": {
        "id": "view-in-github",
        "colab_type": "text"
      },
      "source": [
        "<a href=\"https://colab.research.google.com/github/aayushdD/Art-generation/blob/master/ArtGeneration_GAN.ipynb\" target=\"_parent\"><img src=\"https://colab.research.google.com/assets/colab-badge.svg\" alt=\"Open In Colab\"/></a>"
      ]
    },
    {
      "cell_type": "code",
      "execution_count": null,
      "metadata": {
        "id": "f34f2911"
      },
      "outputs": [],
      "source": [
        "import tensorflow as tf\n",
        "from tensorflow import keras\n",
        "import os"
      ],
      "id": "f34f2911"
    },
    {
      "cell_type": "code",
      "execution_count": null,
      "metadata": {
        "id": "AJd6p-9rPYrB"
      },
      "outputs": [],
      "source": [
        ""
      ],
      "id": "AJd6p-9rPYrB"
    },
    {
      "cell_type": "code",
      "execution_count": null,
      "metadata": {
        "id": "mEGELIzPNVyN"
      },
      "outputs": [],
      "source": [
        ""
      ],
      "id": "mEGELIzPNVyN"
    },
    {
      "cell_type": "code",
      "execution_count": null,
      "metadata": {
        "id": "LegWVJOkNOrF"
      },
      "outputs": [],
      "source": [
        "from google.colab import drive\n",
        "\n"
      ],
      "id": "LegWVJOkNOrF"
    },
    {
      "cell_type": "code",
      "execution_count": null,
      "metadata": {
        "colab": {
          "base_uri": "https://localhost:8080/"
        },
        "id": "Mx1RQAMoNnsq",
        "outputId": "fd410c9a-769a-47c3-c021-e8af40fc7c88"
      },
      "outputs": [
        {
          "output_type": "stream",
          "name": "stdout",
          "text": [
            "Mounted at /content/drive\n"
          ]
        }
      ],
      "source": [
        "drive.mount('/content/drive')"
      ],
      "id": "Mx1RQAMoNnsq"
    },
    {
      "cell_type": "code",
      "execution_count": null,
      "metadata": {
        "id": "de38262b"
      },
      "outputs": [],
      "source": [
        "from PIL import Image\n",
        "import glob\n",
        "import cv2"
      ],
      "id": "de38262b"
    },
    {
      "cell_type": "code",
      "execution_count": null,
      "metadata": {
        "id": "0da859bf"
      },
      "outputs": [],
      "source": [
        "image_list=[]"
      ],
      "id": "0da859bf"
    },
    {
      "cell_type": "code",
      "execution_count": null,
      "metadata": {
        "colab": {
          "base_uri": "https://localhost:8080/"
        },
        "id": "8bcc867b",
        "outputId": "3d324c2d-f0ca-4a6c-ed3c-8dc336b22b81"
      },
      "outputs": [
        {
          "output_type": "stream",
          "name": "stdout",
          "text": [
            "/content\n",
            "['.config', 'drive', 'sample_data']\n"
          ]
        }
      ],
      "source": [
        "print(os.getcwd())\n",
        "print(os.listdir())"
      ],
      "id": "8bcc867b"
    },
    {
      "cell_type": "code",
      "execution_count": null,
      "metadata": {
        "id": "wJfHha-ljYsD"
      },
      "outputs": [],
      "source": [
        ""
      ],
      "id": "wJfHha-ljYsD"
    },
    {
      "cell_type": "code",
      "execution_count": null,
      "metadata": {
        "colab": {
          "base_uri": "https://localhost:8080/"
        },
        "id": "Vtp8NeUcjj6R",
        "outputId": "0b693bbe-d125-4dc5-cfad-f7e70bfb4384"
      },
      "outputs": [
        {
          "output_type": "execute_result",
          "data": {
            "text/plain": [
              "['.config', 'drive', 'sample_data']"
            ]
          },
          "metadata": {},
          "execution_count": 8
        }
      ],
      "source": [
        "os.listdir()"
      ],
      "id": "Vtp8NeUcjj6R"
    },
    {
      "cell_type": "code",
      "execution_count": null,
      "metadata": {
        "id": "80cd0a9b"
      },
      "outputs": [],
      "source": [
        "ll=os.walk(os.path.join(os.getcwd(),'drive\\resized\\resized'))"
      ],
      "id": "80cd0a9b"
    },
    {
      "cell_type": "code",
      "execution_count": null,
      "metadata": {
        "id": "2lzZrFRBjNQr"
      },
      "outputs": [],
      "source": [
        ""
      ],
      "id": "2lzZrFRBjNQr"
    },
    {
      "cell_type": "code",
      "execution_count": null,
      "metadata": {
        "id": "Ww0EHPjGjEcm"
      },
      "outputs": [],
      "source": [
        ""
      ],
      "id": "Ww0EHPjGjEcm"
    },
    {
      "cell_type": "code",
      "execution_count": null,
      "metadata": {
        "id": "41d7599a"
      },
      "outputs": [],
      "source": [
        "for i , j , k in ll:\n",
        "    path=i.split(os.sep)\n",
        "    print(path)"
      ],
      "id": "41d7599a"
    },
    {
      "cell_type": "code",
      "execution_count": null,
      "metadata": {
        "id": "0f0df959"
      },
      "outputs": [],
      "source": [
        "images=[]\n",
        "for i , j , k in os.walk(os.path.join(os.getcwd(),'drive/MyDrive/resized/resized')):\n",
        "    image_list=os.listdir(i)\n",
        "    for image in image_list:\n",
        "        instance=cv2.imread(os.path.join(i,image))\n",
        "        ins=cv2.resize(instance,(128,128)).astype('float64')\n",
        "        images.append(ins)\n",
        "        \n",
        "    \n",
        "    "
      ],
      "id": "0f0df959"
    },
    {
      "cell_type": "code",
      "execution_count": null,
      "metadata": {
        "colab": {
          "base_uri": "https://localhost:8080/"
        },
        "id": "ARGr-wGCjLDf",
        "outputId": "aef0f785-25d8-4d42-b1df-130afc969429"
      },
      "outputs": [
        {
          "output_type": "execute_result",
          "data": {
            "text/plain": [
              "(128, 128, 3)"
            ]
          },
          "metadata": {},
          "execution_count": 12
        }
      ],
      "source": [
        "images[0].shape"
      ],
      "id": "ARGr-wGCjLDf"
    },
    {
      "cell_type": "code",
      "execution_count": null,
      "metadata": {
        "id": "25fa083e"
      },
      "outputs": [],
      "source": [
        "import numpy as np"
      ],
      "id": "25fa083e"
    },
    {
      "cell_type": "code",
      "execution_count": null,
      "metadata": {
        "colab": {
          "base_uri": "https://localhost:8080/"
        },
        "id": "fd5dd2c9",
        "outputId": "f4831014-22d6-46c5-84b8-fbc91a711019"
      },
      "outputs": [
        {
          "output_type": "execute_result",
          "data": {
            "text/plain": [
              "8683"
            ]
          },
          "metadata": {},
          "execution_count": 14
        }
      ],
      "source": [
        "len(images)"
      ],
      "id": "fd5dd2c9"
    },
    {
      "cell_type": "code",
      "execution_count": null,
      "metadata": {
        "colab": {
          "base_uri": "https://localhost:8080/"
        },
        "id": "e2344420",
        "outputId": "935ad5a0-54ba-49b6-c911-ada9e29c9665"
      },
      "outputs": [
        {
          "output_type": "execute_result",
          "data": {
            "text/plain": [
              "(128, 128, 3)"
            ]
          },
          "metadata": {},
          "execution_count": 15
        }
      ],
      "source": [
        "images[0].shape"
      ],
      "id": "e2344420"
    },
    {
      "cell_type": "code",
      "execution_count": null,
      "metadata": {
        "colab": {
          "base_uri": "https://localhost:8080/"
        },
        "id": "3ec4c03c",
        "outputId": "dd571fd4-a161-48ed-ac43-e5c94572151e"
      },
      "outputs": [
        {
          "output_type": "execute_result",
          "data": {
            "text/plain": [
              "array([[[30., 33., 42.],\n",
              "        [25., 31., 41.],\n",
              "        [34., 40., 52.],\n",
              "        ...,\n",
              "        [38., 19., 15.],\n",
              "        [23., 10.,  5.],\n",
              "        [11.,  5.,  3.]],\n",
              "\n",
              "       [[30., 37., 49.],\n",
              "        [31., 38., 52.],\n",
              "        [28., 35., 52.],\n",
              "        ...,\n",
              "        [37., 17.,  9.],\n",
              "        [32., 17.,  6.],\n",
              "        [34., 19.,  9.]],\n",
              "\n",
              "       [[28., 37., 51.],\n",
              "        [24., 33., 47.],\n",
              "        [27., 36., 50.],\n",
              "        ...,\n",
              "        [41., 22., 11.],\n",
              "        [40., 20.,  9.],\n",
              "        [39., 20.,  4.]],\n",
              "\n",
              "       ...,\n",
              "\n",
              "       [[ 5., 11., 24.],\n",
              "        [11., 20., 33.],\n",
              "        [15., 23., 37.],\n",
              "        ...,\n",
              "        [25., 33., 46.],\n",
              "        [ 2., 10., 20.],\n",
              "        [ 2.,  4., 11.]],\n",
              "\n",
              "       [[ 3.,  8., 21.],\n",
              "        [18., 30., 42.],\n",
              "        [19., 29., 43.],\n",
              "        ...,\n",
              "        [ 7., 14., 26.],\n",
              "        [ 5., 11., 22.],\n",
              "        [ 1.,  3., 11.]],\n",
              "\n",
              "       [[10., 16., 29.],\n",
              "        [20., 32., 44.],\n",
              "        [33., 43., 57.],\n",
              "        ...,\n",
              "        [ 6.,  8., 18.],\n",
              "        [ 7.,  9., 18.],\n",
              "        [ 5.,  3.,  9.]]])"
            ]
          },
          "metadata": {},
          "execution_count": 16
        }
      ],
      "source": [
        "images[0]"
      ],
      "id": "3ec4c03c"
    },
    {
      "cell_type": "code",
      "execution_count": null,
      "metadata": {
        "id": "cf7b883f"
      },
      "outputs": [],
      "source": [
        "discriminator=keras.models.Sequential([\n",
        "    keras.layers.Conv2D(64, kernel_size=4,strides=2, padding='same', input_shape=[128,128,3]),\n",
        "    keras.layers.BatchNormalization(),\n",
        "    keras.layers.LeakyReLU(),\n",
        "    \n",
        "    keras.layers.Conv2D(128,kernel_size=4,strides=2,padding='same'),\n",
        "    keras.layers.BatchNormalization(),\n",
        "    keras.layers.LeakyReLU(),\n",
        "    \n",
        "    keras.layers.Conv2D(256,kernel_size=4,strides=2,padding='same'),\n",
        "    keras.layers.BatchNormalization(),\n",
        "    keras.layers.LeakyReLU(),\n",
        "    \n",
        "    keras.layers.Conv2D(512,kernel_size=4,strides=2,padding='same'),\n",
        "    keras.layers.BatchNormalization(),\n",
        "    keras.layers.LeakyReLU(),\n",
        "    \n",
        "    keras.layers.Conv2D(1,kernel_size=1,strides=1,padding='valid',activation='relu'),\n",
        "    keras.layers.Flatten(),\n",
        "    keras.layers.Dense(1,activation='sigmoid')\n",
        "   \n",
        "])"
      ],
      "id": "cf7b883f"
    },
    {
      "cell_type": "code",
      "execution_count": null,
      "metadata": {
        "colab": {
          "base_uri": "https://localhost:8080/"
        },
        "id": "db6c6817",
        "outputId": "2a3634ff-6423-48bf-dddd-20ab930c2cc1",
        "scrolled": true
      },
      "outputs": [
        {
          "output_type": "stream",
          "name": "stdout",
          "text": [
            "Model: \"sequential\"\n",
            "_________________________________________________________________\n",
            " Layer (type)                Output Shape              Param #   \n",
            "=================================================================\n",
            " conv2d (Conv2D)             (None, 32, 32, 64)        3136      \n",
            "                                                                 \n",
            " batch_normalization (BatchN  (None, 32, 32, 64)       256       \n",
            " ormalization)                                                   \n",
            "                                                                 \n",
            " leaky_re_lu (LeakyReLU)     (None, 32, 32, 64)        0         \n",
            "                                                                 \n",
            " conv2d_1 (Conv2D)           (None, 16, 16, 128)       131200    \n",
            "                                                                 \n",
            " batch_normalization_1 (Batc  (None, 16, 16, 128)      512       \n",
            " hNormalization)                                                 \n",
            "                                                                 \n",
            " leaky_re_lu_1 (LeakyReLU)   (None, 16, 16, 128)       0         \n",
            "                                                                 \n",
            " conv2d_2 (Conv2D)           (None, 8, 8, 256)         524544    \n",
            "                                                                 \n",
            " batch_normalization_2 (Batc  (None, 8, 8, 256)        1024      \n",
            " hNormalization)                                                 \n",
            "                                                                 \n",
            " leaky_re_lu_2 (LeakyReLU)   (None, 8, 8, 256)         0         \n",
            "                                                                 \n",
            " conv2d_3 (Conv2D)           (None, 4, 4, 512)         2097664   \n",
            "                                                                 \n",
            " batch_normalization_3 (Batc  (None, 4, 4, 512)        2048      \n",
            " hNormalization)                                                 \n",
            "                                                                 \n",
            " leaky_re_lu_3 (LeakyReLU)   (None, 4, 4, 512)         0         \n",
            "                                                                 \n",
            " conv2d_4 (Conv2D)           (None, 4, 4, 1)           513       \n",
            "                                                                 \n",
            " flatten (Flatten)           (None, 16)                0         \n",
            "                                                                 \n",
            " dense (Dense)               (None, 1)                 17        \n",
            "                                                                 \n",
            "=================================================================\n",
            "Total params: 2,760,914\n",
            "Trainable params: 2,758,994\n",
            "Non-trainable params: 1,920\n",
            "_________________________________________________________________\n"
          ]
        }
      ],
      "source": [
        "discriminator.summary()"
      ],
      "id": "db6c6817"
    },
    {
      "cell_type": "code",
      "execution_count": null,
      "metadata": {
        "id": "a46a426a"
      },
      "outputs": [],
      "source": [
        "latent_size=1028\n",
        "batch_size=32"
      ],
      "id": "a46a426a"
    },
    {
      "cell_type": "code",
      "execution_count": null,
      "metadata": {
        "id": "f1c57cb5"
      },
      "outputs": [],
      "source": [
        "\n",
        "generator=keras.models.Sequential([\n",
        "    # keras.layers.Conv2DTranspose(512,kernel_size=2,strides=2,padding='same', input_shape=[1,1,latent_size]),\n",
        "    # keras.layers.BatchNormalization(),\n",
        "    # keras.layers.LeakyReLU(),\n",
        "   \n",
        "\n",
        "    keras.layers.Conv2DTranspose(256,kernel_size=2,strides=2,padding='same',input_shape=[1,1,latent_size]),\n",
        "    keras.layers.BatchNormalization(),\n",
        "    keras.layers.LeakyReLU(),\n",
        "    \n",
        "    keras.layers.Conv2DTranspose(128,kernel_size=2,strides=2,\n",
        "                                padding='same'),\n",
        "    keras.layers.BatchNormalization(),\n",
        "   keras.layers.LeakyReLU(),\n",
        "    \n",
        "    keras.layers.Conv2DTranspose(64,kernel_size=2,strides=2,\n",
        "                                padding='same'),\n",
        "    keras.layers.BatchNormalization(),\n",
        "    keras.layers.LeakyReLU(),\n",
        "    \n",
        "    keras.layers.Conv2DTranspose(32,kernel_size=4,strides=4,\n",
        "                                padding='same'),\n",
        "    keras.layers.LeakyReLU(),\n",
        "    \n",
        "    keras.layers.Conv2DTranspose(3,kernel_size=4,strides=4,\n",
        "                                padding='same'),\n",
        "    keras.layers.LeakyReLU()\n",
        "    \n",
        "])"
      ],
      "id": "f1c57cb5"
    },
    {
      "cell_type": "code",
      "execution_count": null,
      "metadata": {
        "colab": {
          "base_uri": "https://localhost:8080/"
        },
        "id": "aa85150f",
        "outputId": "db771988-23d3-4c6e-d1f0-7816a98a96cf",
        "scrolled": true
      },
      "outputs": [
        {
          "output_type": "stream",
          "name": "stdout",
          "text": [
            "Model: \"sequential_7\"\n",
            "_________________________________________________________________\n",
            " Layer (type)                Output Shape              Param #   \n",
            "=================================================================\n",
            " conv2d_transpose_27 (Conv2D  (None, 2, 2, 256)        1052928   \n",
            " Transpose)                                                      \n",
            "                                                                 \n",
            " batch_normalization_19 (Bat  (None, 2, 2, 256)        1024      \n",
            " chNormalization)                                                \n",
            "                                                                 \n",
            " leaky_re_lu_31 (LeakyReLU)  (None, 2, 2, 256)         0         \n",
            "                                                                 \n",
            " conv2d_transpose_28 (Conv2D  (None, 4, 4, 128)        131200    \n",
            " Transpose)                                                      \n",
            "                                                                 \n",
            " batch_normalization_20 (Bat  (None, 4, 4, 128)        512       \n",
            " chNormalization)                                                \n",
            "                                                                 \n",
            " leaky_re_lu_32 (LeakyReLU)  (None, 4, 4, 128)         0         \n",
            "                                                                 \n",
            " conv2d_transpose_29 (Conv2D  (None, 8, 8, 64)         32832     \n",
            " Transpose)                                                      \n",
            "                                                                 \n",
            " batch_normalization_21 (Bat  (None, 8, 8, 64)         256       \n",
            " chNormalization)                                                \n",
            "                                                                 \n",
            " leaky_re_lu_33 (LeakyReLU)  (None, 8, 8, 64)          0         \n",
            "                                                                 \n",
            " conv2d_transpose_30 (Conv2D  (None, 32, 32, 32)       32800     \n",
            " Transpose)                                                      \n",
            "                                                                 \n",
            " leaky_re_lu_34 (LeakyReLU)  (None, 32, 32, 32)        0         \n",
            "                                                                 \n",
            " conv2d_transpose_31 (Conv2D  (None, 128, 128, 3)      1539      \n",
            " Transpose)                                                      \n",
            "                                                                 \n",
            " leaky_re_lu_35 (LeakyReLU)  (None, 128, 128, 3)       0         \n",
            "                                                                 \n",
            "=================================================================\n",
            "Total params: 1,253,091\n",
            "Trainable params: 1,252,195\n",
            "Non-trainable params: 896\n",
            "_________________________________________________________________\n"
          ]
        }
      ],
      "source": [
        "generator.summary()"
      ],
      "id": "aa85150f"
    },
    {
      "cell_type": "code",
      "execution_count": null,
      "metadata": {
        "id": "uuvkFAnDp13i"
      },
      "outputs": [],
      "source": [
        "generator.trainable_variables"
      ],
      "id": "uuvkFAnDp13i"
    },
    {
      "cell_type": "code",
      "execution_count": null,
      "metadata": {
        "id": "61b31e78"
      },
      "outputs": [],
      "source": [
        "cross_entropy=keras.losses.BinaryCrossentropy()"
      ],
      "id": "61b31e78"
    },
    {
      "cell_type": "code",
      "execution_count": null,
      "metadata": {
        "id": "7cfceb9d"
      },
      "outputs": [],
      "source": [
        "def discriminator_loss(real_output,fake_output):\n",
        "    real_loss=cross_entropy(tf.ones_like(real_output),real_output)\n",
        "    fake_loss=cross_entropy(tf.zeros_like(fake_output),fake_output)\n",
        "    total_loss=real_loss+fake_loss\n",
        "    return total_loss\n",
        "\n",
        "    "
      ],
      "id": "7cfceb9d"
    },
    {
      "cell_type": "code",
      "execution_count": null,
      "metadata": {
        "id": "534e9438"
      },
      "outputs": [],
      "source": [
        "def generator_loss(fake_output):\n",
        "    gen_loss=cross_entropy(tf.ones_like(fake_output),fake_output)\n",
        "    return gen_loss"
      ],
      "id": "534e9438"
    },
    {
      "cell_type": "code",
      "execution_count": null,
      "metadata": {
        "id": "7dfe6ae8"
      },
      "outputs": [],
      "source": [
        "gen_opt=keras.optimizers.Adam()\n",
        "dis_opt=keras.optimizers.Adam()\n",
        "batch_size=32"
      ],
      "id": "7dfe6ae8"
    },
    {
      "cell_type": "code",
      "execution_count": null,
      "metadata": {
        "id": "b3cddae6"
      },
      "outputs": [],
      "source": [
        "@tf.function\n",
        "def train_step(images):\n",
        "    noise=tf.random.normal([batch_size,1,1,latent_size])\n",
        "    \n",
        "    with tf.GradientTape() as gen_tape , tf.GradientTape() as dis_tape:\n",
        "        gen_images=generator(noise,training=True)\n",
        "        \n",
        "        real_output=discriminator(images,training=True)\n",
        "        fake_output=discriminator(gen_images,training=True)\n",
        "        \n",
        "        gen_loss=generator_loss(fake_output)\n",
        "        dis_loss=discriminator_loss(real_output,fake_output)\n",
        "        \n",
        "    gen_gradients=gen_tape.gradient(gen_loss,generator.trainable_variables)\n",
        "    dis_gradients=dis_tape.gradient(dis_loss,discriminator.trainable_variables)\n",
        "    \n",
        "    gen_opt.apply_gradients(zip(gen_gradients,generator.trainable_variables))\n",
        "    dis_opt.apply_gradients(zip(dis_gradients,discriminator.trainable_variables))\n",
        "    \n",
        "    return gen_loss, dis_loss,gen_images[0]"
      ],
      "id": "b3cddae6"
    },
    {
      "cell_type": "code",
      "execution_count": null,
      "metadata": {
        "id": "1f53e100"
      },
      "outputs": [],
      "source": [
        "import time\n",
        "from IPython import display"
      ],
      "id": "1f53e100"
    },
    {
      "cell_type": "code",
      "execution_count": null,
      "metadata": {
        "id": "2b0966af"
      },
      "outputs": [],
      "source": [
        "def train_tot(dataset,epochs):\n",
        "  for epoch in range(epochs):\n",
        "    start=time.time()      \n",
        "    for image_batch in dataset:\n",
        "      gen_loss,dis_loss,gen_img=train_step(image_batch)    \n",
        "    print(gen_loss,dis_loss)\n",
        "  return gen_img\n",
        "    "
      ],
      "id": "2b0966af"
    },
    {
      "cell_type": "code",
      "execution_count": null,
      "metadata": {
        "id": "57498f26"
      },
      "outputs": [],
      "source": [
        "\n",
        "buffer=600"
      ],
      "id": "57498f26"
    },
    {
      "cell_type": "code",
      "execution_count": null,
      "metadata": {
        "id": "dbf2f4ce"
      },
      "outputs": [],
      "source": [
        "dataset=tf.data.Dataset.from_tensor_slices(images).shuffle(buffer).batch(batch_size)\n"
      ],
      "id": "dbf2f4ce"
    },
    {
      "cell_type": "code",
      "execution_count": null,
      "metadata": {
        "id": "083ebf3d"
      },
      "outputs": [],
      "source": [
        "for element in dataset.take(1):\n",
        "    print(element)"
      ],
      "id": "083ebf3d"
    },
    {
      "cell_type": "code",
      "execution_count": null,
      "metadata": {
        "colab": {
          "base_uri": "https://localhost:8080/",
          "height": 312
        },
        "id": "ccfa5253",
        "outputId": "dccd3ec5-7083-41bd-f9e3-670de296ab72"
      },
      "outputs": [
        {
          "output_type": "error",
          "ename": "ValueError",
          "evalue": "ignored",
          "traceback": [
            "\u001b[0;31m---------------------------------------------------------------------------\u001b[0m",
            "\u001b[0;31mValueError\u001b[0m                                Traceback (most recent call last)",
            "\u001b[0;32m<ipython-input-55-2bb344c406a0>\u001b[0m in \u001b[0;36m<module>\u001b[0;34m()\u001b[0m\n\u001b[0;32m----> 1\u001b[0;31m \u001b[0mvg\u001b[0m\u001b[0;34m=\u001b[0m\u001b[0mtrain_tot\u001b[0m\u001b[0;34m(\u001b[0m\u001b[0mdataset\u001b[0m\u001b[0;34m,\u001b[0m\u001b[0;36m150\u001b[0m\u001b[0;34m)\u001b[0m\u001b[0;34m\u001b[0m\u001b[0;34m\u001b[0m\u001b[0m\n\u001b[0m",
            "\u001b[0;32m<ipython-input-51-44008be52a2b>\u001b[0m in \u001b[0;36mtrain_tot\u001b[0;34m(dataset, epochs)\u001b[0m\n\u001b[1;32m      3\u001b[0m     \u001b[0mstart\u001b[0m\u001b[0;34m=\u001b[0m\u001b[0mtime\u001b[0m\u001b[0;34m.\u001b[0m\u001b[0mtime\u001b[0m\u001b[0;34m(\u001b[0m\u001b[0;34m)\u001b[0m\u001b[0;34m\u001b[0m\u001b[0;34m\u001b[0m\u001b[0m\n\u001b[1;32m      4\u001b[0m     \u001b[0;32mfor\u001b[0m \u001b[0mimage_batch\u001b[0m \u001b[0;32min\u001b[0m \u001b[0mdataset\u001b[0m\u001b[0;34m:\u001b[0m\u001b[0;34m\u001b[0m\u001b[0;34m\u001b[0m\u001b[0m\n\u001b[0;32m----> 5\u001b[0;31m       \u001b[0mgen_loss\u001b[0m\u001b[0;34m,\u001b[0m\u001b[0mdis_loss\u001b[0m\u001b[0;34m,\u001b[0m\u001b[0mgen_img\u001b[0m\u001b[0;34m=\u001b[0m\u001b[0mtrain_step\u001b[0m\u001b[0;34m(\u001b[0m\u001b[0mimage_batch\u001b[0m\u001b[0;34m)\u001b[0m\u001b[0;34m\u001b[0m\u001b[0;34m\u001b[0m\u001b[0m\n\u001b[0m\u001b[1;32m      6\u001b[0m     \u001b[0mprint\u001b[0m\u001b[0;34m(\u001b[0m\u001b[0mgen_loss\u001b[0m\u001b[0;34m,\u001b[0m\u001b[0mdis_loss\u001b[0m\u001b[0;34m)\u001b[0m\u001b[0;34m\u001b[0m\u001b[0;34m\u001b[0m\u001b[0m\n\u001b[1;32m      7\u001b[0m   \u001b[0;32mreturn\u001b[0m \u001b[0mgen_img\u001b[0m\u001b[0;34m\u001b[0m\u001b[0;34m\u001b[0m\u001b[0m\n",
            "\u001b[0;32m/usr/local/lib/python3.7/dist-packages/tensorflow/python/util/traceback_utils.py\u001b[0m in \u001b[0;36merror_handler\u001b[0;34m(*args, **kwargs)\u001b[0m\n\u001b[1;32m    151\u001b[0m     \u001b[0;32mexcept\u001b[0m \u001b[0mException\u001b[0m \u001b[0;32mas\u001b[0m \u001b[0me\u001b[0m\u001b[0;34m:\u001b[0m\u001b[0;34m\u001b[0m\u001b[0;34m\u001b[0m\u001b[0m\n\u001b[1;32m    152\u001b[0m       \u001b[0mfiltered_tb\u001b[0m \u001b[0;34m=\u001b[0m \u001b[0m_process_traceback_frames\u001b[0m\u001b[0;34m(\u001b[0m\u001b[0me\u001b[0m\u001b[0;34m.\u001b[0m\u001b[0m__traceback__\u001b[0m\u001b[0;34m)\u001b[0m\u001b[0;34m\u001b[0m\u001b[0;34m\u001b[0m\u001b[0m\n\u001b[0;32m--> 153\u001b[0;31m       \u001b[0;32mraise\u001b[0m \u001b[0me\u001b[0m\u001b[0;34m.\u001b[0m\u001b[0mwith_traceback\u001b[0m\u001b[0;34m(\u001b[0m\u001b[0mfiltered_tb\u001b[0m\u001b[0;34m)\u001b[0m \u001b[0;32mfrom\u001b[0m \u001b[0;32mNone\u001b[0m\u001b[0;34m\u001b[0m\u001b[0;34m\u001b[0m\u001b[0m\n\u001b[0m\u001b[1;32m    154\u001b[0m     \u001b[0;32mfinally\u001b[0m\u001b[0;34m:\u001b[0m\u001b[0;34m\u001b[0m\u001b[0;34m\u001b[0m\u001b[0m\n\u001b[1;32m    155\u001b[0m       \u001b[0;32mdel\u001b[0m \u001b[0mfiltered_tb\u001b[0m\u001b[0;34m\u001b[0m\u001b[0;34m\u001b[0m\u001b[0m\n",
            "\u001b[0;32m/usr/local/lib/python3.7/dist-packages/tensorflow/python/eager/def_function.py\u001b[0m in \u001b[0;36m_call\u001b[0;34m(self, *args, **kwds)\u001b[0m\n\u001b[1;32m    954\u001b[0m       \u001b[0mresults\u001b[0m \u001b[0;34m=\u001b[0m \u001b[0mself\u001b[0m\u001b[0;34m.\u001b[0m\u001b[0m_stateful_fn\u001b[0m\u001b[0;34m(\u001b[0m\u001b[0;34m*\u001b[0m\u001b[0margs\u001b[0m\u001b[0;34m,\u001b[0m \u001b[0;34m**\u001b[0m\u001b[0mkwds\u001b[0m\u001b[0;34m)\u001b[0m\u001b[0;34m\u001b[0m\u001b[0;34m\u001b[0m\u001b[0m\n\u001b[1;32m    955\u001b[0m       \u001b[0;32mif\u001b[0m \u001b[0mself\u001b[0m\u001b[0;34m.\u001b[0m\u001b[0m_created_variables\u001b[0m \u001b[0;32mand\u001b[0m \u001b[0;32mnot\u001b[0m \u001b[0mALLOW_DYNAMIC_VARIABLE_CREATION\u001b[0m\u001b[0;34m:\u001b[0m\u001b[0;34m\u001b[0m\u001b[0;34m\u001b[0m\u001b[0m\n\u001b[0;32m--> 956\u001b[0;31m         raise ValueError(\"Creating variables on a non-first call to a function\"\n\u001b[0m\u001b[1;32m    957\u001b[0m                          \" decorated with tf.function.\")\n\u001b[1;32m    958\u001b[0m       \u001b[0;32mreturn\u001b[0m \u001b[0mresults\u001b[0m\u001b[0;34m\u001b[0m\u001b[0;34m\u001b[0m\u001b[0m\n",
            "\u001b[0;31mValueError\u001b[0m: Creating variables on a non-first call to a function decorated with tf.function."
          ]
        }
      ],
      "source": [
        "vg=train_tot(dataset,150)"
      ],
      "id": "ccfa5253"
    },
    {
      "cell_type": "code",
      "execution_count": null,
      "metadata": {
        "id": "irMIINQjIHU9"
      },
      "outputs": [],
      "source": [
        ""
      ],
      "id": "irMIINQjIHU9"
    },
    {
      "cell_type": "code",
      "execution_count": null,
      "metadata": {
        "id": "fb9fb73b"
      },
      "outputs": [],
      "source": [
        "noise=generator(tf.random.normal([1,1,1,latent_size]),training=False)[0]"
      ],
      "id": "fb9fb73b"
    },
    {
      "cell_type": "code",
      "execution_count": null,
      "metadata": {
        "id": "NIZMmusCJoSm"
      },
      "outputs": [],
      "source": [
        ""
      ],
      "id": "NIZMmusCJoSm"
    },
    {
      "cell_type": "code",
      "execution_count": null,
      "metadata": {
        "colab": {
          "base_uri": "https://localhost:8080/"
        },
        "id": "bZGDEhaWNe-r",
        "outputId": "38d610fc-9f53-45d3-db48-14e70c62058b"
      },
      "outputs": [
        {
          "data": {
            "text/plain": [
              "(7,)"
            ]
          },
          "execution_count": 33,
          "metadata": {},
          "output_type": "execute_result"
        }
      ],
      "source": [
        ""
      ],
      "id": "bZGDEhaWNe-r"
    },
    {
      "cell_type": "code",
      "execution_count": null,
      "metadata": {
        "id": "4hchMPNdpYfb"
      },
      "outputs": [],
      "source": [
        "noise"
      ],
      "id": "4hchMPNdpYfb"
    },
    {
      "cell_type": "code",
      "execution_count": null,
      "metadata": {
        "colab": {
          "base_uri": "https://localhost:8080/",
          "height": 303
        },
        "id": "FZs3Dx_Gotk2",
        "outputId": "51e79449-3e51-465f-b6b9-783c90c8a22d"
      },
      "outputs": [
        {
          "output_type": "stream",
          "name": "stderr",
          "text": [
            "Clipping input data to the valid range for imshow with RGB data ([0..1] for floats or [0..255] for integers).\n"
          ]
        },
        {
          "output_type": "execute_result",
          "data": {
            "text/plain": [
              "<matplotlib.image.AxesImage at 0x7f17d52cd890>"
            ]
          },
          "metadata": {},
          "execution_count": 59
        },
        {
          "output_type": "display_data",
          "data": {
            "text/plain": [
              "<Figure size 432x288 with 1 Axes>"
            ],
            "image/png": "[encoded data removed]"
          },
          "metadata": {
            "needs_background": "light"
          }
        }
      ],
      "source": [
        "import matplotlib.pyplot as plt\n",
        "import sys\n",
        "plt.imshow(np.array((noise*127.5)+127.5).astype(np.int8))"
      ],
      "id": "FZs3Dx_Gotk2"
    },
    {
      "cell_type": "code",
      "execution_count": null,
      "metadata": {
        "id": "JuJbMdy8LVoU"
      },
      "outputs": [],
      "source": [
        "nn=np.array((noise))"
      ],
      "id": "JuJbMdy8LVoU"
    },
    {
      "cell_type": "code",
      "execution_count": null,
      "metadata": {
        "id": "WYU1y2mYVgOV"
      },
      "outputs": [],
      "source": [
        "os.chdir('/content/drive/MyDrive')"
      ],
      "id": "WYU1y2mYVgOV"
    },
    {
      "cell_type": "code",
      "execution_count": null,
      "metadata": {
        "colab": {
          "base_uri": "https://localhost:8080/",
          "height": 35
        },
        "id": "pUbyWsQyVlXQ",
        "outputId": "df64be2e-e43f-4f83-faad-bc82ad4c1b89"
      },
      "outputs": [
        {
          "data": {
            "application/vnd.google.colaboratory.intrinsic+json": {
              "type": "string"
            },
            "text/plain": [
              "'/content/drive/MyDrive'"
            ]
          },
          "execution_count": 70,
          "metadata": {},
          "output_type": "execute_result"
        }
      ],
      "source": [
        "os.getcwd()"
      ],
      "id": "pUbyWsQyVlXQ"
    },
    {
      "cell_type": "code",
      "execution_count": null,
      "metadata": {
        "id": "1zFhPYoXUiRY"
      },
      "outputs": [],
      "source": [
        "np.save(os.path.join(os.getcwd(),'gg'),nn)"
      ],
      "id": "1zFhPYoXUiRY"
    },
    {
      "cell_type": "code",
      "execution_count": null,
      "metadata": {
        "colab": {
          "base_uri": "https://localhost:8080/",
          "height": 303
        },
        "id": "FUfpdifJMVr9",
        "outputId": "1cd4d414-9a16-49c6-fe81-f1426ef748a4"
      },
      "outputs": [
        {
          "name": "stderr",
          "output_type": "stream",
          "text": [
            "Clipping input data to the valid range for imshow with RGB data ([0..1] for floats or [0..255] for integers).\n"
          ]
        },
        {
          "data": {
            "text/plain": [
              "<matplotlib.image.AxesImage at 0x7fb882c28190>"
            ]
          },
          "execution_count": 61,
          "metadata": {},
          "output_type": "execute_result"
        },
        {
          "data": {
            "image/png": "[encoded data removed]",
            "text/plain": [
              "<Figure size 432x288 with 1 Axes>"
            ]
          },
          "metadata": {},
          "output_type": "display_data"
        }
      ],
      "source": [
        "plt.imshow(images[10])"
      ],
      "id": "FUfpdifJMVr9"
    },
    {
      "cell_type": "code",
      "execution_count": null,
      "metadata": {
        "id": "eMJ5G2nLKjTi"
      },
      "outputs": [],
      "source": [
        "import cv2"
      ],
      "id": "eMJ5G2nLKjTi"
    },
    {
      "cell_type": "code",
      "execution_count": null,
      "metadata": {
        "colab": {
          "base_uri": "https://localhost:8080/",
          "height": 409
        },
        "id": "IYbOvkvCJabv",
        "outputId": "d43b3579-4d4b-4230-9575-88536ca10610"
      },
      "outputs": [
        {
          "ename": "DisabledFunctionError",
          "evalue": "ignored",
          "output_type": "error",
          "traceback": [
            "\u001b[0;31m---------------------------------------------------------------------------\u001b[0m",
            "\u001b[0;31mDisabledFunctionError\u001b[0m                     Traceback (most recent call last)",
            "\u001b[0;32m<ipython-input-63-da444e398881>\u001b[0m in \u001b[0;36m<module>\u001b[0;34m()\u001b[0m\n\u001b[1;32m      1\u001b[0m \u001b[0;32mwhile\u001b[0m \u001b[0;32mTrue\u001b[0m\u001b[0;34m:\u001b[0m\u001b[0;34m\u001b[0m\u001b[0;34m\u001b[0m\u001b[0m\n\u001b[0;32m----> 2\u001b[0;31m     \u001b[0mcv2\u001b[0m\u001b[0;34m.\u001b[0m\u001b[0mimshow\u001b[0m\u001b[0;34m(\u001b[0m\u001b[0mnoise\u001b[0m\u001b[0;34m)\u001b[0m\u001b[0;34m\u001b[0m\u001b[0;34m\u001b[0m\u001b[0m\n\u001b[0m\u001b[1;32m      3\u001b[0m     \u001b[0mcv2\u001b[0m\u001b[0;34m.\u001b[0m\u001b[0mwaitKey\u001b[0m\u001b[0;34m(\u001b[0m\u001b[0;36m0\u001b[0m\u001b[0;34m)\u001b[0m\u001b[0;34m\u001b[0m\u001b[0;34m\u001b[0m\u001b[0m\n\u001b[1;32m      4\u001b[0m     \u001b[0msys\u001b[0m\u001b[0;34m.\u001b[0m\u001b[0mexit\u001b[0m\u001b[0;34m(\u001b[0m\u001b[0;34m)\u001b[0m \u001b[0;31m# to exit from all the processes\u001b[0m\u001b[0;34m\u001b[0m\u001b[0;34m\u001b[0m\u001b[0m\n\u001b[1;32m      5\u001b[0m \u001b[0;34m\u001b[0m\u001b[0m\n",
            "\u001b[0;32m/usr/local/lib/python3.7/dist-packages/google/colab/_import_hooks/_cv2.py\u001b[0m in \u001b[0;36mwrapped\u001b[0;34m(*args, **kwargs)\u001b[0m\n\u001b[1;32m     50\u001b[0m   \u001b[0;32mdef\u001b[0m \u001b[0mwrapped\u001b[0m\u001b[0;34m(\u001b[0m\u001b[0;34m*\u001b[0m\u001b[0margs\u001b[0m\u001b[0;34m,\u001b[0m \u001b[0;34m**\u001b[0m\u001b[0mkwargs\u001b[0m\u001b[0;34m)\u001b[0m\u001b[0;34m:\u001b[0m\u001b[0;34m\u001b[0m\u001b[0;34m\u001b[0m\u001b[0m\n\u001b[1;32m     51\u001b[0m     \u001b[0;32mif\u001b[0m \u001b[0;32mnot\u001b[0m \u001b[0mos\u001b[0m\u001b[0;34m.\u001b[0m\u001b[0menviron\u001b[0m\u001b[0;34m.\u001b[0m\u001b[0mget\u001b[0m\u001b[0;34m(\u001b[0m\u001b[0menv_var\u001b[0m\u001b[0;34m,\u001b[0m \u001b[0;32mFalse\u001b[0m\u001b[0;34m)\u001b[0m\u001b[0;34m:\u001b[0m\u001b[0;34m\u001b[0m\u001b[0;34m\u001b[0m\u001b[0m\n\u001b[0;32m---> 52\u001b[0;31m       \u001b[0;32mraise\u001b[0m \u001b[0mDisabledFunctionError\u001b[0m\u001b[0;34m(\u001b[0m\u001b[0mmessage\u001b[0m\u001b[0;34m,\u001b[0m \u001b[0mname\u001b[0m \u001b[0;32mor\u001b[0m \u001b[0mfunc\u001b[0m\u001b[0;34m.\u001b[0m\u001b[0m__name__\u001b[0m\u001b[0;34m)\u001b[0m\u001b[0;34m\u001b[0m\u001b[0;34m\u001b[0m\u001b[0m\n\u001b[0m\u001b[1;32m     53\u001b[0m     \u001b[0;32mreturn\u001b[0m \u001b[0mfunc\u001b[0m\u001b[0;34m(\u001b[0m\u001b[0;34m*\u001b[0m\u001b[0margs\u001b[0m\u001b[0;34m,\u001b[0m \u001b[0;34m**\u001b[0m\u001b[0mkwargs\u001b[0m\u001b[0;34m)\u001b[0m\u001b[0;34m\u001b[0m\u001b[0;34m\u001b[0m\u001b[0m\n\u001b[1;32m     54\u001b[0m \u001b[0;34m\u001b[0m\u001b[0m\n",
            "\u001b[0;31mDisabledFunctionError\u001b[0m: cv2.imshow() is disabled in Colab, because it causes Jupyter sessions\nto crash; see https://github.com/jupyter/notebook/issues/3935.\nAs a substitution, consider using\n  from google.colab.patches import cv2_imshow\n"
          ]
        }
      ],
      "source": [
        "while True:\n",
        "    cv2.imshow(noise)\n",
        "    cv2.waitKey(0)\n",
        "    sys.exit() # to exit from all the processes\n",
        " \n",
        "cv2.destroyAllWindows() # destroy all windows"
      ],
      "id": "IYbOvkvCJabv"
    },
    {
      "cell_type": "code",
      "execution_count": null,
      "metadata": {
        "id": "qGHoHcpqJuGy"
      },
      "outputs": [],
      "source": [
        ""
      ],
      "id": "qGHoHcpqJuGy"
    }
  ],
  "metadata": {
    "accelerator": "GPU",
    "colab": {
      "name": "ArtGeneration_GAN.ipynb",
      "provenance": [],
      "include_colab_link": true
    },
    "kernelspec": {
      "display_name": "Python 3",
      "language": "python",
      "name": "python3"
    },
    "language_info": {
      "codemirror_mode": {
        "name": "ipython",
        "version": 3
      },
      "file_extension": ".py",
      "mimetype": "text/x-python",
      "name": "python",
      "nbconvert_exporter": "python",
      "pygments_lexer": "ipython3",
      "version": "3.7.10"
    }
  },
  "nbformat": 4,
  "nbformat_minor": 5
}