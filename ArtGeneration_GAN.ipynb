{
  "cells": [
    {
      "cell_type": "markdown",
      "metadata": {
        "id": "view-in-github",
        "colab_type": "text"
      },
      "source": [
        "<a href=\"https://colab.research.google.com/github/aayushdD/Art-generation/blob/master/ArtGeneration_GAN.ipynb\" target=\"_parent\"><img src=\"https://colab.research.google.com/assets/colab-badge.svg\" alt=\"Open In Colab\"/></a>"
      ]
    },
    {
      "cell_type": "code",
      "execution_count": 1,
      "metadata": {
        "id": "f34f2911"
      },
      "outputs": [],
      "source": [
        "import tensorflow as tf\n",
        "from tensorflow import keras\n",
        "import os"
      ],
      "id": "f34f2911"
    },
    {
      "cell_type": "code",
      "execution_count": 1,
      "metadata": {
        "id": "AJd6p-9rPYrB"
      },
      "outputs": [],
      "source": [
        ""
      ],
      "id": "AJd6p-9rPYrB"
    },
    {
      "cell_type": "code",
      "execution_count": 1,
      "metadata": {
        "id": "mEGELIzPNVyN"
      },
      "outputs": [],
      "source": [
        ""
      ],
      "id": "mEGELIzPNVyN"
    },
    {
      "cell_type": "code",
      "execution_count": 2,
      "metadata": {
        "id": "LegWVJOkNOrF"
      },
      "outputs": [],
      "source": [
        "from google.colab import drive\n",
        "\n"
      ],
      "id": "LegWVJOkNOrF"
    },
    {
      "cell_type": "code",
      "execution_count": 3,
      "metadata": {
        "colab": {
          "base_uri": "https://localhost:8080/"
        },
        "id": "Mx1RQAMoNnsq",
        "outputId": "bf8cf1b1-a285-44d2-fc05-03552aff5bec"
      },
      "outputs": [
        {
          "output_type": "stream",
          "name": "stdout",
          "text": [
            "Mounted at /content/drive\n"
          ]
        }
      ],
      "source": [
        "drive.mount('/content/drive')"
      ],
      "id": "Mx1RQAMoNnsq"
    },
    {
      "cell_type": "code",
      "execution_count": 4,
      "metadata": {
        "id": "de38262b"
      },
      "outputs": [],
      "source": [
        "from PIL import Image\n",
        "import glob\n",
        "import cv2"
      ],
      "id": "de38262b"
    },
    {
      "cell_type": "code",
      "execution_count": 5,
      "metadata": {
        "id": "0da859bf"
      },
      "outputs": [],
      "source": [
        "image_list=[]"
      ],
      "id": "0da859bf"
    },
    {
      "cell_type": "code",
      "execution_count": 6,
      "metadata": {
        "colab": {
          "base_uri": "https://localhost:8080/"
        },
        "id": "8bcc867b",
        "outputId": "f21bce24-0d48-404b-f3a9-551a1706d004"
      },
      "outputs": [
        {
          "output_type": "stream",
          "name": "stdout",
          "text": [
            "/content\n",
            "['.config', 'drive', 'sample_data']\n"
          ]
        }
      ],
      "source": [
        "print(os.getcwd())\n",
        "print(os.listdir())"
      ],
      "id": "8bcc867b"
    },
    {
      "cell_type": "code",
      "execution_count": null,
      "metadata": {
        "id": "wJfHha-ljYsD"
      },
      "outputs": [],
      "source": [
        ""
      ],
      "id": "wJfHha-ljYsD"
    },
    {
      "cell_type": "code",
      "execution_count": null,
      "metadata": {
        "colab": {
          "base_uri": "https://localhost:8080/"
        },
        "id": "Vtp8NeUcjj6R",
        "outputId": "0b693bbe-d125-4dc5-cfad-f7e70bfb4384"
      },
      "outputs": [
        {
          "output_type": "execute_result",
          "data": {
            "text/plain": [
              "['.config', 'drive', 'sample_data']"
            ]
          },
          "metadata": {},
          "execution_count": 8
        }
      ],
      "source": [
        "os.listdir()"
      ],
      "id": "Vtp8NeUcjj6R"
    },
    {
      "cell_type": "code",
      "execution_count": null,
      "metadata": {
        "id": "80cd0a9b"
      },
      "outputs": [],
      "source": [
        "ll=os.walk(os.path.join(os.getcwd(),'drive\\resized\\resized'))"
      ],
      "id": "80cd0a9b"
    },
    {
      "cell_type": "code",
      "execution_count": null,
      "metadata": {
        "id": "2lzZrFRBjNQr"
      },
      "outputs": [],
      "source": [
        ""
      ],
      "id": "2lzZrFRBjNQr"
    },
    {
      "cell_type": "code",
      "execution_count": 7,
      "metadata": {
        "id": "Ww0EHPjGjEcm"
      },
      "outputs": [],
      "source": [
        "import numpy as np"
      ],
      "id": "Ww0EHPjGjEcm"
    },
    {
      "cell_type": "code",
      "execution_count": null,
      "metadata": {
        "id": "41d7599a"
      },
      "outputs": [],
      "source": [
        "for i , j , k in ll:\n",
        "    path=i.split(os.sep)\n",
        "    print(path)"
      ],
      "id": "41d7599a"
    },
    {
      "cell_type": "code",
      "execution_count": null,
      "metadata": {
        "id": "0f0df959"
      },
      "outputs": [],
      "source": [
        "images=[]\n",
        "for i , j , k in os.walk(os.path.join(os.getcwd(),'drive/MyDrive/resized/resized')):\n",
        "    image_list=os.listdir(i)\n",
        "    for image in image_list:\n",
        "        instance=cv2.imread(os.path.join(i,image))\n",
        "        instance=cv2.cvtColor(instance, cv2.COLOR_BGR2RGB)\n",
        "        ins=cv2.resize(instance,(64,64)).astype('float32')\n",
        "        ins=(ins-127.5)/127.5\n",
        "        images.append(ins)\n",
        "\n",
        "images=np.array(images)\n",
        "    \n",
        "    "
      ],
      "id": "0f0df959"
    },
    {
      "cell_type": "code",
      "source": [
        ""
      ],
      "metadata": {
        "id": "NvPz70UtczPO",
        "colab": {
          "base_uri": "https://localhost:8080/",
          "height": 35
        },
        "outputId": "ce71e6d8-ff88-4929-9db9-7b3f163f0ac8"
      },
      "id": "NvPz70UtczPO",
      "execution_count": null,
      "outputs": [
        {
          "output_type": "execute_result",
          "data": {
            "text/plain": [
              "'/content'"
            ],
            "application/vnd.google.colaboratory.intrinsic+json": {
              "type": "string"
            }
          },
          "metadata": {},
          "execution_count": 10
        }
      ]
    },
    {
      "cell_type": "code",
      "execution_count": null,
      "metadata": {
        "colab": {
          "base_uri": "https://localhost:8080/"
        },
        "id": "ARGr-wGCjLDf",
        "outputId": "e09f9dc6-48a9-4ad0-c49d-d70fa6e306fe"
      },
      "outputs": [
        {
          "output_type": "execute_result",
          "data": {
            "text/plain": [
              "(8683, 64, 64, 3)"
            ]
          },
          "metadata": {},
          "execution_count": 8
        }
      ],
      "source": [
        "images.shape"
      ],
      "id": "ARGr-wGCjLDf"
    },
    {
      "cell_type": "code",
      "source": [
        "np.save(os.path.join(os.getcwd(),'drive/MyDrive/art_gen_training_64'),images)"
      ],
      "metadata": {
        "id": "CiC3Kka1UI0F"
      },
      "id": "CiC3Kka1UI0F",
      "execution_count": null,
      "outputs": []
    },
    {
      "cell_type": "code",
      "source": [
        "images=np.load('drive/MyDrive/art_gen_training_64.npy')\n",
        "print(images.shape)"
      ],
      "metadata": {
        "colab": {
          "base_uri": "https://localhost:8080/"
        },
        "id": "O8P9jc2PdUqZ",
        "outputId": "79719aea-949b-43eb-9246-255a55912aa5"
      },
      "id": "O8P9jc2PdUqZ",
      "execution_count": 8,
      "outputs": [
        {
          "output_type": "stream",
          "name": "stdout",
          "text": [
            "(8683, 64, 64, 3)\n"
          ]
        }
      ]
    },
    {
      "cell_type": "code",
      "execution_count": 9,
      "metadata": {
        "id": "25fa083e"
      },
      "outputs": [],
      "source": [
        "import numpy as np\n",
        "import matplotlib.pyplot as plt "
      ],
      "id": "25fa083e"
    },
    {
      "cell_type": "code",
      "execution_count": 10,
      "metadata": {
        "colab": {
          "base_uri": "https://localhost:8080/"
        },
        "id": "fd5dd2c9",
        "outputId": "1abdbcc6-94ec-464d-a440-3448a8a13fca"
      },
      "outputs": [
        {
          "output_type": "execute_result",
          "data": {
            "text/plain": [
              "8683"
            ]
          },
          "metadata": {},
          "execution_count": 10
        }
      ],
      "source": [
        "len(images)"
      ],
      "id": "fd5dd2c9"
    },
    {
      "cell_type": "code",
      "execution_count": 11,
      "metadata": {
        "colab": {
          "base_uri": "https://localhost:8080/"
        },
        "id": "e2344420",
        "outputId": "b9a7b303-56b4-4272-f8fd-6f36d4accf5d"
      },
      "outputs": [
        {
          "output_type": "execute_result",
          "data": {
            "text/plain": [
              "(64, 64, 3)"
            ]
          },
          "metadata": {},
          "execution_count": 11
        }
      ],
      "source": [
        "images[0].shape"
      ],
      "id": "e2344420"
    },
    {
      "cell_type": "code",
      "source": [
        "images[0]*127.5+127.5"
      ],
      "metadata": {
        "colab": {
          "base_uri": "https://localhost:8080/"
        },
        "id": "XC-NsRYKYMPm",
        "outputId": "99bd6c83-8fc1-4ec6-ea94-2bf04673d560"
      },
      "id": "XC-NsRYKYMPm",
      "execution_count": 12,
      "outputs": [
        {
          "output_type": "execute_result",
          "data": {
            "text/plain": [
              "array([[[58., 44., 36.],\n",
              "        [52., 35., 25.],\n",
              "        [53., 41., 33.],\n",
              "        ...,\n",
              "        [15., 21., 35.],\n",
              "        [ 9., 18., 37.],\n",
              "        [ 6., 12., 24.]],\n",
              "\n",
              "       [[43., 29., 20.],\n",
              "        [45., 31., 22.],\n",
              "        [43., 29., 20.],\n",
              "        ...,\n",
              "        [ 7., 18., 35.],\n",
              "        [10., 21., 41.],\n",
              "        [ 9., 24., 43.]],\n",
              "\n",
              "       [[44., 31., 22.],\n",
              "        [41., 28., 19.],\n",
              "        [43., 29., 20.],\n",
              "        ...,\n",
              "        [13., 21., 42.],\n",
              "        [13., 29., 45.],\n",
              "        [13., 30., 48.]],\n",
              "\n",
              "       ...,\n",
              "\n",
              "       [[27., 14.,  8.],\n",
              "        [45., 32., 23.],\n",
              "        [49., 35., 26.],\n",
              "        ...,\n",
              "        [34., 19., 12.],\n",
              "        [22.,  9.,  1.],\n",
              "        [13.,  5.,  2.]],\n",
              "\n",
              "       [[23., 10.,  1.],\n",
              "        [41., 25., 18.],\n",
              "        [43., 30., 20.],\n",
              "        ...,\n",
              "        [41., 26., 19.],\n",
              "        [41., 26., 19.],\n",
              "        [17.,  8.,  6.]],\n",
              "\n",
              "       [[45., 32., 23.],\n",
              "        [47., 30., 23.],\n",
              "        [51., 37., 28.],\n",
              "        ...,\n",
              "        [36., 25., 16.],\n",
              "        [21.,  9.,  4.],\n",
              "        [11.,  6.,  4.]]], dtype=float32)"
            ]
          },
          "metadata": {},
          "execution_count": 12
        }
      ]
    },
    {
      "cell_type": "code",
      "source": [
        "plt.imshow((images[0]*127.5+127.5).astype(np.int32))"
      ],
      "metadata": {
        "colab": {
          "base_uri": "https://localhost:8080/",
          "height": 285
        },
        "id": "eSznW-QJXF6E",
        "outputId": "4027f1f7-d600-407b-9d6f-eee94ebd4c76"
      },
      "id": "eSznW-QJXF6E",
      "execution_count": 13,
      "outputs": [
        {
          "output_type": "execute_result",
          "data": {
            "text/plain": [
              "<matplotlib.image.AxesImage at 0x7f81b031fb50>"
            ]
          },
          "metadata": {},
          "execution_count": 13
        },
        {
          "output_type": "display_data",
          "data": {
            "text/plain": [
              "<Figure size 432x288 with 1 Axes>"
            ],
            "image/png": "[encoded data removed]"
          },
          "metadata": {
            "needs_background": "light"
          }
        }
      ]
    },
    {
      "cell_type": "code",
      "execution_count": null,
      "metadata": {
        "id": "cf7b883f"
      },
      "outputs": [],
      "source": [
        "discriminator=keras.models.Sequential([\n",
        "    keras.layers.Conv2D(64, kernel_size=4,strides=2, padding='same', input_shape=[64,64,3]),\n",
        "    keras.layers.BatchNormalization(),\n",
        "    keras.layers.LeakyReLU(),\n",
        "    \n",
        "    keras.layers.Conv2D(128,kernel_size=4,strides=2,padding='same'),\n",
        "    keras.layers.BatchNormalization(),\n",
        "    keras.layers.LeakyReLU(),\n",
        "    \n",
        "    keras.layers.Conv2D(256,kernel_size=4,strides=2,padding='same'),\n",
        "    keras.layers.BatchNormalization(),\n",
        "    keras.layers.LeakyReLU(),\n",
        "    \n",
        "    keras.layers.Conv2D(512,kernel_size=4,strides=2,padding='same'),\n",
        "    keras.layers.BatchNormalization(),\n",
        "    keras.layers.LeakyReLU(),\n",
        "    \n",
        "    keras.layers.Conv2D(1,kernel_size=1,strides=1,padding='valid',activation='relu'),\n",
        "    keras.layers.Flatten(),\n",
        "    keras.layers.Dense(1,activation='sigmoid')\n",
        "   \n",
        "])"
      ],
      "id": "cf7b883f"
    },
    {
      "cell_type": "code",
      "source": [
        "from tensorflow.keras.layers import Input, Reshape, Dropout, Dense \n",
        "from tensorflow.keras.layers import Flatten, BatchNormalization\n",
        "from tensorflow.keras.layers import Activation, ZeroPadding2D\n",
        "from tensorflow.keras.layers import LeakyReLU\n",
        "from tensorflow.keras.layers import UpSampling2D, Conv2D\n",
        "from tensorflow.keras.models import Sequential, Model, load_model"
      ],
      "metadata": {
        "id": "McYAC8fRd0xG"
      },
      "id": "McYAC8fRd0xG",
      "execution_count": 14,
      "outputs": []
    },
    {
      "cell_type": "code",
      "source": [
        "def build_discriminator(image_shape):\n",
        "    model = Sequential()\n",
        "\n",
        "    model.add(Conv2D(32, kernel_size=3, strides=2, input_shape=image_shape, \n",
        "                     padding=\"same\"))\n",
        "    model.add(LeakyReLU(alpha=0.2))\n",
        "\n",
        "    model.add(Dropout(0.25))\n",
        "    model.add(Conv2D(64, kernel_size=3, strides=2, padding=\"same\"))\n",
        "    model.add(ZeroPadding2D(padding=((0,1),(0,1))))\n",
        "    model.add(BatchNormalization(momentum=0.8))\n",
        "    model.add(LeakyReLU(alpha=0.2))\n",
        "\n",
        "    model.add(Dropout(0.25))\n",
        "    model.add(Conv2D(128, kernel_size=3, strides=2, padding=\"same\"))\n",
        "    model.add(BatchNormalization(momentum=0.8))\n",
        "    model.add(LeakyReLU(alpha=0.2))\n",
        "\n",
        "    model.add(Dropout(0.25))\n",
        "    model.add(Conv2D(256, kernel_size=3, strides=1, padding=\"same\"))\n",
        "    model.add(BatchNormalization(momentum=0.8))\n",
        "    model.add(LeakyReLU(alpha=0.2))\n",
        "\n",
        "    model.add(Dropout(0.25))\n",
        "    model.add(Conv2D(512, kernel_size=3, strides=1, padding=\"same\"))\n",
        "    model.add(BatchNormalization(momentum=0.8))\n",
        "    model.add(LeakyReLU(alpha=0.2))\n",
        "\n",
        "    model.add(Dropout(0.25))\n",
        "    model.add(Flatten())\n",
        "    model.add(Dense(1, activation='sigmoid'))\n",
        "\n",
        "    return model"
      ],
      "metadata": {
        "id": "aI31s-mHiKDG"
      },
      "id": "aI31s-mHiKDG",
      "execution_count": 15,
      "outputs": []
    },
    {
      "cell_type": "code",
      "source": [
        "image_shape=[64,64,3]"
      ],
      "metadata": {
        "id": "zo3HL-4hiMI3"
      },
      "id": "zo3HL-4hiMI3",
      "execution_count": 16,
      "outputs": []
    },
    {
      "cell_type": "code",
      "source": [
        "discriminator=build_discriminator(image_shape)"
      ],
      "metadata": {
        "id": "1_f_2lUriaCr"
      },
      "id": "1_f_2lUriaCr",
      "execution_count": 17,
      "outputs": []
    },
    {
      "cell_type": "code",
      "execution_count": 18,
      "metadata": {
        "colab": {
          "base_uri": "https://localhost:8080/"
        },
        "id": "db6c6817",
        "outputId": "3f595029-8523-4088-bde2-41f797bf8b41",
        "scrolled": true
      },
      "outputs": [
        {
          "output_type": "stream",
          "name": "stdout",
          "text": [
            "Model: \"sequential\"\n",
            "_________________________________________________________________\n",
            " Layer (type)                Output Shape              Param #   \n",
            "=================================================================\n",
            " conv2d (Conv2D)             (None, 32, 32, 32)        896       \n",
            "                                                                 \n",
            " leaky_re_lu (LeakyReLU)     (None, 32, 32, 32)        0         \n",
            "                                                                 \n",
            " dropout (Dropout)           (None, 32, 32, 32)        0         \n",
            "                                                                 \n",
            " conv2d_1 (Conv2D)           (None, 16, 16, 64)        18496     \n",
            "                                                                 \n",
            " zero_padding2d (ZeroPadding  (None, 17, 17, 64)       0         \n",
            " 2D)                                                             \n",
            "                                                                 \n",
            " batch_normalization (BatchN  (None, 17, 17, 64)       256       \n",
            " ormalization)                                                   \n",
            "                                                                 \n",
            " leaky_re_lu_1 (LeakyReLU)   (None, 17, 17, 64)        0         \n",
            "                                                                 \n",
            " dropout_1 (Dropout)         (None, 17, 17, 64)        0         \n",
            "                                                                 \n",
            " conv2d_2 (Conv2D)           (None, 9, 9, 128)         73856     \n",
            "                                                                 \n",
            " batch_normalization_1 (Batc  (None, 9, 9, 128)        512       \n",
            " hNormalization)                                                 \n",
            "                                                                 \n",
            " leaky_re_lu_2 (LeakyReLU)   (None, 9, 9, 128)         0         \n",
            "                                                                 \n",
            " dropout_2 (Dropout)         (None, 9, 9, 128)         0         \n",
            "                                                                 \n",
            " conv2d_3 (Conv2D)           (None, 9, 9, 256)         295168    \n",
            "                                                                 \n",
            " batch_normalization_2 (Batc  (None, 9, 9, 256)        1024      \n",
            " hNormalization)                                                 \n",
            "                                                                 \n",
            " leaky_re_lu_3 (LeakyReLU)   (None, 9, 9, 256)         0         \n",
            "                                                                 \n",
            " dropout_3 (Dropout)         (None, 9, 9, 256)         0         \n",
            "                                                                 \n",
            " conv2d_4 (Conv2D)           (None, 9, 9, 512)         1180160   \n",
            "                                                                 \n",
            " batch_normalization_3 (Batc  (None, 9, 9, 512)        2048      \n",
            " hNormalization)                                                 \n",
            "                                                                 \n",
            " leaky_re_lu_4 (LeakyReLU)   (None, 9, 9, 512)         0         \n",
            "                                                                 \n",
            " dropout_4 (Dropout)         (None, 9, 9, 512)         0         \n",
            "                                                                 \n",
            " flatten (Flatten)           (None, 41472)             0         \n",
            "                                                                 \n",
            " dense (Dense)               (None, 1)                 41473     \n",
            "                                                                 \n",
            "=================================================================\n",
            "Total params: 1,613,889\n",
            "Trainable params: 1,611,969\n",
            "Non-trainable params: 1,920\n",
            "_________________________________________________________________\n"
          ]
        }
      ],
      "source": [
        "discriminator.summary()"
      ],
      "id": "db6c6817"
    },
    {
      "cell_type": "code",
      "execution_count": 19,
      "metadata": {
        "id": "a46a426a"
      },
      "outputs": [],
      "source": [
        "latent_size=128\n",
        "batch_size=32"
      ],
      "id": "a46a426a"
    },
    {
      "cell_type": "code",
      "source": [
        "\n"
      ],
      "metadata": {
        "id": "Mfp2geCvvCbS"
      },
      "id": "Mfp2geCvvCbS",
      "execution_count": 19,
      "outputs": []
    },
    {
      "cell_type": "code",
      "source": [
        "GENERATE_RES=2\n",
        "seed_size=128"
      ],
      "metadata": {
        "id": "Z_T9HNg6vilP"
      },
      "id": "Z_T9HNg6vilP",
      "execution_count": 20,
      "outputs": []
    },
    {
      "cell_type": "code",
      "source": [
        "def build_generator(seed_size, channels):\n",
        "    model = Sequential()\n",
        "\n",
        "    model.add(Dense(4*4*512,activation=\"relu\",input_dim=seed_size))\n",
        "    model.add(Reshape((4,4,512)))\n",
        "\n",
        "    model.add(UpSampling2D())\n",
        "    model.add(Conv2D(512,kernel_size=3,padding=\"same\"))\n",
        "    model.add(BatchNormalization(momentum=0.8))\n",
        "    model.add(Activation(\"relu\"))\n",
        "\n",
        "    model.add(UpSampling2D())\n",
        "    model.add(Conv2D(256,kernel_size=3,padding=\"same\"))\n",
        "    model.add(BatchNormalization(momentum=0.8))\n",
        "    model.add(Activation(\"relu\"))\n",
        "   \n",
        "    # Output resolution, additional upsampling\n",
        "    model.add(UpSampling2D())\n",
        "    model.add(Conv2D(128,kernel_size=3,padding=\"same\"))\n",
        "    model.add(BatchNormalization(momentum=0.8))\n",
        "    model.add(Activation(\"relu\"))\n",
        "\n",
        "    if GENERATE_RES>1:\n",
        "      model.add(UpSampling2D(size=(GENERATE_RES,GENERATE_RES)))\n",
        "      model.add(Conv2D(64,kernel_size=3,padding=\"same\"))\n",
        "      model.add(BatchNormalization(momentum=0.8))\n",
        "      model.add(Activation(\"relu\"))\n",
        "\n",
        "    #   model.add(UpSampling2D(size=(GENERATE_RES,GENERATE_RES)))\n",
        "    #   model.add(Conv2D(64,kernel_size=3,padding=\"same\"))\n",
        "    #   model.add(BatchNormalization(momentum=0.8))\n",
        "    #   model.add(Activation(\"relu\"))\n",
        "\n",
        "\n",
        "    # Final CNN layer\n",
        "    model.add(Conv2D(channels,kernel_size=3,padding=\"same\"))\n",
        "    model.add(Activation(\"tanh\"))\n",
        "\n",
        "    return model"
      ],
      "metadata": {
        "id": "kFoD_uC-u-iz"
      },
      "id": "kFoD_uC-u-iz",
      "execution_count": 21,
      "outputs": []
    },
    {
      "cell_type": "code",
      "source": [
        "generator=build_generator(seed_size,3)"
      ],
      "metadata": {
        "id": "ycXnugO3u_-7"
      },
      "id": "ycXnugO3u_-7",
      "execution_count": 22,
      "outputs": []
    },
    {
      "cell_type": "code",
      "source": [
        "from keras import layers"
      ],
      "metadata": {
        "id": "GsZEaP66Y48c"
      },
      "id": "GsZEaP66Y48c",
      "execution_count": 23,
      "outputs": []
    },
    {
      "cell_type": "code",
      "execution_count": 24,
      "metadata": {
        "colab": {
          "base_uri": "https://localhost:8080/"
        },
        "id": "aa85150f",
        "outputId": "458d207c-5467-4286-e29d-28ae51a62634",
        "scrolled": true
      },
      "outputs": [
        {
          "output_type": "stream",
          "name": "stdout",
          "text": [
            "Model: \"sequential_1\"\n",
            "_________________________________________________________________\n",
            " Layer (type)                Output Shape              Param #   \n",
            "=================================================================\n",
            " dense_1 (Dense)             (None, 8192)              1056768   \n",
            "                                                                 \n",
            " reshape (Reshape)           (None, 4, 4, 512)         0         \n",
            "                                                                 \n",
            " up_sampling2d (UpSampling2D  (None, 8, 8, 512)        0         \n",
            " )                                                               \n",
            "                                                                 \n",
            " conv2d_5 (Conv2D)           (None, 8, 8, 512)         2359808   \n",
            "                                                                 \n",
            " batch_normalization_4 (Batc  (None, 8, 8, 512)        2048      \n",
            " hNormalization)                                                 \n",
            "                                                                 \n",
            " activation (Activation)     (None, 8, 8, 512)         0         \n",
            "                                                                 \n",
            " up_sampling2d_1 (UpSampling  (None, 16, 16, 512)      0         \n",
            " 2D)                                                             \n",
            "                                                                 \n",
            " conv2d_6 (Conv2D)           (None, 16, 16, 256)       1179904   \n",
            "                                                                 \n",
            " batch_normalization_5 (Batc  (None, 16, 16, 256)      1024      \n",
            " hNormalization)                                                 \n",
            "                                                                 \n",
            " activation_1 (Activation)   (None, 16, 16, 256)       0         \n",
            "                                                                 \n",
            " up_sampling2d_2 (UpSampling  (None, 32, 32, 256)      0         \n",
            " 2D)                                                             \n",
            "                                                                 \n",
            " conv2d_7 (Conv2D)           (None, 32, 32, 128)       295040    \n",
            "                                                                 \n",
            " batch_normalization_6 (Batc  (None, 32, 32, 128)      512       \n",
            " hNormalization)                                                 \n",
            "                                                                 \n",
            " activation_2 (Activation)   (None, 32, 32, 128)       0         \n",
            "                                                                 \n",
            " up_sampling2d_3 (UpSampling  (None, 64, 64, 128)      0         \n",
            " 2D)                                                             \n",
            "                                                                 \n",
            " conv2d_8 (Conv2D)           (None, 64, 64, 64)        73792     \n",
            "                                                                 \n",
            " batch_normalization_7 (Batc  (None, 64, 64, 64)       256       \n",
            " hNormalization)                                                 \n",
            "                                                                 \n",
            " activation_3 (Activation)   (None, 64, 64, 64)        0         \n",
            "                                                                 \n",
            " conv2d_9 (Conv2D)           (None, 64, 64, 3)         1731      \n",
            "                                                                 \n",
            " activation_4 (Activation)   (None, 64, 64, 3)         0         \n",
            "                                                                 \n",
            "=================================================================\n",
            "Total params: 4,970,883\n",
            "Trainable params: 4,968,963\n",
            "Non-trainable params: 1,920\n",
            "_________________________________________________________________\n"
          ]
        }
      ],
      "source": [
        "generator.summary()"
      ],
      "id": "aa85150f"
    },
    {
      "cell_type": "code",
      "execution_count": 25,
      "metadata": {
        "id": "61b31e78"
      },
      "outputs": [],
      "source": [
        "cross_entropy=keras.losses.BinaryCrossentropy()"
      ],
      "id": "61b31e78"
    },
    {
      "cell_type": "code",
      "execution_count": 26,
      "metadata": {
        "id": "7cfceb9d"
      },
      "outputs": [],
      "source": [
        "def discriminator_loss(real_output,fake_output):\n",
        "    real_loss=cross_entropy(tf.ones_like(real_output),real_output)\n",
        "    fake_loss=cross_entropy(tf.zeros_like(fake_output),fake_output)\n",
        "    total_loss=real_loss+fake_loss\n",
        "    return total_loss\n",
        "\n",
        "    "
      ],
      "id": "7cfceb9d"
    },
    {
      "cell_type": "code",
      "execution_count": 27,
      "metadata": {
        "id": "534e9438"
      },
      "outputs": [],
      "source": [
        "def generator_loss(fake_output):\n",
        "    gen_loss=cross_entropy(tf.ones_like(fake_output),fake_output)\n",
        "    return gen_loss"
      ],
      "id": "534e9438"
    },
    {
      "cell_type": "code",
      "execution_count": 28,
      "metadata": {
        "id": "7dfe6ae8"
      },
      "outputs": [],
      "source": [
        "gen_opt=keras.optimizers.Adam( 1.5e-4,0.5)\n",
        "dis_opt=keras.optimizers.Adam(1.5e-4,0.5)\n",
        "batch_size=32"
      ],
      "id": "7dfe6ae8"
    },
    {
      "cell_type": "code",
      "execution_count": 29,
      "metadata": {
        "id": "b3cddae6"
      },
      "outputs": [],
      "source": [
        "@tf.function\n",
        "def train_step(images):\n",
        "    noise=tf.random.normal([batch_size,seed_size])\n",
        "    \n",
        "    with tf.GradientTape() as gen_tape , tf.GradientTape() as dis_tape:\n",
        "        gen_images=generator(noise,training=True)\n",
        "        \n",
        "        real_output=discriminator(images,training=True)\n",
        "        fake_output=discriminator(gen_images,training=True)\n",
        "        \n",
        "        gen_loss=generator_loss(fake_output)\n",
        "        dis_loss=discriminator_loss(real_output,fake_output)\n",
        "        \n",
        "    gen_gradients=gen_tape.gradient(gen_loss,generator.trainable_variables)\n",
        "    dis_gradients=dis_tape.gradient(dis_loss,discriminator.trainable_variables)\n",
        "    \n",
        "    gen_opt.apply_gradients(zip(gen_gradients,generator.trainable_variables))\n",
        "    dis_opt.apply_gradients(zip(dis_gradients,discriminator.trainable_variables))\n",
        "    \n",
        "    return gen_loss, dis_loss,gen_images[0]"
      ],
      "id": "b3cddae6"
    },
    {
      "cell_type": "code",
      "execution_count": 30,
      "metadata": {
        "id": "1f53e100"
      },
      "outputs": [],
      "source": [
        "import time\n",
        "from IPython import display"
      ],
      "id": "1f53e100"
    },
    {
      "cell_type": "code",
      "execution_count": 31,
      "metadata": {
        "id": "2b0966af"
      },
      "outputs": [],
      "source": [
        "def train_tot(dataset,epochs):\n",
        "  for epoch in range(epochs):\n",
        "    start=time.time()      \n",
        "    for image_batch in dataset:\n",
        "      gen_loss,dis_loss,gen_img=train_step(image_batch)    \n",
        "    print(gen_loss,dis_loss)\n",
        "  return gen_img\n",
        "    "
      ],
      "id": "2b0966af"
    },
    {
      "cell_type": "code",
      "execution_count": 32,
      "metadata": {
        "id": "57498f26"
      },
      "outputs": [],
      "source": [
        "\n",
        "buffer=600"
      ],
      "id": "57498f26"
    },
    {
      "cell_type": "code",
      "execution_count": 33,
      "metadata": {
        "id": "dbf2f4ce"
      },
      "outputs": [],
      "source": [
        "dataset=tf.data.Dataset.from_tensor_slices(images).shuffle(buffer).batch(batch_size)\n"
      ],
      "id": "dbf2f4ce"
    },
    {
      "cell_type": "code",
      "execution_count": null,
      "metadata": {
        "id": "083ebf3d"
      },
      "outputs": [],
      "source": [
        "for element in dataset.take(1):\n",
        "    print(element)"
      ],
      "id": "083ebf3d"
    },
    {
      "cell_type": "code",
      "execution_count": 64,
      "metadata": {
        "colab": {
          "base_uri": "https://localhost:8080/"
        },
        "id": "ccfa5253",
        "outputId": "9847b9e9-fc98-4958-f4d2-e86e3a8babdc"
      },
      "outputs": [
        {
          "output_type": "stream",
          "name": "stdout",
          "text": [
            "tf.Tensor(2.4046474, shape=(), dtype=float32) tf.Tensor(0.26478636, shape=(), dtype=float32)\n",
            "tf.Tensor(0.7986134, shape=(), dtype=float32) tf.Tensor(1.1725622, shape=(), dtype=float32)\n",
            "tf.Tensor(4.739111, shape=(), dtype=float32) tf.Tensor(0.31200954, shape=(), dtype=float32)\n",
            "tf.Tensor(3.1543846, shape=(), dtype=float32) tf.Tensor(0.14219148, shape=(), dtype=float32)\n",
            "tf.Tensor(4.4618015, shape=(), dtype=float32) tf.Tensor(1.8545171, shape=(), dtype=float32)\n",
            "tf.Tensor(1.627915, shape=(), dtype=float32) tf.Tensor(0.7669693, shape=(), dtype=float32)\n",
            "tf.Tensor(2.9125938, shape=(), dtype=float32) tf.Tensor(0.3683393, shape=(), dtype=float32)\n",
            "tf.Tensor(1.0899124, shape=(), dtype=float32) tf.Tensor(1.4287148, shape=(), dtype=float32)\n",
            "tf.Tensor(1.3629357, shape=(), dtype=float32) tf.Tensor(1.243778, shape=(), dtype=float32)\n",
            "tf.Tensor(1.488967, shape=(), dtype=float32) tf.Tensor(0.82701784, shape=(), dtype=float32)\n",
            "tf.Tensor(3.5713365, shape=(), dtype=float32) tf.Tensor(0.8273337, shape=(), dtype=float32)\n",
            "tf.Tensor(1.6828392, shape=(), dtype=float32) tf.Tensor(0.43960646, shape=(), dtype=float32)\n",
            "tf.Tensor(2.1327302, shape=(), dtype=float32) tf.Tensor(2.4892313, shape=(), dtype=float32)\n",
            "tf.Tensor(1.2266483, shape=(), dtype=float32) tf.Tensor(0.80569243, shape=(), dtype=float32)\n",
            "tf.Tensor(1.2558026, shape=(), dtype=float32) tf.Tensor(3.8931491, shape=(), dtype=float32)\n",
            "tf.Tensor(3.3637094, shape=(), dtype=float32) tf.Tensor(4.7692313, shape=(), dtype=float32)\n",
            "tf.Tensor(2.716146, shape=(), dtype=float32) tf.Tensor(0.42043203, shape=(), dtype=float32)\n",
            "tf.Tensor(1.9228854, shape=(), dtype=float32) tf.Tensor(2.395854, shape=(), dtype=float32)\n",
            "tf.Tensor(0.44632074, shape=(), dtype=float32) tf.Tensor(2.9313562, shape=(), dtype=float32)\n",
            "tf.Tensor(2.1854336, shape=(), dtype=float32) tf.Tensor(1.060501, shape=(), dtype=float32)\n",
            "tf.Tensor(3.7302763, shape=(), dtype=float32) tf.Tensor(0.4661014, shape=(), dtype=float32)\n",
            "tf.Tensor(0.9938288, shape=(), dtype=float32) tf.Tensor(1.6087403, shape=(), dtype=float32)\n",
            "tf.Tensor(5.1058087, shape=(), dtype=float32) tf.Tensor(3.5539527, shape=(), dtype=float32)\n",
            "tf.Tensor(0.53608274, shape=(), dtype=float32) tf.Tensor(2.3472931, shape=(), dtype=float32)\n",
            "tf.Tensor(3.7289872, shape=(), dtype=float32) tf.Tensor(0.25340587, shape=(), dtype=float32)\n",
            "tf.Tensor(2.3539882, shape=(), dtype=float32) tf.Tensor(0.5609381, shape=(), dtype=float32)\n",
            "tf.Tensor(2.2239654, shape=(), dtype=float32) tf.Tensor(2.2319095, shape=(), dtype=float32)\n",
            "tf.Tensor(4.5328345, shape=(), dtype=float32) tf.Tensor(2.6950824, shape=(), dtype=float32)\n",
            "tf.Tensor(1.8000307, shape=(), dtype=float32) tf.Tensor(4.3626842, shape=(), dtype=float32)\n",
            "tf.Tensor(2.9572887, shape=(), dtype=float32) tf.Tensor(0.70865846, shape=(), dtype=float32)\n",
            "tf.Tensor(5.9369483, shape=(), dtype=float32) tf.Tensor(0.63235486, shape=(), dtype=float32)\n",
            "tf.Tensor(0.790974, shape=(), dtype=float32) tf.Tensor(1.0220938, shape=(), dtype=float32)\n",
            "tf.Tensor(1.9711514, shape=(), dtype=float32) tf.Tensor(1.1547272, shape=(), dtype=float32)\n",
            "tf.Tensor(1.8153243, shape=(), dtype=float32) tf.Tensor(0.8991363, shape=(), dtype=float32)\n",
            "tf.Tensor(3.0020642, shape=(), dtype=float32) tf.Tensor(0.12007071, shape=(), dtype=float32)\n",
            "tf.Tensor(1.8814749, shape=(), dtype=float32) tf.Tensor(4.757084, shape=(), dtype=float32)\n",
            "tf.Tensor(1.4423354, shape=(), dtype=float32) tf.Tensor(0.6446355, shape=(), dtype=float32)\n",
            "tf.Tensor(3.1660275, shape=(), dtype=float32) tf.Tensor(0.18324268, shape=(), dtype=float32)\n",
            "tf.Tensor(3.3659601, shape=(), dtype=float32) tf.Tensor(0.19652008, shape=(), dtype=float32)\n",
            "tf.Tensor(4.3760266, shape=(), dtype=float32) tf.Tensor(0.6310063, shape=(), dtype=float32)\n",
            "tf.Tensor(4.319066, shape=(), dtype=float32) tf.Tensor(0.6014459, shape=(), dtype=float32)\n",
            "tf.Tensor(5.159871, shape=(), dtype=float32) tf.Tensor(0.8110205, shape=(), dtype=float32)\n",
            "tf.Tensor(2.9396996, shape=(), dtype=float32) tf.Tensor(0.8071083, shape=(), dtype=float32)\n",
            "tf.Tensor(2.459218, shape=(), dtype=float32) tf.Tensor(0.5575279, shape=(), dtype=float32)\n",
            "tf.Tensor(2.8404322, shape=(), dtype=float32) tf.Tensor(0.25072455, shape=(), dtype=float32)\n",
            "tf.Tensor(2.5762825, shape=(), dtype=float32) tf.Tensor(0.68530256, shape=(), dtype=float32)\n",
            "tf.Tensor(3.9582143, shape=(), dtype=float32) tf.Tensor(0.12868758, shape=(), dtype=float32)\n",
            "tf.Tensor(3.7569606, shape=(), dtype=float32) tf.Tensor(0.2762518, shape=(), dtype=float32)\n",
            "tf.Tensor(8.861267, shape=(), dtype=float32) tf.Tensor(1.2808108, shape=(), dtype=float32)\n",
            "tf.Tensor(2.390981, shape=(), dtype=float32) tf.Tensor(3.306069, shape=(), dtype=float32)\n"
          ]
        }
      ],
      "source": [
        "vg=train_tot(dataset,50)"
      ],
      "id": "ccfa5253"
    },
    {
      "cell_type": "code",
      "execution_count": null,
      "metadata": {
        "id": "irMIINQjIHU9"
      },
      "outputs": [],
      "source": [
        ""
      ],
      "id": "irMIINQjIHU9"
    },
    {
      "cell_type": "code",
      "execution_count": null,
      "metadata": {
        "id": "fb9fb73b"
      },
      "outputs": [],
      "source": [
        ""
      ],
      "id": "fb9fb73b"
    },
    {
      "cell_type": "code",
      "execution_count": 65,
      "metadata": {
        "id": "NIZMmusCJoSm"
      },
      "outputs": [],
      "source": [
        "ng=np.array(vg*127.5+127.5)"
      ],
      "id": "NIZMmusCJoSm"
    },
    {
      "cell_type": "code",
      "source": [
        "plt.imshow(ng.astype(np.int32))"
      ],
      "metadata": {
        "colab": {
          "base_uri": "https://localhost:8080/",
          "height": 285
        },
        "id": "s9ec-jxDiLtd",
        "outputId": "f3cadc38-b66f-431a-9b3c-5f1fdeae6d25"
      },
      "id": "s9ec-jxDiLtd",
      "execution_count": 66,
      "outputs": [
        {
          "output_type": "execute_result",
          "data": {
            "text/plain": [
              "<matplotlib.image.AxesImage at 0x7f8061dd0810>"
            ]
          },
          "metadata": {},
          "execution_count": 66
        },
        {
          "output_type": "display_data",
          "data": {
            "text/plain": [
              "<Figure size 432x288 with 1 Axes>"
            ],
            "image/png": "[encoded data removed]"
          },
          "metadata": {
            "needs_background": "light"
          }
        }
      ]
    },
    {
      "cell_type": "code",
      "source": [
        "discriminator.predict(tf.expand_dims(vg,0))"
      ],
      "metadata": {
        "colab": {
          "base_uri": "https://localhost:8080/"
        },
        "id": "elZvk4VweRua",
        "outputId": "c5216649-9f61-4a0d-d1cb-460462298f36"
      },
      "id": "elZvk4VweRua",
      "execution_count": 50,
      "outputs": [
        {
          "output_type": "execute_result",
          "data": {
            "text/plain": [
              "array([[0.5354316]], dtype=float32)"
            ]
          },
          "metadata": {},
          "execution_count": 50
        }
      ]
    },
    {
      "cell_type": "code",
      "execution_count": null,
      "metadata": {
        "colab": {
          "base_uri": "https://localhost:8080/"
        },
        "id": "bZGDEhaWNe-r",
        "outputId": "38d610fc-9f53-45d3-db48-14e70c62058b"
      },
      "outputs": [
        {
          "data": {
            "text/plain": [
              "(7,)"
            ]
          },
          "execution_count": 33,
          "metadata": {},
          "output_type": "execute_result"
        }
      ],
      "source": [
        ""
      ],
      "id": "bZGDEhaWNe-r"
    },
    {
      "cell_type": "code",
      "execution_count": 78,
      "metadata": {
        "colab": {
          "base_uri": "https://localhost:8080/",
          "height": 285
        },
        "id": "FZs3Dx_Gotk2",
        "outputId": "a619b9ec-f20d-4cfe-cb56-46c09575e39c"
      },
      "outputs": [
        {
          "output_type": "execute_result",
          "data": {
            "text/plain": [
              "<matplotlib.image.AxesImage at 0x7f80618f5810>"
            ]
          },
          "metadata": {},
          "execution_count": 78
        },
        {
          "output_type": "display_data",
          "data": {
            "text/plain": [
              "<Figure size 432x288 with 1 Axes>"
            ],
            "image/png": "[encoded data removed]"
          },
          "metadata": {
            "needs_background": "light"
          }
        }
      ],
      "source": [
        "noise=generator(tf.random.normal([1,seed_size]),training=False)[0]\n",
        "import matplotlib.pyplot as plt\n",
        "import sys\n",
        "plt.imshow((np.array(noise)*127.5+127.5).astype(np.int32))"
      ],
      "id": "FZs3Dx_Gotk2"
    },
    {
      "cell_type": "code",
      "source": [
        "generator.save(os.path.join(os.getcwd(),'drive/MyDrive'),'art_gen_generator.h5')"
      ],
      "metadata": {
        "colab": {
          "base_uri": "https://localhost:8080/"
        },
        "id": "sJLFotA9B68y",
        "outputId": "a3dc5d7b-c3de-47ed-a209-22e73db86dfc"
      },
      "id": "sJLFotA9B68y",
      "execution_count": 68,
      "outputs": [
        {
          "output_type": "stream",
          "name": "stdout",
          "text": [
            "WARNING:tensorflow:Compiled the loaded model, but the compiled metrics have yet to be built. `model.compile_metrics` will be empty until you train or evaluate the model.\n",
            "INFO:tensorflow:Assets written to: /content/drive/MyDrive/assets\n"
          ]
        }
      ]
    },
    {
      "cell_type": "code",
      "source": [
        ""
      ],
      "metadata": {
        "id": "l4vVrx68CnKA"
      },
      "id": "l4vVrx68CnKA",
      "execution_count": null,
      "outputs": []
    },
    {
      "cell_type": "code",
      "execution_count": null,
      "metadata": {
        "id": "JuJbMdy8LVoU"
      },
      "outputs": [],
      "source": [
        "nn=np.array((noise))"
      ],
      "id": "JuJbMdy8LVoU"
    },
    {
      "cell_type": "code",
      "execution_count": null,
      "metadata": {
        "id": "WYU1y2mYVgOV"
      },
      "outputs": [],
      "source": [
        "os.chdir('/content/drive/MyDrive')"
      ],
      "id": "WYU1y2mYVgOV"
    },
    {
      "cell_type": "code",
      "execution_count": null,
      "metadata": {
        "colab": {
          "base_uri": "https://localhost:8080/",
          "height": 35
        },
        "id": "pUbyWsQyVlXQ",
        "outputId": "df64be2e-e43f-4f83-faad-bc82ad4c1b89"
      },
      "outputs": [
        {
          "data": {
            "application/vnd.google.colaboratory.intrinsic+json": {
              "type": "string"
            },
            "text/plain": [
              "'/content/drive/MyDrive'"
            ]
          },
          "execution_count": 70,
          "metadata": {},
          "output_type": "execute_result"
        }
      ],
      "source": [
        "os.getcwd()"
      ],
      "id": "pUbyWsQyVlXQ"
    },
    {
      "cell_type": "code",
      "execution_count": null,
      "metadata": {
        "id": "1zFhPYoXUiRY"
      },
      "outputs": [],
      "source": [
        "np.save(os.path.join(os.getcwd(),'gg'),nn)"
      ],
      "id": "1zFhPYoXUiRY"
    },
    {
      "cell_type": "code",
      "execution_count": null,
      "metadata": {
        "id": "eMJ5G2nLKjTi"
      },
      "outputs": [],
      "source": [
        "import cv2"
      ],
      "id": "eMJ5G2nLKjTi"
    },
    {
      "cell_type": "code",
      "execution_count": null,
      "metadata": {
        "id": "qGHoHcpqJuGy"
      },
      "outputs": [],
      "source": [
        ""
      ],
      "id": "qGHoHcpqJuGy"
    }
  ],
  "metadata": {
    "accelerator": "GPU",
    "colab": {
      "name": "ArtGeneration_GAN.ipynb",
      "provenance": [],
      "include_colab_link": true
    },
    "kernelspec": {
      "display_name": "Python 3",
      "language": "python",
      "name": "python3"
    },
    "language_info": {
      "codemirror_mode": {
        "name": "ipython",
        "version": 3
      },
      "file_extension": ".py",
      "mimetype": "text/x-python",
      "name": "python",
      "nbconvert_exporter": "python",
      "pygments_lexer": "ipython3",
      "version": "3.7.10"
    },
    "gpuClass": "standard"
  },
  "nbformat": 4,
  "nbformat_minor": 5
}